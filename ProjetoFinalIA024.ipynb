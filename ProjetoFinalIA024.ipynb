{
  "cells": [
    {
      "cell_type": "markdown",
      "metadata": {
        "id": "MGibz6owm7Ja"
      },
      "source": [
        "#Fase 1: Indexar legislação"
      ]
    },
    {
      "cell_type": "code",
      "execution_count": null,
      "metadata": {
        "colab": {
          "base_uri": "https://localhost:8080/"
        },
        "id": "I9rRB6JD6oXN",
        "outputId": "662669a1-3d08-4571-9db4-09c4c5e5ee6a"
      },
      "outputs": [
        {
          "name": "stdout",
          "output_type": "stream",
          "text": [
            "Collecting groq\n",
            "  Downloading groq-0.9.0-py3-none-any.whl (103 kB)\n",
            "\u001b[2K     \u001b[90m━━━━━━━━━━━━━━━━━━━━━━━━━━━━━━━━━━━━━━━━\u001b[0m \u001b[32m103.5/103.5 kB\u001b[0m \u001b[31m1.4 MB/s\u001b[0m eta \u001b[36m0:00:00\u001b[0m\n",
            "\u001b[?25hRequirement already satisfied: anyio<5,>=3.5.0 in /usr/local/lib/python3.10/dist-packages (from groq) (3.7.1)\n",
            "Requirement already satisfied: distro<2,>=1.7.0 in /usr/lib/python3/dist-packages (from groq) (1.7.0)\n",
            "Collecting httpx<1,>=0.23.0 (from groq)\n",
            "  Downloading httpx-0.27.0-py3-none-any.whl (75 kB)\n",
            "\u001b[2K     \u001b[90m━━━━━━━━━━━━━━━━━━━━━━━━━━━━━━━━━━━━━━━━\u001b[0m \u001b[32m75.6/75.6 kB\u001b[0m \u001b[31m3.8 MB/s\u001b[0m eta \u001b[36m0:00:00\u001b[0m\n",
            "\u001b[?25hRequirement already satisfied: pydantic<3,>=1.9.0 in /usr/local/lib/python3.10/dist-packages (from groq) (2.7.4)\n",
            "Requirement already satisfied: sniffio in /usr/local/lib/python3.10/dist-packages (from groq) (1.3.1)\n",
            "Requirement already satisfied: typing-extensions<5,>=4.7 in /usr/local/lib/python3.10/dist-packages (from groq) (4.12.2)\n",
            "Requirement already satisfied: idna>=2.8 in /usr/local/lib/python3.10/dist-packages (from anyio<5,>=3.5.0->groq) (3.7)\n",
            "Requirement already satisfied: exceptiongroup in /usr/local/lib/python3.10/dist-packages (from anyio<5,>=3.5.0->groq) (1.2.1)\n",
            "Requirement already satisfied: certifi in /usr/local/lib/python3.10/dist-packages (from httpx<1,>=0.23.0->groq) (2024.6.2)\n",
            "Collecting httpcore==1.* (from httpx<1,>=0.23.0->groq)\n",
            "  Downloading httpcore-1.0.5-py3-none-any.whl (77 kB)\n",
            "\u001b[2K     \u001b[90m━━━━━━━━━━━━━━━━━━━━━━━━━━━━━━━━━━━━━━━━\u001b[0m \u001b[32m77.9/77.9 kB\u001b[0m \u001b[31m3.2 MB/s\u001b[0m eta \u001b[36m0:00:00\u001b[0m\n",
            "\u001b[?25hCollecting h11<0.15,>=0.13 (from httpcore==1.*->httpx<1,>=0.23.0->groq)\n",
            "  Downloading h11-0.14.0-py3-none-any.whl (58 kB)\n",
            "\u001b[2K     \u001b[90m━━━━━━━━━━━━━━━━━━━━━━━━━━━━━━━━━━━━━━━━\u001b[0m \u001b[32m58.3/58.3 kB\u001b[0m \u001b[31m3.9 MB/s\u001b[0m eta \u001b[36m0:00:00\u001b[0m\n",
            "\u001b[?25hRequirement already satisfied: annotated-types>=0.4.0 in /usr/local/lib/python3.10/dist-packages (from pydantic<3,>=1.9.0->groq) (0.7.0)\n",
            "Requirement already satisfied: pydantic-core==2.18.4 in /usr/local/lib/python3.10/dist-packages (from pydantic<3,>=1.9.0->groq) (2.18.4)\n",
            "Installing collected packages: h11, httpcore, httpx, groq\n",
            "Successfully installed groq-0.9.0 h11-0.14.0 httpcore-1.0.5 httpx-0.27.0\n",
            "\u001b[2K     \u001b[90m━━━━━━━━━━━━━━━━━━━━━━━━━━━━━━━━━━━━━━━━\u001b[0m \u001b[32m154.1/154.1 MB\u001b[0m \u001b[31m4.0 MB/s\u001b[0m eta \u001b[36m0:00:00\u001b[0m\n",
            "\u001b[2K     \u001b[90m━━━━━━━━━━━━━━━━━━━━━━━━━━━━━━━━━━━━━━━━\u001b[0m \u001b[32m1.5/1.5 MB\u001b[0m \u001b[31m31.7 MB/s\u001b[0m eta \u001b[36m0:00:00\u001b[0m\n",
            "\u001b[2K     \u001b[90m━━━━━━━━━━━━━━━━━━━━━━━━━━━━━━━━━━━━━━━━\u001b[0m \u001b[32m188.7/188.7 kB\u001b[0m \u001b[31m10.6 MB/s\u001b[0m eta \u001b[36m0:00:00\u001b[0m\n",
            "\u001b[?25h  Preparing metadata (setup.py) ... \u001b[?25l\u001b[?25hdone\n",
            "\u001b[2K     \u001b[90m━━━━━━━━━━━━━━━━━━━━━━━━━━━━━━━━━━━━━━━━\u001b[0m \u001b[32m6.8/6.8 MB\u001b[0m \u001b[31m28.9 MB/s\u001b[0m eta \u001b[36m0:00:00\u001b[0m\n",
            "\u001b[2K     \u001b[90m━━━━━━━━━━━━━━━━━━━━━━━━━━━━━━━━━━━━━━━━\u001b[0m \u001b[32m46.0/46.0 kB\u001b[0m \u001b[31m3.0 MB/s\u001b[0m eta \u001b[36m0:00:00\u001b[0m\n",
            "\u001b[2K     \u001b[90m━━━━━━━━━━━━━━━━━━━━━━━━━━━━━━━━━━━━━━━━\u001b[0m \u001b[32m86.8/86.8 kB\u001b[0m \u001b[31m5.3 MB/s\u001b[0m eta \u001b[36m0:00:00\u001b[0m\n",
            "\u001b[?25h  Building wheel for nmslib (setup.py) ... \u001b[?25l\u001b[?25hdone\n",
            "Collecting sentence-transformers\n",
            "  Downloading sentence_transformers-3.0.1-py3-none-any.whl (227 kB)\n",
            "\u001b[2K     \u001b[90m━━━━━━━━━━━━━━━━━━━━━━━━━━━━━━━━━━━━━━━━\u001b[0m \u001b[32m227.1/227.1 kB\u001b[0m \u001b[31m4.5 MB/s\u001b[0m eta \u001b[36m0:00:00\u001b[0m\n",
            "\u001b[?25hRequirement already satisfied: transformers<5.0.0,>=4.34.0 in /usr/local/lib/python3.10/dist-packages (from sentence-transformers) (4.41.2)\n",
            "Requirement already satisfied: tqdm in /usr/local/lib/python3.10/dist-packages (from sentence-transformers) (4.66.4)\n",
            "Requirement already satisfied: torch>=1.11.0 in /usr/local/lib/python3.10/dist-packages (from sentence-transformers) (2.3.0+cu121)\n",
            "Requirement already satisfied: numpy in /usr/local/lib/python3.10/dist-packages (from sentence-transformers) (1.25.2)\n",
            "Requirement already satisfied: scikit-learn in /usr/local/lib/python3.10/dist-packages (from sentence-transformers) (1.2.2)\n",
            "Requirement already satisfied: scipy in /usr/local/lib/python3.10/dist-packages (from sentence-transformers) (1.11.4)\n",
            "Requirement already satisfied: huggingface-hub>=0.15.1 in /usr/local/lib/python3.10/dist-packages (from sentence-transformers) (0.23.4)\n",
            "Requirement already satisfied: Pillow in /usr/local/lib/python3.10/dist-packages (from sentence-transformers) (9.4.0)\n",
            "Requirement already satisfied: filelock in /usr/local/lib/python3.10/dist-packages (from huggingface-hub>=0.15.1->sentence-transformers) (3.15.3)\n",
            "Requirement already satisfied: fsspec>=2023.5.0 in /usr/local/lib/python3.10/dist-packages (from huggingface-hub>=0.15.1->sentence-transformers) (2023.6.0)\n",
            "Requirement already satisfied: packaging>=20.9 in /usr/local/lib/python3.10/dist-packages (from huggingface-hub>=0.15.1->sentence-transformers) (24.1)\n",
            "Requirement already satisfied: pyyaml>=5.1 in /usr/local/lib/python3.10/dist-packages (from huggingface-hub>=0.15.1->sentence-transformers) (6.0.1)\n",
            "Requirement already satisfied: requests in /usr/local/lib/python3.10/dist-packages (from huggingface-hub>=0.15.1->sentence-transformers) (2.31.0)\n",
            "Requirement already satisfied: typing-extensions>=3.7.4.3 in /usr/local/lib/python3.10/dist-packages (from huggingface-hub>=0.15.1->sentence-transformers) (4.12.2)\n",
            "Requirement already satisfied: sympy in /usr/local/lib/python3.10/dist-packages (from torch>=1.11.0->sentence-transformers) (1.12.1)\n",
            "Requirement already satisfied: networkx in /usr/local/lib/python3.10/dist-packages (from torch>=1.11.0->sentence-transformers) (3.3)\n",
            "Requirement already satisfied: jinja2 in /usr/local/lib/python3.10/dist-packages (from torch>=1.11.0->sentence-transformers) (3.1.4)\n",
            "Collecting nvidia-cuda-nvrtc-cu12==12.1.105 (from torch>=1.11.0->sentence-transformers)\n",
            "  Using cached nvidia_cuda_nvrtc_cu12-12.1.105-py3-none-manylinux1_x86_64.whl (23.7 MB)\n",
            "Collecting nvidia-cuda-runtime-cu12==12.1.105 (from torch>=1.11.0->sentence-transformers)\n",
            "  Using cached nvidia_cuda_runtime_cu12-12.1.105-py3-none-manylinux1_x86_64.whl (823 kB)\n",
            "Collecting nvidia-cuda-cupti-cu12==12.1.105 (from torch>=1.11.0->sentence-transformers)\n",
            "  Using cached nvidia_cuda_cupti_cu12-12.1.105-py3-none-manylinux1_x86_64.whl (14.1 MB)\n",
            "Collecting nvidia-cudnn-cu12==8.9.2.26 (from torch>=1.11.0->sentence-transformers)\n",
            "  Using cached nvidia_cudnn_cu12-8.9.2.26-py3-none-manylinux1_x86_64.whl (731.7 MB)\n",
            "Collecting nvidia-cublas-cu12==12.1.3.1 (from torch>=1.11.0->sentence-transformers)\n",
            "  Using cached nvidia_cublas_cu12-12.1.3.1-py3-none-manylinux1_x86_64.whl (410.6 MB)\n",
            "Collecting nvidia-cufft-cu12==11.0.2.54 (from torch>=1.11.0->sentence-transformers)\n",
            "  Using cached nvidia_cufft_cu12-11.0.2.54-py3-none-manylinux1_x86_64.whl (121.6 MB)\n",
            "Collecting nvidia-curand-cu12==10.3.2.106 (from torch>=1.11.0->sentence-transformers)\n",
            "  Using cached nvidia_curand_cu12-10.3.2.106-py3-none-manylinux1_x86_64.whl (56.5 MB)\n",
            "Collecting nvidia-cusolver-cu12==11.4.5.107 (from torch>=1.11.0->sentence-transformers)\n",
            "  Using cached nvidia_cusolver_cu12-11.4.5.107-py3-none-manylinux1_x86_64.whl (124.2 MB)\n",
            "Collecting nvidia-cusparse-cu12==12.1.0.106 (from torch>=1.11.0->sentence-transformers)\n",
            "  Using cached nvidia_cusparse_cu12-12.1.0.106-py3-none-manylinux1_x86_64.whl (196.0 MB)\n",
            "Collecting nvidia-nccl-cu12==2.20.5 (from torch>=1.11.0->sentence-transformers)\n",
            "  Using cached nvidia_nccl_cu12-2.20.5-py3-none-manylinux2014_x86_64.whl (176.2 MB)\n",
            "Collecting nvidia-nvtx-cu12==12.1.105 (from torch>=1.11.0->sentence-transformers)\n",
            "  Using cached nvidia_nvtx_cu12-12.1.105-py3-none-manylinux1_x86_64.whl (99 kB)\n",
            "Requirement already satisfied: triton==2.3.0 in /usr/local/lib/python3.10/dist-packages (from torch>=1.11.0->sentence-transformers) (2.3.0)\n",
            "Collecting nvidia-nvjitlink-cu12 (from nvidia-cusolver-cu12==11.4.5.107->torch>=1.11.0->sentence-transformers)\n",
            "  Downloading nvidia_nvjitlink_cu12-12.5.40-py3-none-manylinux2014_x86_64.whl (21.3 MB)\n",
            "\u001b[2K     \u001b[90m━━━━━━━━━━━━━━━━━━━━━━━━━━━━━━━━━━━━━━━━\u001b[0m \u001b[32m21.3/21.3 MB\u001b[0m \u001b[31m52.0 MB/s\u001b[0m eta \u001b[36m0:00:00\u001b[0m\n",
            "\u001b[?25hRequirement already satisfied: regex!=2019.12.17 in /usr/local/lib/python3.10/dist-packages (from transformers<5.0.0,>=4.34.0->sentence-transformers) (2024.5.15)\n",
            "Requirement already satisfied: tokenizers<0.20,>=0.19 in /usr/local/lib/python3.10/dist-packages (from transformers<5.0.0,>=4.34.0->sentence-transformers) (0.19.1)\n",
            "Requirement already satisfied: safetensors>=0.4.1 in /usr/local/lib/python3.10/dist-packages (from transformers<5.0.0,>=4.34.0->sentence-transformers) (0.4.3)\n",
            "Requirement already satisfied: joblib>=1.1.1 in /usr/local/lib/python3.10/dist-packages (from scikit-learn->sentence-transformers) (1.4.2)\n",
            "Requirement already satisfied: threadpoolctl>=2.0.0 in /usr/local/lib/python3.10/dist-packages (from scikit-learn->sentence-transformers) (3.5.0)\n",
            "Requirement already satisfied: MarkupSafe>=2.0 in /usr/local/lib/python3.10/dist-packages (from jinja2->torch>=1.11.0->sentence-transformers) (2.1.5)\n",
            "Requirement already satisfied: charset-normalizer<4,>=2 in /usr/local/lib/python3.10/dist-packages (from requests->huggingface-hub>=0.15.1->sentence-transformers) (3.3.2)\n",
            "Requirement already satisfied: idna<4,>=2.5 in /usr/local/lib/python3.10/dist-packages (from requests->huggingface-hub>=0.15.1->sentence-transformers) (3.7)\n",
            "Requirement already satisfied: urllib3<3,>=1.21.1 in /usr/local/lib/python3.10/dist-packages (from requests->huggingface-hub>=0.15.1->sentence-transformers) (2.0.7)\n",
            "Requirement already satisfied: certifi>=2017.4.17 in /usr/local/lib/python3.10/dist-packages (from requests->huggingface-hub>=0.15.1->sentence-transformers) (2024.6.2)\n",
            "Requirement already satisfied: mpmath<1.4.0,>=1.1.0 in /usr/local/lib/python3.10/dist-packages (from sympy->torch>=1.11.0->sentence-transformers) (1.3.0)\n",
            "Installing collected packages: nvidia-nvtx-cu12, nvidia-nvjitlink-cu12, nvidia-nccl-cu12, nvidia-curand-cu12, nvidia-cufft-cu12, nvidia-cuda-runtime-cu12, nvidia-cuda-nvrtc-cu12, nvidia-cuda-cupti-cu12, nvidia-cublas-cu12, nvidia-cusparse-cu12, nvidia-cudnn-cu12, nvidia-cusolver-cu12, sentence-transformers\n",
            "Successfully installed nvidia-cublas-cu12-12.1.3.1 nvidia-cuda-cupti-cu12-12.1.105 nvidia-cuda-nvrtc-cu12-12.1.105 nvidia-cuda-runtime-cu12-12.1.105 nvidia-cudnn-cu12-8.9.2.26 nvidia-cufft-cu12-11.0.2.54 nvidia-curand-cu12-10.3.2.106 nvidia-cusolver-cu12-11.4.5.107 nvidia-cusparse-cu12-12.1.0.106 nvidia-nccl-cu12-2.20.5 nvidia-nvjitlink-cu12-12.5.40 nvidia-nvtx-cu12-12.1.105 sentence-transformers-3.0.1\n"
          ]
        }
      ],
      "source": [
        "!pip install groq\n",
        "!pip install -q pyserini==0.21.0\n",
        "!pip install sentence-transformers"
      ]
    },
    {
      "cell_type": "code",
      "execution_count": null,
      "metadata": {
        "colab": {
          "base_uri": "https://localhost:8080/"
        },
        "id": "FEpOAgVXnMbE",
        "outputId": "82b7d4a4-8596-4949-a2c8-7bb36c86558e"
      },
      "outputs": [
        {
          "name": "stdout",
          "output_type": "stream",
          "text": [
            "Drive already mounted at /content/drive; to attempt to forcibly remount, call drive.mount(\"/content/drive\", force_remount=True).\n"
          ]
        }
      ],
      "source": [
        "import re\n",
        "import json\n",
        "from bs4 import BeautifulSoup\n",
        "from google.colab import drive\n",
        "drive.mount('/content/drive')\n",
        "import groq\n",
        "from groq import Groq\n",
        "import numpy as np\n",
        "from tqdm import tqdm\n",
        "from google.colab import userdata\n",
        "import time\n",
        "import pickle"
      ]
    },
    {
      "cell_type": "code",
      "execution_count": null,
      "metadata": {
        "id": "xnM8_VAFnrv3"
      },
      "outputs": [],
      "source": [
        "file_path = 'DEL5452.html'\n",
        "\n",
        "with open(file_path, 'r', encoding = 'latin-1', errors = 'ignore') as file:\n",
        "    clt_txt = file.read()"
      ]
    },
    {
      "cell_type": "markdown",
      "metadata": {
        "id": "zJl9Gj8nogBW"
      },
      "source": [
        "##Removendo artigos alterados"
      ]
    },
    {
      "cell_type": "code",
      "execution_count": null,
      "metadata": {
        "id": "FAZpy-Ylov3v"
      },
      "outputs": [],
      "source": [
        "pattern = r'<strike>.*?<\\/strike>'\n",
        "clt_txt = re.sub(pattern, '', clt_txt, flags = re.DOTALL)"
      ]
    },
    {
      "cell_type": "markdown",
      "metadata": {
        "id": "i5Yz_toFrQM0"
      },
      "source": [
        "## Selecionando artigos e parágrafos"
      ]
    },
    {
      "cell_type": "code",
      "execution_count": null,
      "metadata": {
        "colab": {
          "base_uri": "https://localhost:8080/"
        },
        "id": "Y_YWjFGnrblK",
        "outputId": "3d902087-9c10-49a0-beab-6e41503d4c2d"
      },
      "outputs": [
        {
          "data": {
            "text/plain": [
              "2877"
            ]
          },
          "execution_count": 5,
          "metadata": {},
          "output_type": "execute_result"
        }
      ],
      "source": [
        "pattern = r'<a name=\"art.*?<\\/font>'\n",
        "paragraphs = re.findall(pattern, clt_txt, re.DOTALL)\n",
        "len(paragraphs)"
      ]
    },
    {
      "cell_type": "markdown",
      "metadata": {
        "id": "hpyfVBXe5ADI"
      },
      "source": [
        "##Limpeza das tags html e listagem dos artigos da CLT"
      ]
    },
    {
      "cell_type": "code",
      "execution_count": null,
      "metadata": {
        "id": "JswzQtgKrjm9"
      },
      "outputs": [],
      "source": [
        "clean_paragraphs = []\n",
        "agregated_text = ''\n",
        "prev_title = 0\n",
        "for i in paragraphs:\n",
        "  title = re.findall('\\d+', re.findall(r'name=\\\"art(.*?)\\>', i)[0])[0]\n",
        "  soup = BeautifulSoup(i, 'html.parser')\n",
        "  texto = soup.get_text(separator=' ', strip=True)\n",
        "  texto = re.sub(r'[\\n\\xa0\\t]', '', texto)\n",
        "  texto = re.sub(r'\\((.*?)\\)', '', texto)\n",
        "  if prev_title == title:\n",
        "    if texto != '':\n",
        "      agregated_text += texto + '\\n'\n",
        "  else:\n",
        "    clean_paragraphs.append({\"contents\": agregated_text, \"title\": prev_title})\n",
        "    agregated_text = texto + '\\n'\n",
        "    prev_title = title"
      ]
    },
    {
      "cell_type": "markdown",
      "metadata": {
        "id": "ru9cZQaf5Nbu"
      },
      "source": [
        "##Indexação para busca com BM25 pelo pyserini"
      ]
    },
    {
      "cell_type": "code",
      "execution_count": null,
      "metadata": {
        "id": "8AUHS6xHmPhf"
      },
      "outputs": [],
      "source": [
        "!mkdir data\n",
        "!mkdir data/clt_indices"
      ]
    },
    {
      "cell_type": "code",
      "execution_count": null,
      "metadata": {
        "id": "m7j5WynxmP6J"
      },
      "outputs": [],
      "source": [
        "f = open(\"data/clt_indices/contents.jsonl\",'w')\n",
        "id_finder = dict()\n",
        "\n",
        "for i, doc in enumerate(clean_paragraphs):\n",
        "    doc['id'] = i\n",
        "    id_finder[doc['title']] = i\n",
        "    if doc['contents'] != \"\":\n",
        "        f.write(json.dumps(doc)+\"\\n\")"
      ]
    },
    {
      "cell_type": "code",
      "execution_count": null,
      "metadata": {
        "colab": {
          "base_uri": "https://localhost:8080/"
        },
        "id": "ocvSCAelmUER",
        "outputId": "4103b959-e3bc-4e56-f754-d1800f6db18c"
      },
      "outputs": [
        {
          "name": "stdout",
          "output_type": "stream",
          "text": [
            "pyserini.index is deprecated, please use pyserini.index.lucene.\n",
            "WARNING: sun.reflect.Reflection.getCallerClass is not supported. This will impact performance.\n",
            "2024-06-26 13:47:27,061 INFO  [main] index.IndexCollection (IndexCollection.java:380) - Setting log level to INFO\n",
            "2024-06-26 13:47:27,064 INFO  [main] index.IndexCollection (IndexCollection.java:383) - Starting indexer...\n",
            "2024-06-26 13:47:27,065 INFO  [main] index.IndexCollection (IndexCollection.java:384) - ============ Loading Parameters ============\n",
            "2024-06-26 13:47:27,065 INFO  [main] index.IndexCollection (IndexCollection.java:385) - DocumentCollection path: data/clt_indices\n",
            "2024-06-26 13:47:27,066 INFO  [main] index.IndexCollection (IndexCollection.java:386) - CollectionClass: JsonCollection\n",
            "2024-06-26 13:47:27,067 INFO  [main] index.IndexCollection (IndexCollection.java:387) - Generator: DefaultLuceneDocumentGenerator\n",
            "2024-06-26 13:47:27,067 INFO  [main] index.IndexCollection (IndexCollection.java:388) - Threads: 1\n",
            "2024-06-26 13:47:27,067 INFO  [main] index.IndexCollection (IndexCollection.java:389) - Language: en\n",
            "2024-06-26 13:47:27,068 INFO  [main] index.IndexCollection (IndexCollection.java:390) - Stemmer: porter\n",
            "2024-06-26 13:47:27,068 INFO  [main] index.IndexCollection (IndexCollection.java:391) - Keep stopwords? false\n",
            "2024-06-26 13:47:27,069 INFO  [main] index.IndexCollection (IndexCollection.java:392) - Stopwords: null\n",
            "2024-06-26 13:47:27,069 INFO  [main] index.IndexCollection (IndexCollection.java:393) - Store positions? false\n",
            "2024-06-26 13:47:27,069 INFO  [main] index.IndexCollection (IndexCollection.java:394) - Store docvectors? false\n",
            "2024-06-26 13:47:27,070 INFO  [main] index.IndexCollection (IndexCollection.java:395) - Store document \"contents\" field? false\n",
            "2024-06-26 13:47:27,070 INFO  [main] index.IndexCollection (IndexCollection.java:396) - Store document \"raw\" field? true\n",
            "2024-06-26 13:47:27,071 INFO  [main] index.IndexCollection (IndexCollection.java:397) - Additional fields to index: []\n",
            "2024-06-26 13:47:27,071 INFO  [main] index.IndexCollection (IndexCollection.java:398) - Optimize (merge segments)? false\n",
            "2024-06-26 13:47:27,071 INFO  [main] index.IndexCollection (IndexCollection.java:399) - Whitelist: null\n",
            "2024-06-26 13:47:27,072 INFO  [main] index.IndexCollection (IndexCollection.java:400) - Pretokenized?: false\n",
            "2024-06-26 13:47:27,072 INFO  [main] index.IndexCollection (IndexCollection.java:401) - Index path: data/clt_index\n",
            "2024-06-26 13:47:27,084 INFO  [main] index.IndexCollection (IndexCollection.java:481) - ============ Indexing Collection ============\n",
            "2024-06-26 13:47:27,136 INFO  [main] index.IndexCollection (IndexCollection.java:468) - Using DefaultEnglishAnalyzer\n",
            "2024-06-26 13:47:27,138 INFO  [main] index.IndexCollection (IndexCollection.java:469) - Stemmer: porter\n",
            "2024-06-26 13:47:27,140 INFO  [main] index.IndexCollection (IndexCollection.java:470) - Keep stopwords? false\n",
            "2024-06-26 13:47:27,148 INFO  [main] index.IndexCollection (IndexCollection.java:471) - Stopwords file: null\n",
            "2024-06-26 13:47:27,721 INFO  [main] index.IndexCollection (IndexCollection.java:510) - Thread pool with 1 threads initialized.\n",
            "2024-06-26 13:47:27,722 INFO  [main] index.IndexCollection (IndexCollection.java:512) - Initializing collection in data/clt_indices\n",
            "2024-06-26 13:47:27,731 INFO  [main] index.IndexCollection (IndexCollection.java:521) - 1 file found\n",
            "2024-06-26 13:47:27,732 INFO  [main] index.IndexCollection (IndexCollection.java:522) - Starting to index...\n",
            "2024-06-26 13:47:29,190 DEBUG [pool-2-thread-1] index.IndexCollection$LocalIndexerThread (IndexCollection.java:345) - clt_indices/contents.jsonl: 653 docs added.\n",
            "2024-06-26 13:47:30,000 INFO  [main] index.IndexCollection (IndexCollection.java:578) - Indexing Complete! 653 documents indexed\n",
            "2024-06-26 13:47:30,009 INFO  [main] index.IndexCollection (IndexCollection.java:579) - ============ Final Counter Values ============\n",
            "2024-06-26 13:47:30,010 INFO  [main] index.IndexCollection (IndexCollection.java:580) - indexed:              653\n",
            "2024-06-26 13:47:30,010 INFO  [main] index.IndexCollection (IndexCollection.java:581) - unindexable:            0\n",
            "2024-06-26 13:47:30,010 INFO  [main] index.IndexCollection (IndexCollection.java:582) - empty:                179\n",
            "2024-06-26 13:47:30,011 INFO  [main] index.IndexCollection (IndexCollection.java:583) - skipped:                0\n",
            "2024-06-26 13:47:30,011 INFO  [main] index.IndexCollection (IndexCollection.java:584) - errors:                 0\n",
            "2024-06-26 13:47:30,026 INFO  [main] index.IndexCollection (IndexCollection.java:587) - Total 653 documents indexed in 00:00:02\n"
          ]
        }
      ],
      "source": [
        "!python3 -m pyserini.index -collection JsonCollection -generator DefaultLuceneDocumentGenerator -threads 1 -input data/clt_indices -index data/clt_index -storeRaw"
      ]
    },
    {
      "cell_type": "markdown",
      "metadata": {
        "id": "K4uMnj1mG6kH"
      },
      "source": [
        "#Fase 2: Elencar perguntas e respostas\n"
      ]
    },
    {
      "cell_type": "markdown",
      "metadata": {
        "id": "DckrGkAd5Tm0"
      },
      "source": [
        "##Carregar perguntas do site da jusbrasil"
      ]
    },
    {
      "cell_type": "code",
      "execution_count": null,
      "metadata": {
        "id": "3sfxoi5jG926"
      },
      "outputs": [],
      "source": [
        "file_path = '50perguntas.txt'\n",
        "with open(file_path, 'r', encoding = 'utf-8') as file:\n",
        "  jus_p = file.read()"
      ]
    },
    {
      "cell_type": "markdown",
      "metadata": {
        "id": "4QG3DwVu5biK"
      },
      "source": [
        "##Separação das perguntas e respostas"
      ]
    },
    {
      "cell_type": "code",
      "execution_count": null,
      "metadata": {
        "id": "sIyLPRQqSut3"
      },
      "outputs": [],
      "source": [
        "perguntas = dict()\n",
        "resposta = ''\n",
        "pergunta = ''\n",
        "for i in jus_p.split('\\n\\n'):\n",
        "  if i[0].isdigit() and '-' in i:\n",
        "    if resposta != '':\n",
        "      perguntas[re.sub(r'\\d+ - ','', pergunta)] = resposta\n",
        "      pergunta = ''\n",
        "      resposta = ''\n",
        "    pergunta = i\n",
        "  else:\n",
        "    resposta += (i + '\\n')\n",
        "  [i for i in jus_p.split('\\n\\n') if i[0].isdigit() and '-' in i]"
      ]
    },
    {
      "cell_type": "markdown",
      "metadata": {
        "id": "MPTkdX0EbHdv"
      },
      "source": [
        "#Fase 3: Criar novas perguntas"
      ]
    },
    {
      "cell_type": "code",
      "execution_count": null,
      "metadata": {
        "colab": {
          "base_uri": "https://localhost:8080/"
        },
        "id": "nYRUC-IXx0Qi",
        "outputId": "c9674a65-ff01-4c5e-9af3-c4a526b435ad"
      },
      "outputs": [
        {
          "name": "stdout",
          "output_type": "stream",
          "text": [
            "Requirement already satisfied: pip in /usr/local/lib/python3.10/dist-packages (23.1.2)\n",
            "Collecting pip\n",
            "  Downloading pip-24.1-py3-none-any.whl (1.8 MB)\n",
            "\u001b[2K     \u001b[90m━━━━━━━━━━━━━━━━━━━━━━━━━━━━━━━━━━━━━━━━\u001b[0m \u001b[32m1.8/1.8 MB\u001b[0m \u001b[31m6.7 MB/s\u001b[0m eta \u001b[36m0:00:00\u001b[0m\n",
            "\u001b[?25hInstalling collected packages: pip\n",
            "  Attempting uninstall: pip\n",
            "    Found existing installation: pip 23.1.2\n",
            "    Uninstalling pip-23.1.2:\n",
            "      Successfully uninstalled pip-23.1.2\n",
            "Successfully installed pip-24.1\n",
            "Collecting faiss-cpu\n",
            "  Downloading faiss_cpu-1.8.0.post1-cp310-cp310-manylinux_2_17_x86_64.manylinux2014_x86_64.whl.metadata (3.7 kB)\n",
            "Requirement already satisfied: numpy<2.0,>=1.0 in /usr/local/lib/python3.10/dist-packages (from faiss-cpu) (1.25.2)\n",
            "Requirement already satisfied: packaging in /usr/local/lib/python3.10/dist-packages (from faiss-cpu) (24.1)\n",
            "Downloading faiss_cpu-1.8.0.post1-cp310-cp310-manylinux_2_17_x86_64.manylinux2014_x86_64.whl (27.0 MB)\n",
            "\u001b[2K   \u001b[90m━━━━━━━━━━━━━━━━━━━━━━━━━━━━━━━━━━━━━━━━\u001b[0m \u001b[32m27.0/27.0 MB\u001b[0m \u001b[31m52.2 MB/s\u001b[0m eta \u001b[36m0:00:00\u001b[0m\n",
            "\u001b[?25hInstalling collected packages: faiss-cpu\n",
            "Successfully installed faiss-cpu-1.8.0.post1\n",
            "\u001b[33mWARNING: Running pip as the 'root' user can result in broken permissions and conflicting behaviour with the system package manager, possibly rendering your system unusable.It is recommended to use a virtual environment instead: https://pip.pypa.io/warnings/venv. Use the --root-user-action option if you know what you are doing and want to suppress this warning.\u001b[0m\u001b[33m\n",
            "\u001b[0m"
          ]
        }
      ],
      "source": [
        "!python -m pip install --upgrade pip\n",
        "!pip install faiss-cpu"
      ]
    },
    {
      "cell_type": "code",
      "execution_count": null,
      "metadata": {
        "colab": {
          "base_uri": "https://localhost:8080/"
        },
        "id": "NFdZHey7bkGB",
        "outputId": "cdc4c4ed-03c4-4a71-c01e-8ed3b8036c10"
      },
      "outputs": [
        {
          "name": "stdout",
          "output_type": "stream",
          "text": [
            "SimpleSearcher class has been deprecated, please use LuceneSearcher from pyserini.search.lucene instead\n"
          ]
        }
      ],
      "source": [
        "from pyserini.search import SimpleSearcher\n",
        "\n",
        "searcher = SimpleSearcher('./data/clt_index')"
      ]
    },
    {
      "cell_type": "code",
      "execution_count": null,
      "metadata": {
        "id": "hPhTW-mXb_JF"
      },
      "outputs": [],
      "source": [
        "def query_prompt(query):\n",
        "  '''\n",
        "  Dada uma query, faz uma busca na CLT previamente indexada e retorna os 5 artigos mais relevantes.\n",
        "\n",
        "  Input: query (str): A query a ser buscada na CLT\n",
        "\n",
        "  Output: Uma string com os 5 artigos mais relevantes para a query, separados por duas quebras de linha.\n",
        "  '''\n",
        "  arts = []\n",
        "  hits = searcher.search(query, k = 5)\n",
        "  ask = \"\\n\\nOs artigos utilizados são:\\n\\n\"\n",
        "  for idx, hit in enumerate(hits):\n",
        "    hit = json.loads(hit.raw)\n",
        "    ask += \"{art}\\n\\n\".format(idx = idx, art = hit['contents'])\n",
        "    arts.append(hit['title'])\n",
        "  return ask, arts"
      ]
    },
    {
      "cell_type": "code",
      "execution_count": null,
      "metadata": {
        "id": "WobrC6gX5nTS"
      },
      "outputs": [],
      "source": [
        "client = Groq(api_key=userdata.get('groq.key'))\n",
        "def send_message(message):\n",
        "    '''\n",
        "    Dada uma mensagem, manda pelo groq para o llama3-70b-8192 e retorna a resposta do LLM.\n",
        "\n",
        "    Input: message (str): A mensagem a ser enviada ao LLM.\n",
        "\n",
        "    Observações: Note que para minimizar as incertezas do processo e buscando maximizar a qualidade da resposta,\n",
        "    estamos usando a temperatura 0 e top_p 1.\n",
        "\n",
        "    Output: Uma string contendo a saída do Llama3\n",
        "    '''\n",
        "    chat_completion = client.chat.completions.create(\n",
        "        messages=[{\"role\": \"user\", \"content\": message}],\n",
        "        model='llama3-70b-8192',\n",
        "        temperature = 0,\n",
        "        top_p = 1\n",
        "    )\n",
        "    return chat_completion.choices[0].message.content"
      ]
    },
    {
      "cell_type": "code",
      "execution_count": null,
      "metadata": {
        "id": "NWfBBjR95-Bk"
      },
      "outputs": [],
      "source": [
        "def create_question(article):\n",
        "  '''\n",
        "  Dado um artigo, este agente buscará formular um par pergunta - resposta.\n",
        "\n",
        "  Input: article (str): O artigo da CLT em cima do qual se deseja formular uma pergunta.\n",
        "\n",
        "  Observações: Note que para gerar a questão o agente usa um exemplo das perguntas da Jusbrasil\n",
        "  como one-shot.\n",
        "\n",
        "  Output: Uma string contendo a saída do agente, que idealmente será um par pergunta - resposta\n",
        "  baseado no artigo de entrada. O padrão é Pergunta: --- Resposta: ---.\n",
        "  '''\n",
        "\n",
        "  return send_message('''Você está escrevendo perguntas para um concurso de direito do trabalho, seu papel é utilizar um artigo para gerar uma questão na qual o profissional dessa área se depare no futuro. Segue abaixo um exemplo para mostrar o que deve ser feito:\n",
        "\n",
        "Artigo: Art. 473 - O empregado poderá deixar de comparecer ao serviço sem prejuízo do salário: \\n\\nII - até 3  dias consecutivos, em virtude de casamento; \\nIII - por 5  dias consecutivos, em caso de nascimento de filho, de adoção ou de guarda compartilhada; \\nIV - por um dia, em cada 12  meses de trabalho, em caso de doação voluntária desangue devidamente comprovada; \\nV - até 2  dias consecutivos ou não, para o fim de se alistar eleitor, nos têrmosda lei respectiva. \\nVI - no período de tempo em que tiver de cumprir as exigências doServiço Militar referidas na letra \"c\" do art. 65 da Lei nº 4.375, de 17 deagosto de 1964 . \\n\\n\\nIX - pelo tempo que se fizer necessário, quando, na qualidade derepresentante de entidade sindical, estiver participando de reunião oficial de organismointernacional do qual o Brasil seja membro. \\nX - até 2  dias para acompanhar consultas médicas e exames complementares durante o período de gravidez de sua esposa ou companheira;  X - pelo tempo necessário para acompanhar sua esposa ou companheira em até 6  consultas médicas, ou em exames complementares, durante o período de gravidez;  XI - por 1  dia por ano para acompanhar filho de até 6  anos em consulta médica.  XII - até 3  dias, em cada 12  meses de trabalho, em caso de realização de exames preventivos de câncer devidamente comprovada. \\nParágrafo único. O prazo a que se refere o inciso III do caput deste artigo será contado a partir da data de nascimento do filho.\n",
        "Pergunta: CASEI, POSSO FALTAR AO SERVIÇO SEM TER O SALÁRIO DESCONTADO?\n",
        "Resposta: Sim, o trabalhador que vai se casar tem direito a três dias seguidos de folga, sem que tenha nenhum tipo de desconto no salário.\n",
        "\n",
        "Agora faça uma pergunta e uma resposta usando a mesma formatação, embasando-se apenas no artigo a seguir:\n",
        "Artigo: {artigo}\n",
        "'''.format(artigo = article))\n"
      ]
    },
    {
      "cell_type": "code",
      "execution_count": null,
      "metadata": {
        "id": "mwjHZRtMCQFT"
      },
      "outputs": [],
      "source": [
        "def judge_question(question):\n",
        "  '''\n",
        "  Dada uma questão, este agente avalia se a pergunta é válida ou inválida.\n",
        "\n",
        "  Input: question (str): Um par pergunta - resposta.\n",
        "\n",
        "  Observações: Esse agente também usa uma das questões que julguei inválidas como exemplo para one-shot.\n",
        "\n",
        "  Output: Uma string indicando se a pergunta é válida ou não no formato: Aprovada: (Sim/Não)\n",
        "  '''\n",
        "\n",
        "  return send_message('''Você está montando um concurso de direito do trabalho, e está recebendo sugestões de perguntas para aplicar na sua prova. Seu papel é avaliar se a pergunta faz\n",
        "sentido sem dar informações adicionais ao participante... Julgue o seguinte par pergunta e resposta:\n",
        "\n",
        "Descarte as perguntas que fazem referência a informações que não possam ser recuperadas, exemplo: QUAL É O OBJETIVO PRINCIPAL DESTA CONSOLIDAÇÃO? deve ser descartada, pois como saberemos o que \"esta consolidação\" faz referência?\n",
        "\n",
        "Pergunta: {question}\n",
        "\n",
        "Responda de acordo com a formatação abaixo:\n",
        "\n",
        "Aprovada: Sim / Não\n",
        "'''.format(question = question))"
      ]
    },
    {
      "cell_type": "code",
      "execution_count": null,
      "metadata": {
        "colab": {
          "base_uri": "https://localhost:8080/"
        },
        "id": "SuRCo8gRyYOP",
        "outputId": "a096c16d-5d56-49c9-e597-899604f3cdf4"
      },
      "outputs": [
        {
          "name": "stderr",
          "output_type": "stream",
          "text": [
            "  3%|▎         | 26/844 [03:43<2:24:19, 10.59s/it]"
          ]
        },
        {
          "name": "stdout",
          "output_type": "stream",
          "text": [
            "writing q's at idx  25\n"
          ]
        },
        {
          "name": "stderr",
          "output_type": "stream",
          "text": [
            "  6%|▌         | 51/844 [08:33<3:10:18, 14.40s/it]"
          ]
        },
        {
          "name": "stdout",
          "output_type": "stream",
          "text": [
            "writing q's at idx  50\n"
          ]
        },
        {
          "name": "stderr",
          "output_type": "stream",
          "text": [
            "  9%|▉         | 76/844 [13:13<2:24:20, 11.28s/it]"
          ]
        },
        {
          "name": "stdout",
          "output_type": "stream",
          "text": [
            "writing q's at idx  75\n"
          ]
        },
        {
          "name": "stderr",
          "output_type": "stream",
          "text": [
            " 12%|█▏        | 101/844 [17:47<2:23:40, 11.60s/it]"
          ]
        },
        {
          "name": "stdout",
          "output_type": "stream",
          "text": [
            "writing q's at idx  100\n"
          ]
        },
        {
          "name": "stderr",
          "output_type": "stream",
          "text": [
            " 15%|█▍        | 126/844 [22:25<2:12:21, 11.06s/it]"
          ]
        },
        {
          "name": "stdout",
          "output_type": "stream",
          "text": [
            "writing q's at idx  125\n"
          ]
        },
        {
          "name": "stderr",
          "output_type": "stream",
          "text": [
            " 18%|█▊        | 151/844 [26:54<2:01:28, 10.52s/it]"
          ]
        },
        {
          "name": "stdout",
          "output_type": "stream",
          "text": [
            "writing q's at idx  150\n"
          ]
        },
        {
          "name": "stderr",
          "output_type": "stream",
          "text": [
            " 21%|██        | 176/844 [31:29<1:58:13, 10.62s/it]"
          ]
        },
        {
          "name": "stdout",
          "output_type": "stream",
          "text": [
            "writing q's at idx  175\n"
          ]
        },
        {
          "name": "stderr",
          "output_type": "stream",
          "text": [
            " 24%|██▍       | 201/844 [36:47<2:40:30, 14.98s/it]"
          ]
        },
        {
          "name": "stdout",
          "output_type": "stream",
          "text": [
            "writing q's at idx  200\n"
          ]
        },
        {
          "name": "stderr",
          "output_type": "stream",
          "text": [
            " 27%|██▋       | 226/844 [41:21<1:45:34, 10.25s/it]"
          ]
        },
        {
          "name": "stdout",
          "output_type": "stream",
          "text": [
            "writing q's at idx  225\n"
          ]
        },
        {
          "name": "stderr",
          "output_type": "stream",
          "text": [
            " 30%|██▉       | 251/844 [45:44<1:44:58, 10.62s/it]"
          ]
        },
        {
          "name": "stdout",
          "output_type": "stream",
          "text": [
            "writing q's at idx  250\n"
          ]
        },
        {
          "name": "stderr",
          "output_type": "stream",
          "text": [
            " 33%|███▎      | 276/844 [50:26<1:41:20, 10.71s/it]"
          ]
        },
        {
          "name": "stdout",
          "output_type": "stream",
          "text": [
            "writing q's at idx  275\n"
          ]
        },
        {
          "name": "stderr",
          "output_type": "stream",
          "text": [
            " 39%|███▊      | 326/844 [59:27<1:32:00, 10.66s/it]"
          ]
        },
        {
          "name": "stdout",
          "output_type": "stream",
          "text": [
            "writing q's at idx  325\n"
          ]
        },
        {
          "name": "stderr",
          "output_type": "stream",
          "text": [
            " 42%|████▏     | 351/844 [1:04:16<1:28:41, 10.79s/it]"
          ]
        },
        {
          "name": "stdout",
          "output_type": "stream",
          "text": [
            "writing q's at idx  350\n"
          ]
        },
        {
          "name": "stderr",
          "output_type": "stream",
          "text": [
            " 45%|████▍     | 376/844 [1:09:18<1:36:48, 12.41s/it]"
          ]
        },
        {
          "name": "stdout",
          "output_type": "stream",
          "text": [
            "writing q's at idx  375\n"
          ]
        },
        {
          "name": "stderr",
          "output_type": "stream",
          "text": [
            " 48%|████▊     | 401/844 [1:14:15<1:29:10, 12.08s/it]"
          ]
        },
        {
          "name": "stdout",
          "output_type": "stream",
          "text": [
            "writing q's at idx  400\n"
          ]
        },
        {
          "name": "stderr",
          "output_type": "stream",
          "text": [
            " 50%|█████     | 426/844 [1:18:53<1:12:48, 10.45s/it]"
          ]
        },
        {
          "name": "stdout",
          "output_type": "stream",
          "text": [
            "writing q's at idx  425\n"
          ]
        },
        {
          "name": "stderr",
          "output_type": "stream",
          "text": [
            " 53%|█████▎    | 451/844 [1:23:50<1:12:34, 11.08s/it]"
          ]
        },
        {
          "name": "stdout",
          "output_type": "stream",
          "text": [
            "writing q's at idx  450\n"
          ]
        },
        {
          "name": "stderr",
          "output_type": "stream",
          "text": [
            " 56%|█████▋    | 476/844 [1:28:57<1:17:05, 12.57s/it]"
          ]
        },
        {
          "name": "stdout",
          "output_type": "stream",
          "text": [
            "writing q's at idx  475\n"
          ]
        },
        {
          "name": "stderr",
          "output_type": "stream",
          "text": [
            " 59%|█████▉    | 501/844 [1:33:32<1:03:31, 11.11s/it]"
          ]
        },
        {
          "name": "stdout",
          "output_type": "stream",
          "text": [
            "writing q's at idx  500\n"
          ]
        },
        {
          "name": "stderr",
          "output_type": "stream",
          "text": [
            " 62%|██████▏   | 526/844 [1:38:27<57:34, 10.86s/it]"
          ]
        },
        {
          "name": "stdout",
          "output_type": "stream",
          "text": [
            "writing q's at idx  525\n"
          ]
        },
        {
          "name": "stderr",
          "output_type": "stream",
          "text": [
            " 65%|██████▌   | 551/844 [1:43:29<1:02:11, 12.74s/it]"
          ]
        },
        {
          "name": "stdout",
          "output_type": "stream",
          "text": [
            "writing q's at idx  550\n"
          ]
        },
        {
          "name": "stderr",
          "output_type": "stream",
          "text": [
            " 68%|██████▊   | 576/844 [1:48:16<52:43, 11.80s/it]"
          ]
        },
        {
          "name": "stdout",
          "output_type": "stream",
          "text": [
            "writing q's at idx  575\n"
          ]
        },
        {
          "name": "stderr",
          "output_type": "stream",
          "text": [
            " 71%|███████   | 601/844 [1:53:05<48:07, 11.88s/it]"
          ]
        },
        {
          "name": "stdout",
          "output_type": "stream",
          "text": [
            "writing q's at idx  600\n"
          ]
        },
        {
          "name": "stderr",
          "output_type": "stream",
          "text": [
            " 74%|███████▍  | 626/844 [1:57:43<44:32, 12.26s/it]"
          ]
        },
        {
          "name": "stdout",
          "output_type": "stream",
          "text": [
            "writing q's at idx  625\n"
          ]
        },
        {
          "name": "stderr",
          "output_type": "stream",
          "text": [
            " 77%|███████▋  | 651/844 [2:02:28<34:29, 10.72s/it]"
          ]
        },
        {
          "name": "stdout",
          "output_type": "stream",
          "text": [
            "writing q's at idx  650\n"
          ]
        },
        {
          "name": "stderr",
          "output_type": "stream",
          "text": [
            " 80%|████████  | 676/844 [2:06:59<29:31, 10.54s/it]"
          ]
        },
        {
          "name": "stdout",
          "output_type": "stream",
          "text": [
            "writing q's at idx  675\n"
          ]
        },
        {
          "name": "stderr",
          "output_type": "stream",
          "text": [
            " 83%|████████▎ | 701/844 [2:11:19<24:48, 10.41s/it]"
          ]
        },
        {
          "name": "stdout",
          "output_type": "stream",
          "text": [
            "writing q's at idx  700\n"
          ]
        },
        {
          "name": "stderr",
          "output_type": "stream",
          "text": [
            " 89%|████████▉ | 751/844 [2:20:13<15:10,  9.79s/it]"
          ]
        },
        {
          "name": "stdout",
          "output_type": "stream",
          "text": [
            "writing q's at idx  750\n"
          ]
        },
        {
          "name": "stderr",
          "output_type": "stream",
          "text": [
            " 92%|█████████▏| 776/844 [2:24:48<15:22, 13.56s/it]"
          ]
        },
        {
          "name": "stdout",
          "output_type": "stream",
          "text": [
            "writing q's at idx  775\n"
          ]
        },
        {
          "name": "stderr",
          "output_type": "stream",
          "text": [
            " 95%|█████████▍| 801/844 [2:29:21<07:44, 10.81s/it]"
          ]
        },
        {
          "name": "stdout",
          "output_type": "stream",
          "text": [
            "writing q's at idx  800\n"
          ]
        },
        {
          "name": "stderr",
          "output_type": "stream",
          "text": [
            " 98%|█████████▊| 826/844 [2:34:37<03:32, 11.80s/it]"
          ]
        },
        {
          "name": "stdout",
          "output_type": "stream",
          "text": [
            "writing q's at idx  825\n"
          ]
        },
        {
          "name": "stderr",
          "output_type": "stream",
          "text": [
            "100%|██████████| 844/844 [2:37:45<00:00, 11.22s/it]\n"
          ]
        }
      ],
      "source": [
        "added_questions = []\n",
        "for idx, i in enumerate(tqdm(clean_paragraphs)):\n",
        "  if i['contents'] != '':\n",
        "    #Cria a questão\n",
        "    q = create_question(i['contents'])\n",
        "    #Avalia a questão\n",
        "    veredict = judge_question(q)\n",
        "    #Se aprovada\n",
        "    if 'não' not in veredict[:15].lower():\n",
        "      #Salva questão e artigo que a originou\n",
        "      added_questions.append({'qa': q, 'passagens': i['contents']})\n",
        "\n",
        "      '''\n",
        "      Opcional para colab, evitando que o ambiente desconecte perdendo o progresso\n",
        "      Descomente essa seção se optar.\n",
        "\n",
        "      if(idx % 25 == 0 and idx != 0):\n",
        "        print('writing q\\'s at idx ', idx)\n",
        "        file_path = 'new_qa.pkl'\n",
        "        with open(file_path, 'wb') as file:\n",
        "            pickle.dump(added_questions, file)\n",
        "      '''"
      ]
    },
    {
      "cell_type": "markdown",
      "metadata": {
        "id": "U41lGdlk9BCn"
      },
      "source": [
        "##Opcional: Leitura das perguntas salvas"
      ]
    },
    {
      "cell_type": "code",
      "execution_count": null,
      "metadata": {
        "id": "uOW6eGhaJLWV"
      },
      "outputs": [],
      "source": [
        "'''\n",
        "file_path = 'new_qa.pkl'\n",
        "\n",
        "with open(file_path, 'rb') as file:\n",
        "    added_questions = pickle.load(file)\n",
        "\n",
        "'''"
      ]
    },
    {
      "cell_type": "markdown",
      "metadata": {
        "id": "mQoVGdKa9b6y"
      },
      "source": [
        "##Separação das perguntas, respostas e passagens\n",
        "\n",
        "Eles devem seguir o formato de dicionário\n",
        "```\n",
        "qap['pergunta'] = {'resposta': r,\n",
        "                  'passagens': ps}\n",
        "```\n",
        "\n"
      ]
    },
    {
      "cell_type": "code",
      "execution_count": null,
      "metadata": {
        "id": "JoBbr5DZYiMk"
      },
      "outputs": [],
      "source": [
        "qap = dict()\n",
        "for i in added_questions:\n",
        "  qap[re.findall(\"Pergunta: .+\", i['qa'])[0][10:]] = {'resposta': re.findall(\"Resposta: .+\", i['qa'])[0][10:], 'passagens': i['passagens']}"
      ]
    },
    {
      "cell_type": "markdown",
      "metadata": {
        "id": "VGaWyYaiXNEn"
      },
      "source": [
        "#Fase 4: Enriquecer perguntas com passagens da legislação"
      ]
    },
    {
      "cell_type": "code",
      "execution_count": null,
      "metadata": {
        "id": "fJPW-pVTuW6f"
      },
      "outputs": [],
      "source": [
        "map_art = dict()\n",
        "\n",
        "for i in clean_paragraphs:\n",
        "  if i['contents'] != '':\n",
        "    map_art[i['title']] = i['contents']\n",
        "\n",
        "def get_article(art_number):\n",
        "  '''\n",
        "  Dado o número de um artigo devolve ele\n",
        "\n",
        "  Input: art_number (str/int): O artigo que se deseja\n",
        "\n",
        "  Output: Ou o artigo, ou uma string vazia caso não encontre o artigo.\n",
        "  '''\n",
        "  if art_number not in map_art.keys():\n",
        "    return ''\n",
        "  return map_art[str(art_number)]"
      ]
    },
    {
      "cell_type": "code",
      "execution_count": null,
      "metadata": {
        "id": "QfmfhCOBaKiu"
      },
      "outputs": [],
      "source": [
        "def generate_HyDE_document(question, answer):\n",
        "  '''\n",
        "  Esse agente é responsável por criar o documento hipotético seguindo a estratégia de retrieval HyDE.\n",
        "\n",
        "  link: https://arxiv.org/abs/2212.10496\n",
        "\n",
        "  Input: question (str): A pergunta a ser respondida.\n",
        "         answer (str): A resposta da pergunta.\n",
        "\n",
        "  Observação: No artigo do HyDE não se tem acesso à resposta na hora da geração do documento, mas como\n",
        "              no caso desse projeto temos acesso, optei por utilizá-lo para melhorar a qualidade do documento.\n",
        "\n",
        "  Output: Um artigo forjado seguindo a estratégia de retrieval HyDE, para melhorar a resposta do buscador.\n",
        "  '''\n",
        "  return send_message('''Você está procurando na legislação um artigo que responda uma pergunta.\n",
        "\n",
        "Escreva um artigo hipotético que, caso estivesse escrito, responderia a pergunta: {question}\n",
        "\n",
        "Resposta: {answer}\n",
        "\n",
        "Agora escreva um esboço do artigo que está procurando.\n",
        "'''.format(question = question, answer = answer))"
      ]
    },
    {
      "cell_type": "code",
      "execution_count": null,
      "metadata": {
        "id": "b3i09zRJ1phP"
      },
      "outputs": [],
      "source": [
        "def search_aditional_articles(answer, articles, art_list):\n",
        "  '''\n",
        "  Esse agente é responsável por procurar artigos adicionais que possam ser úteis\n",
        "\n",
        "  Input: answer (str): A resposta da pergunta.\n",
        "         articles (str): Uma lista dos artigos encontrados por retrieval.\n",
        "         art_list (list[(int/str)]): Uma lista com o número dos artigos utilizados.\n",
        "\n",
        "  Observação: A ideia desse agente é buscar por outros artigos que são mencionados, por exemplo\n",
        "  o artigo 866 da CLT faz referência ao artigo 860. Esse agente deve pontuar a necessidade de buscar pelo artigo 860.\n",
        "\n",
        "  Output: Uma string contendo os novos artigos buscados. (No máximo 3).\n",
        "  '''\n",
        "\n",
        "  m = send_message('''Você está procurando na legislação artigos que respondam uma pergunta.\n",
        "Seu papel é assegurar que não precisa de informações de outros artigos, e, caso necessário procurar mais artigos com sua ferramenta: Procure:\n",
        "\n",
        "Sua ação DEVE SEGUIR O PADRÃO: Procure: número do artigo.\n",
        "\n",
        "Por exemplo, se quero procurar os artigos 12 e 55 a resposta DEVE ser separada por linhas:\n",
        "\n",
        "Procure: 12\n",
        "Procure: 55\n",
        "\n",
        "Dada a resposta: {answer}\n",
        "\n",
        "E dados os artigos: {articles}\n",
        "\n",
        "Defina se há artigos que não foram citados e siga o padrão da sua ação.\n",
        "\n",
        "Se os artigos já forem suficientes a resposta DEVE ser:\n",
        "\n",
        "Procure: -1\n",
        "'''.format(answer = answer, articles = articles))\n",
        "  search_list = [i[9:] for i in re.findall(r'Procure: \\d+', m)]\n",
        "  return '\\n\\n'.join([get_article(i) for i in search_list if i not in art_list][:3])\n"
      ]
    },
    {
      "cell_type": "code",
      "execution_count": null,
      "metadata": {
        "id": "lCfWi2f8kFRm"
      },
      "outputs": [],
      "source": [
        "def discard_articles(question, articles, answer):\n",
        "  '''\n",
        "  Esse agente é responsável por descartar artigos que não sejam relevantes para responder a pergunta.\n",
        "\n",
        "  Input: question (str): A pergunta.\n",
        "         articles (str): Uma lista dos artigos encontrados por retrieval.\n",
        "         answer (str): A resposta da pergunta.\n",
        "\n",
        "  Output: Uma string contendo apenas os artigos úteis para responder a pergunta.\n",
        "  '''\n",
        "\n",
        "  return send_message('''Você está buscando na legislação apenas as informações relevantes para responder uma pergunta, mas está encontrando varias informações que deviam a sua atenção.\n",
        "\n",
        "Descarte dos artigos à seguir aqueles que você não julgar extremamente relevantes para responder a seguinte pergunta: {question}\n",
        "\n",
        "{articles}\n",
        "\n",
        "Tente remover as informações que não sejam relevantes para a pergunta. Não altere os artigos que foram mantidos.\n",
        "\n",
        "A resposta foi: {answer}\n",
        "\n",
        "Não faça comentários sobre sua seleção, sua resposta deve ser apenas os artigos selecionados.\n",
        "'''.format(question = question, articles = articles, answer = answer))"
      ]
    },
    {
      "cell_type": "code",
      "execution_count": null,
      "metadata": {
        "id": "vPWbeZJBmEzI"
      },
      "outputs": [],
      "source": [
        "inc_questions = dict()"
      ]
    },
    {
      "cell_type": "code",
      "execution_count": null,
      "metadata": {
        "colab": {
          "base_uri": "https://localhost:8080/"
        },
        "id": "VGhdLOmxXaHr",
        "outputId": "baa44a55-6d06-4d28-a9db-fd845f13fda6"
      },
      "outputs": [
        {
          "name": "stderr",
          "output_type": "stream",
          "text": [
            " 39%|███▉      | 19/49 [04:14<09:03, 18.11s/it]"
          ]
        },
        {
          "name": "stdout",
          "output_type": "stream",
          "text": [
            "writing q's at idx  18\n"
          ]
        },
        {
          "name": "stderr",
          "output_type": "stream",
          "text": [
            " 45%|████▍     | 22/49 [07:56<17:42, 39.36s/it]"
          ]
        },
        {
          "name": "stdout",
          "output_type": "stream",
          "text": [
            "writing q's at idx  21\n"
          ]
        },
        {
          "name": "stderr",
          "output_type": "stream",
          "text": [
            " 51%|█████     | 25/49 [13:02<29:17, 73.25s/it]"
          ]
        },
        {
          "name": "stdout",
          "output_type": "stream",
          "text": [
            "writing q's at idx  24\n"
          ]
        },
        {
          "name": "stderr",
          "output_type": "stream",
          "text": [
            " 57%|█████▋    | 28/49 [16:58<26:57, 77.02s/it]"
          ]
        },
        {
          "name": "stdout",
          "output_type": "stream",
          "text": [
            "writing q's at idx  27\n"
          ]
        },
        {
          "name": "stderr",
          "output_type": "stream",
          "text": [
            " 63%|██████▎   | 31/49 [21:38<25:52, 86.24s/it]"
          ]
        },
        {
          "name": "stdout",
          "output_type": "stream",
          "text": [
            "writing q's at idx  30\n"
          ]
        },
        {
          "name": "stderr",
          "output_type": "stream",
          "text": [
            " 69%|██████▉   | 34/49 [25:33<20:10, 80.67s/it]"
          ]
        },
        {
          "name": "stdout",
          "output_type": "stream",
          "text": [
            "writing q's at idx  33\n"
          ]
        },
        {
          "name": "stderr",
          "output_type": "stream",
          "text": [
            " 76%|███████▌  | 37/49 [29:50<17:02, 85.19s/it]"
          ]
        },
        {
          "name": "stdout",
          "output_type": "stream",
          "text": [
            "writing q's at idx  36\n"
          ]
        },
        {
          "name": "stderr",
          "output_type": "stream",
          "text": [
            " 82%|████████▏ | 40/49 [34:31<13:16, 88.49s/it]"
          ]
        },
        {
          "name": "stdout",
          "output_type": "stream",
          "text": [
            "writing q's at idx  39\n"
          ]
        },
        {
          "name": "stderr",
          "output_type": "stream",
          "text": [
            " 88%|████████▊ | 43/49 [39:23<09:43, 97.19s/it]"
          ]
        },
        {
          "name": "stdout",
          "output_type": "stream",
          "text": [
            "writing q's at idx  42\n"
          ]
        },
        {
          "name": "stderr",
          "output_type": "stream",
          "text": [
            " 94%|█████████▍| 46/49 [43:14<04:02, 80.94s/it]"
          ]
        },
        {
          "name": "stdout",
          "output_type": "stream",
          "text": [
            "writing q's at idx  45\n"
          ]
        },
        {
          "name": "stderr",
          "output_type": "stream",
          "text": [
            "100%|██████████| 49/49 [47:22<00:00, 58.02s/it]"
          ]
        },
        {
          "name": "stdout",
          "output_type": "stream",
          "text": [
            "writing q's at idx  48\n"
          ]
        },
        {
          "name": "stderr",
          "output_type": "stream",
          "text": [
            "\n"
          ]
        }
      ],
      "source": [
        "for idx, q in enumerate(tqdm(perguntas)):\n",
        "  if q not in inc_questions.keys():\n",
        "\n",
        "    #gera documento hipotético\n",
        "    hyde = generate_HyDE_document(q, perguntas[q])\n",
        "\n",
        "    #busca\n",
        "    passagens, art_list = query_prompt(hyde)\n",
        "\n",
        "    #search for more\n",
        "    passagens += search_aditional_articles(perguntas[q], passagens, art_list)\n",
        "\n",
        "    #descarta não relevantes\n",
        "    base = discard_articles(q, passagens, perguntas[q])\n",
        "\n",
        "    #salva\n",
        "    inc_questions[q] = {'resposta': perguntas[q], 'passagens': base}\n",
        "\n",
        "    '''\n",
        "    Opcional para colab, evitando que o ambiente desconecte perdendo o progresso\n",
        "    Descomente essa seção se optar.\n",
        "\n",
        "    if (idx % 3 == 0) and idx != 0:\n",
        "      print('writing q\\'s at idx ', idx)\n",
        "      file_path = 'jusss_qa.pkl'\n",
        "      with open(file_path, 'wb') as file:\n",
        "          pickle.dump(inc_questions, file)\n",
        "    '''"
      ]
    },
    {
      "cell_type": "markdown",
      "metadata": {
        "id": "Uk0qJmBrXVSH"
      },
      "source": [
        "#Fase 5: Avaliação do dataset por RAGAS"
      ]
    },
    {
      "cell_type": "code",
      "execution_count": null,
      "metadata": {
        "id": "jPD7VeSpnF1y"
      },
      "outputs": [],
      "source": [
        "#Escolher 44 questões dentro das 570 geradas\n",
        "random_array = np.random.randint(0, len(qap), 44)"
      ]
    },
    {
      "cell_type": "code",
      "execution_count": null,
      "metadata": {
        "id": "6RyggrTenad8"
      },
      "outputs": [],
      "source": [
        "for i in inc_questions:\n",
        "  inc_questions[list(qap.keys())[i]] = qap[list(qap.keys())[i]]\n"
      ]
    },
    {
      "cell_type": "markdown",
      "metadata": {
        "id": "PWJx28gqBzUr"
      },
      "source": [
        "##Salvar primeira bateria do dataset"
      ]
    },
    {
      "cell_type": "code",
      "execution_count": null,
      "metadata": {
        "id": "a99mSJnSm_ik"
      },
      "outputs": [],
      "source": [
        "file_path = 'poc_qa.pkl'\n",
        "with open(file_path, 'wb') as file:\n",
        "  pickle.dump(inc_questions, file)"
      ]
    },
    {
      "cell_type": "code",
      "execution_count": null,
      "metadata": {
        "id": "DfsjGgIaz_AN"
      },
      "outputs": [],
      "source": [
        "file_path = 'poc_qa.pkl'\n",
        "\n",
        "with open(file_path, 'rb') as file:\n",
        "    inc_questions = pickle.load(file)"
      ]
    },
    {
      "cell_type": "markdown",
      "metadata": {
        "id": "KppuB5jjrGS2"
      },
      "source": [
        "##Faithfulness"
      ]
    },
    {
      "cell_type": "code",
      "execution_count": null,
      "metadata": {
        "id": "3hzdFjuOXImk"
      },
      "outputs": [],
      "source": [
        "def get_faithfulness(question, ans_pass):\n",
        "  '''\n",
        "  Calcula faithfulness de acordo com a avaliação do RAGAS.\n",
        "\n",
        "  Input: question (str): A pergunta.\n",
        "         ans_pass (dict): Um dicionário com a resposta e a passagem do artigo.\n",
        "\n",
        "  Output: faithfulness score (float)\n",
        "  '''\n",
        "  answer = ans_pass['resposta']\n",
        "  context = ans_pass['passagens']\n",
        "\n",
        "  prompt_1 = '''Dada uma questão e uma resposta, separe a resposta nas afirmações feitas.\n",
        "Questão: {question}\n",
        "Resposta: {answer}\n",
        "\n",
        "Use o seguinte formato para sua resposta:\n",
        "\n",
        "afirmação: [afirmação 1]\n",
        "...\n",
        "afirmação: [afirmação n]\n",
        "'''.format(question = question, answer = answer)\n",
        "  statements = send_message(prompt_1)\n",
        "\n",
        "  prompt_2 = '''Considerando o contexto:\n",
        "\n",
        "  {context}\n",
        "Determine se as afirmações feitas abaixo são suportadas pelo contexto. Explique brevemente antes de dar um veredito (Sim/Não). Dê um veredito para cada afirmação no seguinte formato:\n",
        "\n",
        "afirmação - [veredito] - explicação\n",
        "\n",
        "as afirmações são\n",
        "\n",
        "{statements}\n",
        "'''.format(context=context, statements=statements)\n",
        "  fth_ans = send_message(prompt_2)\n",
        "\n",
        "  print(prompt_2)\n",
        "  print(fth_ans)\n",
        "  ver_list = re.findall(r'-.+-', fth_ans)\n",
        "\n",
        "  positive = len([i for i in ver_list if 'sim' in i.lower()])\n",
        "  negative = len([i for i in ver_list if 'não' in i.lower()])\n",
        "  return positive / (positive + negative)\n"
      ]
    },
    {
      "cell_type": "code",
      "execution_count": null,
      "metadata": {
        "colab": {
          "base_uri": "https://localhost:8080/"
        },
        "id": "Es-6nz6Np6_m",
        "outputId": "5f8c935e-3cd4-46ea-a7c9-1f881dc57a95"
      },
      "outputs": [
        {
          "name": "stderr",
          "output_type": "stream",
          "text": [
            "100%|██████████| 92/92 [06:24<00:00,  4.17s/it]\n"
          ]
        }
      ],
      "source": [
        "for idx, i in enumerate(tqdm(inc_questions)):\n",
        "  faithfullnss_list.append(get_faithfulness(i, inc_questions[i]))"
      ]
    },
    {
      "cell_type": "markdown",
      "metadata": {
        "id": "vdebJ84WCWmL"
      },
      "source": [
        "##Salvar"
      ]
    },
    {
      "cell_type": "code",
      "execution_count": null,
      "metadata": {
        "id": "DCnA0hhj1nSa"
      },
      "outputs": [],
      "source": [
        "file_path = 'faithfullnss.pkl'\n",
        "with open(file_path, 'wb') as file:\n",
        "  pickle.dump(faithfullnss_list, file)"
      ]
    },
    {
      "cell_type": "code",
      "execution_count": null,
      "metadata": {
        "id": "Ak-ymDSUAQfY"
      },
      "outputs": [],
      "source": [
        "file_path = 'faithfullnss.pkl'\n",
        "with open(file_path, 'rb') as file:\n",
        "    faithfullnss_list = pickle.load(file)"
      ]
    },
    {
      "cell_type": "markdown",
      "metadata": {
        "id": "4sTzG1oDCZnY"
      },
      "source": [
        "##Cálculo do faithfulness médio"
      ]
    },
    {
      "cell_type": "code",
      "execution_count": null,
      "metadata": {
        "colab": {
          "base_uri": "https://localhost:8080/"
        },
        "id": "R3KD6Qdx1rnr",
        "outputId": "62973f9a-cc65-4f25-f27d-7f262ae0d119"
      },
      "outputs": [
        {
          "data": {
            "text/plain": [
              "0.6631211180124224"
            ]
          },
          "execution_count": 272,
          "metadata": {},
          "output_type": "execute_result"
        }
      ],
      "source": [
        "np.mean(faithfullnss_list)"
      ]
    },
    {
      "cell_type": "markdown",
      "metadata": {
        "id": "QvD2Yoo6rI20"
      },
      "source": [
        "##Answer relevance"
      ]
    },
    {
      "cell_type": "code",
      "execution_count": null,
      "metadata": {
        "colab": {
          "base_uri": "https://localhost:8080/",
          "height": 592,
          "referenced_widgets": [
            "387b9c97d65a4687ac3082c17359af3e",
            "7c442bd8021840638a65674b59d200b8",
            "a342b81f9b614797ab838907f31b7bc1",
            "5229a6380e6647fca5a1caa7c36dcd48",
            "256f79fcb8f3444a88851309f1aaffe4",
            "b7b2c92fd9ae40549b28ba1f0b0917d6",
            "afa746ff4db24b969e005440f878303b",
            "be331149479b45d1a4e086fa3e20dfe2",
            "4426f5fe910044c29be4f1efade3f6dc",
            "19720161841443a59659a874b6a71671",
            "e1274feeea164600b7dfe02a371048d9",
            "5b5f553e5dea484db0ddf6c5bf14e454",
            "a15a6119632645cc9051df0b7f731bc9",
            "b52e22e3338d4118a63a35568b81d52a",
            "71ce1d8d7d8f4d7d80c8863416be3ea9",
            "de7a3dab32bc4a0680f1b4a546eb6856",
            "632ee52eb5eb401fb07bc8a97fb1f4b3",
            "7e0056449e394b5db492c5d3b4f4248d",
            "9ff27afb49f643668978180b5c0f4622",
            "0e8da1eaf12a4f7785acb0e7ed26e922",
            "70ced7cd416043e9b90be245d7c0ea81",
            "56dfbf9b3a754c28a9e82a2a71fb5dc7",
            "9c68a2864ebc4d4fbc97f9ae94e74d97",
            "74e63b4a45ef4de3b17e05e524cb3e3e",
            "af19cc383ede4f6ba7a84ebae6906a23",
            "a7fb669e2bb34c0f8a7eef9d83309ffa",
            "42b069acca584df095aa24e36e983b25",
            "177c97c69bd94f5a9dc3c2bed0b39c64",
            "62f598df50a340709f34261a75e1c2f0",
            "444457d0330d432286bfb2d834807146",
            "bc351b6dd24a494caaab96bcd40ea8e3",
            "d4e5b507084a4ee0a97b5200a24c1483",
            "dea57cffc5894c3c94f47f240cbb8f90",
            "505b3d9b44294229a99a737b31743a4c",
            "ca9ba79211ac4ed0a196637480bd4266",
            "ca5341618ef247749dfed3bb96b41ac5",
            "4995f0ea9eac4f4d9be8162648c7f8d5",
            "da14bdb0056343de9ce099e255050cbc",
            "028bf57d73cb4c7ebcedcca6823d3822",
            "f2c8f3e8c4fc42d0a91d6cf70b464152",
            "f0047d90ec144dd2ae9faf358fc6e374",
            "1668c23be4ee48628b4f859e089d3f64",
            "fd2fe0d40c434b99a1865f4031d7b633",
            "70b57e5de5f641c0ac33115bd5504f88",
            "472b11a3038c4868898222df1b75ce03",
            "5c5d0447af7b41e49191b6fac95af814",
            "f4e9e664f4ab4366a531088c8512b0ea",
            "48ee5d06e2924627abf9af7bd4dc8cbd",
            "2f89bffebca54916af294fd0ac3b361a",
            "cf51dc243b794590a42fb98a6b0744a4",
            "d24cfcb9b50f4e8898a28795591f1e39",
            "aee1ff9f701b4e12a4590e121098bf93",
            "38d1f49c72254eb4a214c04a01783f94",
            "360cc10aff6842ca8d26361350a20a3a",
            "63817ce89b514606b43e31f74f91a576",
            "8f07e5ec4cf5410585b7e6c3c838cb5d",
            "3fc59b2dff6e4ca39e97091514758d68",
            "c5cdfd66ee0446c9bfdc1219d968dc38",
            "218f62b2b17a4fffbff346b3950c25bc",
            "770aa21bc4cd4fe7a67e1ba39dab7cf6",
            "ca22142cf3934410b63f76de443457a6",
            "01034e26a70b4f67b0513611f94d8405",
            "46f8126dd38145a8b6d6725d3568741d",
            "7100d9e9fefa4633948f1529cd09eca7",
            "9cd758d0f0ff47b28e791562478b6412",
            "987ccce36ce14507990884e9b5fdfc63",
            "062fa39184af4b1db319497a749764d4",
            "45fe98b2ce4a4ef9812f33e5804dc291",
            "f4c2726489614fdebea3ba1ca7121952",
            "3d578ed75d9849edbe87f6b8cb362f9e",
            "0d1d794753fb40668bf46ac12bd9d824",
            "6e14a562c0394067b8b4250e4b6273b3",
            "dcda5471e71c4b6bba011f0b5e43ecea",
            "f892bd155d0a480494e223a5137dee2e",
            "ec4f119e71884e91a42d774a21e91bcc",
            "c467e675f56a4d5eba6dd234c5133191",
            "adeeca32e3c34d429f60bad04628e031",
            "ea3222867b3c4c71b298063fd2322c82",
            "3818ead166164087aae90d0160bf2e81",
            "36ba74a66c864d458758980cf739cc93",
            "ec8e379f1beb4dd1b09afdea91e34b69",
            "69cb992e32f14b80af565e9cf7c5c630",
            "a5a42736fb574c4e9418a9b4fff3ecd8",
            "a0c4b1c09bdd42cca6f03748928a383d",
            "4449fa26ad1a4859b3f8da172cbc13c2",
            "5d3a5bbf5f2441df8aeb0e671fe5f604",
            "0b5b4671188346379d4d14ef03693763",
            "622d7ac45f604a958bd8e88673c395b7",
            "455b7102e0d64a45868753e347312bca",
            "1ea93c71cf8649cb8e0c46b9d7973ddb",
            "c7bdd821254c45b9ad0fcce6657857a2",
            "fa30557f3c114a108950576056c2b85e",
            "bd90fbb5bbf741869839d432df3ab52f",
            "58ae2cb303b74f4f8a5bd3f295b03b28",
            "ef81e97290f24e3e8f80d4e55c935565",
            "0f2e49dca90f490297bce4a965bb21a5",
            "044888e80a924f95acbfc13dd5fe169f",
            "6a5d78711a5f4e48b385db8d55385e4b",
            "24afbf7775ff4aba834bc78741424414",
            "2203400613b646689e39c5ff3678f9c9",
            "318e5c9261534c99846cd16cef138b6d",
            "f231610cd6a94a9991f0bb342e1c2038",
            "0d78c04d0470493d8a77abf3203a85d8",
            "5e714075b8914bfbac99eb33934bf75b",
            "f52b7c5b70fa4f3c90188eb3acf19fd9",
            "f9949fb372734d2792a9f533484e6273",
            "8757785f765049a5bbc69e55515d65b0",
            "b04ea51f1ef24397a8ad74b253354ddc",
            "c7ed878ae5284e1aae10d4820bd63a16",
            "f689cc29e76f4ef680bc48779c64f97b",
            "7f206fadc91040d59796dd370393f999",
            "5be16761cfb14e0381213e7325fab105",
            "05deb9c2a1f74098b6975248068b5d0f",
            "dc14e14614a94f56aeea334a38eaf74d",
            "09c81a2a731d46b7a4583664c6aca84b",
            "1044fa72ac844d3bbe441d626e15bf78",
            "f2260e65f0a34baa8873371a314c6c81",
            "a35fdd5db8c840f2b6be5640edbf9067",
            "a87f44c5bf5442e1af47b17761d432f5",
            "03cd5b8bbc4741ada07049b686aecdea",
            "94b81501bd1b46a49e8ce98854c016b5",
            "fa683d6910284952a7212efd403c4fde",
            "4cd5b7178ca24efb925b143358a7db6f",
            "b3be17a49ea04e4fb3c2a84407fa9956",
            "85629af201d643d78b527476b7906eaa",
            "943c61cc81d5477e9dff9a62f563ceb3",
            "2e91900f28bb45e8950705833c101845",
            "92262205d7c8499a811f866d3fda5e13",
            "d4a18ccc3870437aaba8419055b7f523",
            "78c36aa9b7054f0cb38718020c92928d",
            "e51bc7c5e6204488bd8e4ad7c3f6f0a0",
            "304583e2871742f3ab47b19034972964",
            "f898982b53734c70b33ba679e6410cf0",
            "45196eb27fd044888c5fa2654f577478",
            "2f98605e554141a8848bab6d23d20a57",
            "c28620d5953f41f9b9b7db4496c8aec9",
            "6560507bf0f54417ac6bf8cb63791373",
            "78b5bf8cd9de45eba7e230aef494cb52",
            "a022ab5f233a433f900a5bc6d4c83326",
            "33864a5ebf1e458db11a30b2b293eb58",
            "c80868cbc31d4005810d294b3200a531",
            "cae003435d2d4726b4f962f89d64414f",
            "c1cb2cd3030a4a8b866308733cbd4815"
          ]
        },
        "id": "-Q49X-BUrLte",
        "outputId": "2aeb1f2e-e496-4d27-a248-849fb10e32dd"
      },
      "outputs": [
        {
          "name": "stderr",
          "output_type": "stream",
          "text": [
            "/usr/local/lib/python3.10/dist-packages/huggingface_hub/utils/_token.py:89: UserWarning: \n",
            "The secret `HF_TOKEN` does not exist in your Colab secrets.\n",
            "To authenticate with the Hugging Face Hub, create a token in your settings tab (https://huggingface.co/settings/tokens), set it as secret in your Google Colab and restart your session.\n",
            "You will be able to reuse this secret in all of your notebooks.\n",
            "Please note that authentication is recommended but still optional to access public models or datasets.\n",
            "  warnings.warn(\n"
          ]
        },
        {
          "data": {
            "application/vnd.jupyter.widget-view+json": {
              "model_id": "387b9c97d65a4687ac3082c17359af3e",
              "version_major": 2,
              "version_minor": 0
            },
            "text/plain": [
              "modules.json:   0%|          | 0.00/368 [00:00<?, ?B/s]"
            ]
          },
          "metadata": {},
          "output_type": "display_data"
        },
        {
          "data": {
            "application/vnd.jupyter.widget-view+json": {
              "model_id": "5b5f553e5dea484db0ddf6c5bf14e454",
              "version_major": 2,
              "version_minor": 0
            },
            "text/plain": [
              "README.md:   0%|          | 0.00/33.0k [00:00<?, ?B/s]"
            ]
          },
          "metadata": {},
          "output_type": "display_data"
        },
        {
          "data": {
            "application/vnd.jupyter.widget-view+json": {
              "model_id": "9c68a2864ebc4d4fbc97f9ae94e74d97",
              "version_major": 2,
              "version_minor": 0
            },
            "text/plain": [
              "sentence_bert_config.json:   0%|          | 0.00/53.0 [00:00<?, ?B/s]"
            ]
          },
          "metadata": {},
          "output_type": "display_data"
        },
        {
          "name": "stderr",
          "output_type": "stream",
          "text": [
            "/usr/local/lib/python3.10/dist-packages/huggingface_hub/file_download.py:1132: FutureWarning: `resume_download` is deprecated and will be removed in version 1.0.0. Downloads always resume when possible. If you want to force a new download, use `force_download=True`.\n",
            "  warnings.warn(\n"
          ]
        },
        {
          "data": {
            "application/vnd.jupyter.widget-view+json": {
              "model_id": "505b3d9b44294229a99a737b31743a4c",
              "version_major": 2,
              "version_minor": 0
            },
            "text/plain": [
              "config.json:   0%|          | 0.00/812 [00:00<?, ?B/s]"
            ]
          },
          "metadata": {},
          "output_type": "display_data"
        },
        {
          "data": {
            "application/vnd.jupyter.widget-view+json": {
              "model_id": "472b11a3038c4868898222df1b75ce03",
              "version_major": 2,
              "version_minor": 0
            },
            "text/plain": [
              "model.safetensors:   0%|          | 0.00/652M [00:00<?, ?B/s]"
            ]
          },
          "metadata": {},
          "output_type": "display_data"
        },
        {
          "data": {
            "application/vnd.jupyter.widget-view+json": {
              "model_id": "8f07e5ec4cf5410585b7e6c3c838cb5d",
              "version_major": 2,
              "version_minor": 0
            },
            "text/plain": [
              "tokenizer_config.json:   0%|          | 0.00/367 [00:00<?, ?B/s]"
            ]
          },
          "metadata": {},
          "output_type": "display_data"
        },
        {
          "data": {
            "application/vnd.jupyter.widget-view+json": {
              "model_id": "062fa39184af4b1db319497a749764d4",
              "version_major": 2,
              "version_minor": 0
            },
            "text/plain": [
              "vocab.txt:   0%|          | 0.00/110k [00:00<?, ?B/s]"
            ]
          },
          "metadata": {},
          "output_type": "display_data"
        },
        {
          "data": {
            "application/vnd.jupyter.widget-view+json": {
              "model_id": "ea3222867b3c4c71b298063fd2322c82",
              "version_major": 2,
              "version_minor": 0
            },
            "text/plain": [
              "tokenizer.json:   0%|          | 0.00/439k [00:00<?, ?B/s]"
            ]
          },
          "metadata": {},
          "output_type": "display_data"
        },
        {
          "data": {
            "application/vnd.jupyter.widget-view+json": {
              "model_id": "455b7102e0d64a45868753e347312bca",
              "version_major": 2,
              "version_minor": 0
            },
            "text/plain": [
              "special_tokens_map.json:   0%|          | 0.00/125 [00:00<?, ?B/s]"
            ]
          },
          "metadata": {},
          "output_type": "display_data"
        },
        {
          "data": {
            "application/vnd.jupyter.widget-view+json": {
              "model_id": "2203400613b646689e39c5ff3678f9c9",
              "version_major": 2,
              "version_minor": 0
            },
            "text/plain": [
              "1_Pooling/config.json:   0%|          | 0.00/204 [00:00<?, ?B/s]"
            ]
          },
          "metadata": {},
          "output_type": "display_data"
        },
        {
          "data": {
            "application/vnd.jupyter.widget-view+json": {
              "model_id": "7f206fadc91040d59796dd370393f999",
              "version_major": 2,
              "version_minor": 0
            },
            "text/plain": [
              "2_Dense/config.json:   0%|          | 0.00/122 [00:00<?, ?B/s]"
            ]
          },
          "metadata": {},
          "output_type": "display_data"
        },
        {
          "data": {
            "application/vnd.jupyter.widget-view+json": {
              "model_id": "fa683d6910284952a7212efd403c4fde",
              "version_major": 2,
              "version_minor": 0
            },
            "text/plain": [
              "pytorch_model.bin:   0%|          | 0.00/3.67M [00:00<?, ?B/s]"
            ]
          },
          "metadata": {},
          "output_type": "display_data"
        },
        {
          "data": {
            "application/vnd.jupyter.widget-view+json": {
              "model_id": "f898982b53734c70b33ba679e6410cf0",
              "version_major": 2,
              "version_minor": 0
            },
            "text/plain": [
              "model.safetensors:   0%|          | 0.00/3.67M [00:00<?, ?B/s]"
            ]
          },
          "metadata": {},
          "output_type": "display_data"
        }
      ],
      "source": [
        "from sentence_transformers import SentenceTransformer\n",
        "\n",
        "model = SentenceTransformer('aspire/acge_text_embedding')\n",
        "\n",
        "def get_sentence_similarity(a, b, model):\n",
        "  '''\n",
        "  Calcula similaridade entre embeddings de duas sentenças.\n",
        "\n",
        "  Input: a (str): Sentença a.\n",
        "         b (str): Sentença b.\n",
        "         model (SentenceTransformer): Um modelo sentence transformer com saída em embeddings.\n",
        "\n",
        "  Output: sentence similarity (float)\n",
        "  '''\n",
        "  sentences = [a, b]\n",
        "  embeddings_1 = model.encode(sentences, normalize_embeddings=True)\n",
        "  embeddings_2 = model.encode(sentences, normalize_embeddings=True)\n",
        "  similarity = embeddings_1 @ embeddings_2.T\n",
        "  return similarity[0, 1]"
      ]
    },
    {
      "cell_type": "code",
      "execution_count": null,
      "metadata": {
        "id": "oCp-uHHOrQMW"
      },
      "outputs": [],
      "source": [
        "def get_ans_relevance(question, ans_pass, model):\n",
        "  '''\n",
        "  Calcula answer relevance de acordo com a avaliação do RAGAS.\n",
        "\n",
        "  Input: question (str): A pergunta.\n",
        "         ans_pass (dict): Um dicionário com a resposta e a passagem do artigo.\n",
        "         model (SentenceTransformer): Um modelo sentence transformer com saída em embeddings.\n",
        "\n",
        "  Output: answer relevance (float)\n",
        "  '''\n",
        "  answer = ans_pass['resposta']\n",
        "  context = ans_pass['passagens']\n",
        "\n",
        "  prompt_1 = '''Gere de duas a quatro possíveis perguntas para dada resposta.\n",
        "Resposta: {answer}\n",
        "\n",
        "Use o seguinte formato para sua resposta:\n",
        "\n",
        "Pergunta: [pergunta 1]\n",
        "...\n",
        "Pergunta: [pergunta n]\n",
        "'''.format(answer=answer)\n",
        "  statements = send_message(prompt_1)\n",
        "\n",
        "  q_pattern = re.compile(r'Pergunta: .+')\n",
        "  q_list = q_pattern.findall(statements)\n",
        "  similarities = []\n",
        "  for q in q_list:\n",
        "    similarities.append(get_sentence_similarity(q[10:], question, model))\n",
        "\n",
        "  return sum(similarities)/len(similarities)"
      ]
    },
    {
      "cell_type": "code",
      "execution_count": null,
      "metadata": {
        "id": "hcEel6de0TrJ"
      },
      "outputs": [],
      "source": [
        "answer_relevance_list = []"
      ]
    },
    {
      "cell_type": "code",
      "execution_count": null,
      "metadata": {
        "colab": {
          "base_uri": "https://localhost:8080/"
        },
        "id": "eaRK7iVX0dKg",
        "outputId": "377bc2a0-7546-4631-9d2d-ce1e3a514d9a"
      },
      "outputs": [
        {
          "name": "stderr",
          "output_type": "stream",
          "text": [
            "100%|██████████| 92/92 [19:55<00:00, 13.00s/it]\n"
          ]
        }
      ],
      "source": [
        "for idx, i in enumerate(tqdm(inc_questions)):\n",
        "  answer_relevance_list.append(get_ans_relevance(i, inc_questions[i], model))"
      ]
    },
    {
      "cell_type": "markdown",
      "metadata": {
        "id": "ZHx3BWCIDTtH"
      },
      "source": [
        "##Calcula answer relevance médio"
      ]
    },
    {
      "cell_type": "code",
      "execution_count": null,
      "metadata": {
        "colab": {
          "base_uri": "https://localhost:8080/"
        },
        "id": "4Asqy84H5c3t",
        "outputId": "8872a8b7-0aa9-491e-e870-8c4c2064df8f"
      },
      "outputs": [
        {
          "data": {
            "text/plain": [
              "0.7773634640742904"
            ]
          },
          "execution_count": 36,
          "metadata": {},
          "output_type": "execute_result"
        }
      ],
      "source": [
        "np.mean(answer_relevance_list)"
      ]
    },
    {
      "cell_type": "markdown",
      "metadata": {
        "id": "7D0ywho1DWAf"
      },
      "source": [
        "## Salva"
      ]
    },
    {
      "cell_type": "code",
      "execution_count": null,
      "metadata": {
        "id": "a0h6Qy_b8sA9"
      },
      "outputs": [],
      "source": [
        "file_path = 'ans_rel.pkl'\n",
        "with open(file_path, 'wb') as file:\n",
        "  pickle.dump(answer_relevance_list, file)"
      ]
    },
    {
      "cell_type": "markdown",
      "metadata": {
        "id": "iwBuL2YW5hP9"
      },
      "source": [
        "##Context relevance"
      ]
    },
    {
      "cell_type": "code",
      "execution_count": null,
      "metadata": {
        "id": "8grYq_yF5oei"
      },
      "outputs": [],
      "source": [
        "def get_con_relevance(question, ans_pass):\n",
        "  '''\n",
        "  Calcula context relevance de acordo com a avaliação do RAGAS.\n",
        "\n",
        "  Input: question (str): A pergunta.\n",
        "         ans_pass (dict): Um dicionário com a resposta e a passagem do artigo.\n",
        "\n",
        "  Output: context relevance (float)\n",
        "  '''\n",
        "  answer = ans_pass['resposta']\n",
        "  context = ans_pass['passagens']\n",
        "  p = ''\n",
        "  for idx, i in enumerate(context.split('\\n\\n'), 1):\n",
        "    p += \"Artigo {idx}: {i}\\n\".format(i=i, idx=idx)\n",
        "  prompt_1 = '''Dados os artigos de contexto:\n",
        "\n",
        "{p}\n",
        "\n",
        "Marque para cada artigo um veredito: **sim** se ele for relevante para responder a pergunta, e **não** se não for relevante para responder a seguinte pergunta:\n",
        "\n",
        "{question}\n",
        "\n",
        "Só marque como **não** as sentenças que forem irrelevantes.\n",
        "\n",
        "'''.format(p=p, question=question)\n",
        "  statements = send_message(prompt_1)\n",
        "\n",
        "  s_pattern = re.compile(r'\\*\\*.+')\n",
        "  s_list = s_pattern.findall(statements)\n",
        "\n",
        "  return len([i for i in s_list if 'sim' in i.lower()])/(len([i for i in s_list if 'sim' in i.lower()]) + len([i for i in s_list if 'não' in i.lower()]))"
      ]
    },
    {
      "cell_type": "code",
      "execution_count": null,
      "metadata": {
        "id": "hrVWRjP46xcy"
      },
      "outputs": [],
      "source": [
        "context_relevance_list = []"
      ]
    },
    {
      "cell_type": "code",
      "execution_count": null,
      "metadata": {
        "colab": {
          "base_uri": "https://localhost:8080/"
        },
        "id": "un7ff3CM6zam",
        "outputId": "676bb570-c646-467a-85d6-c5fa3ee74391"
      },
      "outputs": [
        {
          "name": "stderr",
          "output_type": "stream",
          "text": [
            "100%|██████████| 92/92 [05:25<00:00,  3.53s/it]\n"
          ]
        }
      ],
      "source": [
        "for idx, i in enumerate(tqdm(inc_questions)):\n",
        "  context_relevance_list.append(get_con_relevance(i, inc_questions[i]))"
      ]
    },
    {
      "cell_type": "markdown",
      "metadata": {
        "id": "wwIKs0bdDeLt"
      },
      "source": [
        "## Calcula context relevance médio"
      ]
    },
    {
      "cell_type": "code",
      "execution_count": null,
      "metadata": {
        "colab": {
          "base_uri": "https://localhost:8080/"
        },
        "id": "Z70Ebjxn8hA9",
        "outputId": "d8c71a49-db6f-4882-b00e-5788bbe0ef59"
      },
      "outputs": [
        {
          "data": {
            "text/plain": [
              "0.6248080421993466"
            ]
          },
          "execution_count": 42,
          "metadata": {},
          "output_type": "execute_result"
        }
      ],
      "source": [
        "np.mean(context_relevance_list)"
      ]
    },
    {
      "cell_type": "markdown",
      "metadata": {
        "id": "t0ABbdH5DhYT"
      },
      "source": [
        "## Salva"
      ]
    },
    {
      "cell_type": "code",
      "execution_count": null,
      "metadata": {
        "id": "NMTJG2Hq8w9h"
      },
      "outputs": [],
      "source": [
        "file_path = 'con_rel.pkl'\n",
        "with open(file_path, 'wb') as file:\n",
        "  pickle.dump(context_relevance_list, file)"
      ]
    },
    {
      "cell_type": "markdown",
      "metadata": {
        "id": "4-5A-YZ2_w-c"
      },
      "source": [
        "#Análises adicionais"
      ]
    },
    {
      "cell_type": "markdown",
      "metadata": {
        "id": "60WalkM2QAQP"
      },
      "source": [
        "##Análises faithfulness"
      ]
    },
    {
      "cell_type": "code",
      "execution_count": null,
      "metadata": {
        "id": "5CUmaYV8-2g_"
      },
      "outputs": [],
      "source": [
        "jus_list = []\n",
        "sint_list = []\n",
        "for idx, i in enumerate(inc_questions):\n",
        "  if i in perguntas.keys():\n",
        "    jus_list.append(idx)\n",
        "  else:\n",
        "    sint_list.append(idx)"
      ]
    },
    {
      "cell_type": "code",
      "execution_count": null,
      "metadata": {
        "colab": {
          "base_uri": "https://localhost:8080/"
        },
        "id": "87dgKh8J_5ZD",
        "outputId": "6fb53650-fe76-4418-b082-595ac5e155ff"
      },
      "outputs": [
        {
          "name": "stdout",
          "output_type": "stream",
          "text": [
            "Média faithfulness jus:  0.48115079365079355\n",
            "Média faithfulness sintético:  0.8616341991341993\n"
          ]
        }
      ],
      "source": [
        "#Calcula diferença de faithfulness entre sintético e obtido na jusbrasil\n",
        "print('Média faithfulness jus: ', np.mean(np.array(faithfullnss_list)[np.array(jus_list)]))\n",
        "print('Média faithfulness sintético: ', np.mean(np.array(faithfullnss_list)[np.array(sint_list)]))"
      ]
    },
    {
      "cell_type": "code",
      "execution_count": null,
      "metadata": {
        "colab": {
          "base_uri": "https://localhost:8080/"
        },
        "id": "Ax1dwA9wEznI",
        "outputId": "4fced961-334c-4670-9e66-2f34bd3f6d3d"
      },
      "outputs": [
        {
          "data": {
            "text/plain": [
              "(array([ 1,  3,  4, 10, 20, 25, 26, 29, 32, 33, 37]),)"
            ]
          },
          "execution_count": 80,
          "metadata": {},
          "output_type": "execute_result"
        }
      ],
      "source": [
        "x = np.array(faithfullnss_list)[np.array(jus_list)]\n",
        "np.where(x == x.min())"
      ]
    },
    {
      "cell_type": "code",
      "execution_count": null,
      "metadata": {
        "colab": {
          "base_uri": "https://localhost:8080/",
          "height": 35
        },
        "id": "oIrZYkDTByvr",
        "outputId": "1525236a-e63e-4f54-bd2f-2cab6b716c95"
      },
      "outputs": [
        {
          "data": {
            "application/vnd.google.colaboratory.intrinsic+json": {
              "type": "string"
            },
            "text/plain": [
              "'O QUE FAZER SE ATRASAREM MEU SALÁRIO?'"
            ]
          },
          "execution_count": 75,
          "metadata": {},
          "output_type": "execute_result"
        }
      ],
      "source": [
        "list(inc_questions.keys())[jus_list[np.argmin(np.array(faithfullnss_list)[np.array(jus_list)])]]"
      ]
    },
    {
      "cell_type": "code",
      "execution_count": null,
      "metadata": {
        "colab": {
          "base_uri": "https://localhost:8080/"
        },
        "id": "OLBNtOQjCElD",
        "outputId": "df6e1a54-3ac7-4d53-ac87-7e14100377a8"
      },
      "outputs": [
        {
          "data": {
            "text/plain": [
              "{'resposta': 'O empregado que tem ou teve seu salário atrasado de forma frequente por vários meses, pode solicitar na justiça a rescisão indireta do seu contrato de trabalho, ou seja, o rompimento do contrato com o pagamento de todas as verbas que teria direito em caso de demissão sem justa causa.\\nAtraso de menos de 20 dias incide multa de 10% sobre o salário devido.\\nAtraso com mais de 20 dias incide a multa de 10% sobre o valor do saldo devedor, mais 5% sobre todos os dias úteis após o 20º dia.\\n',\n",
              " 'passagens': 'Art. 477. Na extinção do contrato de trabalho, o empregador deverá proceder à anotação na Carteira de Trabalho e Previdência Social, comunicar a dispensa aos órgãos competentes e realizar o pagamento das verbas rescisórias no prazo e na forma estabelecidos neste artigo. \\n§ 2º - O instrumento de rescisão ou recibo de quitação, qualquer que seja a causa ou forma de dissolução do contrato, deve ter especificada a natureza de cada parcela paga ao empregado e discriminado o seu valor, sendo válida a quitação, apenas, relativamente às mesmas parcelas. \\n§ 6 o A entrega ao empregado de documentos que comprovem a comunicação da extinção contratual aos órgãos competentes bem como o pagamento dos valores constantes do instrumento de rescisão ou recibo de quitação deverão ser efetuados até dez dias contados a partir do término do contrato. \\n§ 8º - A inobservância do disposto no § 6º deste artigo sujeitará o infrator à multa de 160 BTN, por trabalhador, bem assim ao pagamento da multa a favor do empregado, em valor equivalente ao seu salário, devidamente corrigido pelo índice de variação do BTN, salvo quando, comprovadamente, o trabalhador der causa à mora.'}"
            ]
          },
          "execution_count": 76,
          "metadata": {},
          "output_type": "execute_result"
        }
      ],
      "source": [
        "list(inc_questions.values())[jus_list[np.argmin(np.array(faithfullnss_list)[np.array(jus_list)])]]"
      ]
    },
    {
      "cell_type": "markdown",
      "metadata": {
        "id": "VEnY6ixFFKrT"
      },
      "source": [
        "##caso 2"
      ]
    },
    {
      "cell_type": "code",
      "execution_count": null,
      "metadata": {
        "colab": {
          "base_uri": "https://localhost:8080/",
          "height": 35
        },
        "id": "e431rF8GC8TL",
        "outputId": "d4c55f44-df71-4121-e9b8-0fafb693033c"
      },
      "outputs": [
        {
          "data": {
            "application/vnd.google.colaboratory.intrinsic+json": {
              "type": "string"
            },
            "text/plain": [
              "'TRABALHEI FERIADO E NÃO ME COMPENSARAM COM FOLGA, COMO DEVO RECEBER?'"
            ]
          },
          "execution_count": 81,
          "metadata": {},
          "output_type": "execute_result"
        }
      ],
      "source": [
        "list(inc_questions.keys())[jus_list[3]]"
      ]
    },
    {
      "cell_type": "code",
      "execution_count": null,
      "metadata": {
        "colab": {
          "base_uri": "https://localhost:8080/"
        },
        "id": "hmGLTBDzFML8",
        "outputId": "6641405b-e644-46d0-9084-e0c5f0755e49"
      },
      "outputs": [
        {
          "name": "stdout",
          "output_type": "stream",
          "text": [
            "Art. 59. A duração diária do trabalho poderá ser acrescida de horas extras, em número não excedente de duas, por acordo individual, convenção coletiva ou acordo coletivo de trabalho.  \n",
            "§ 1 o A remuneração da hora extra será, pelo menos, 50%  superior à da hora normal.  \n",
            "§2 o Poderá    ser dispensado o acréscimo de salário se, por força de acordo ou convenção coletiva    de trabalho, o excesso de horas em um dia for compensado pela correspondente diminuição    em outro dia, de maneira que não exceda, no período máximo de um ano, à soma das    jornadas semanais de trabalho previstas, nem seja ultrapassado o limite máximo de dez    horas diárias.\n",
            "\n",
            "Art. 59-A. Em exceção ao disposto no art. 59 desta Consolidação , é facultado às partes, mediante acordo individual escrito, convenção coletiva ou acordo coletivo de trabalho, estabelecer horário de trabalho de doze horas seguidas por trinta e seis horas ininterruptas de descanso, observados ou indenizados os intervalos para repouso e alimentação.  \n",
            "Parágrafo único. A remuneração mensal pactuada pelo horário previsto no caput deste artigo abrange os pagamentos devidos pelo descanso semanal remunerado e pelo descanso em feriados, e serão considerados compensados os feriados e as prorrogações de trabalho noturno, quando houver, de que tratam o art. 70 e o § 5º do art. 73 desta Consolidação .\n"
          ]
        }
      ],
      "source": [
        "print(list(inc_questions.values())[jus_list[3]]['passagens'])"
      ]
    },
    {
      "cell_type": "markdown",
      "metadata": {
        "id": "BJqjk2M3ITDl"
      },
      "source": [
        "##Questões sintéticas"
      ]
    },
    {
      "cell_type": "code",
      "execution_count": null,
      "metadata": {
        "colab": {
          "base_uri": "https://localhost:8080/"
        },
        "id": "sZplqIwYIDLO",
        "outputId": "6c9d6cfc-d385-439b-8d4c-20d5d313066b"
      },
      "outputs": [
        {
          "data": {
            "text/plain": [
              "(array([23]),)"
            ]
          },
          "execution_count": 97,
          "metadata": {},
          "output_type": "execute_result"
        }
      ],
      "source": [
        "x = np.array(faithfullnss_list)[np.array(sint_list)]\n",
        "np.where(x == x.min())"
      ]
    },
    {
      "cell_type": "code",
      "execution_count": null,
      "metadata": {
        "colab": {
          "base_uri": "https://localhost:8080/"
        },
        "id": "QF0T_6gxLH2L",
        "outputId": "eaeb6379-12e0-4da0-c00f-3fee559c9a59"
      },
      "outputs": [
        {
          "data": {
            "text/plain": [
              "0.42857142857142855"
            ]
          },
          "execution_count": 98,
          "metadata": {},
          "output_type": "execute_result"
        }
      ],
      "source": [
        "faithfullnss_list[sint_list[23]]"
      ]
    },
    {
      "cell_type": "code",
      "execution_count": null,
      "metadata": {
        "colab": {
          "base_uri": "https://localhost:8080/",
          "height": 35
        },
        "id": "Aq-pL9faEfAm",
        "outputId": "c133abf1-226a-4085-8675-814d1a096cc6"
      },
      "outputs": [
        {
          "data": {
            "application/vnd.google.colaboratory.intrinsic+json": {
              "type": "string"
            },
            "text/plain": [
              "'POSSO OBTER UMA CARTEIRA DE TRABALHO E PREVIDÊNCIA SOCIAL PARA USO DE QUÍMICOS SEM TER UM DIPLOMA DE QUÍMICO?'"
            ]
          },
          "execution_count": 95,
          "metadata": {},
          "output_type": "execute_result"
        }
      ],
      "source": [
        "list(inc_questions.keys())[sint_list[23]]"
      ]
    },
    {
      "cell_type": "code",
      "execution_count": null,
      "metadata": {
        "colab": {
          "base_uri": "https://localhost:8080/"
        },
        "id": "AsXh-nnXJIwu",
        "outputId": "73661504-e4a1-4eeb-96ae-8949551cc43b"
      },
      "outputs": [
        {
          "data": {
            "text/plain": [
              "{'resposta': 'Não, para obter uma Carteira de Trabalho e Previdência Social para uso de químicos, é necessário ter um diploma de químico, químico industrial, químico industrial agrícola ou engenheiro químico, expedido por escola superior oficial ou oficializada, além de outros documentos comprovantes.',\n",
              " 'passagens': '§ 1º - A requisição de Carteira de Trabalho e Previdência Social para uso dosquímicos, além do disposto no capítulo \"Da Identificação Profissional\",somente será processada mediante apresentação dos seguintes documentos que provem:\\na)ser o requerente brasileiro, nato ou naturalizado, ou estrangeiro;\\nb) estar, se forbrasileiro, de posse dos direitos civis e políticos;\\nc) ter diploma dequímico, químico industrial, químico industrial agrícola ou engenheiro químico,expedido por escola superior oficial ou oficializada;\\nd) ter, sediplomado no estrangeiro, o respectivo diploma revalidado nos termos da lei;\\ne) haver, o quefor brasileiro naturalizado, prestado serviço militar no Brasil;\\nf) achar-se oestrangeiro, ao ser promulgada a Constituição de 1934 , exercendo legitimamente, naRepública, a profissão de químico, ou concorrer a seu favor a existência dereciprocidade internacional, admitida em lei, para o reconhecimento dos diplomas dessaespecialidade.\\nb) do certificadoou atestado comprobatório de se achar o requerente na hipótese da alínea \"c\"do referido artigo, ao tempo da publicação do Decreto nº 24.693 de 12 de julho de 1934 ,no exercício efetivo de função pública, ou particular, para a qual seja exigida aqualidade de químico, devendo esses documentos ser autenticados pelo Delegado Regional doTrabalho, quando se referirem a requerentes moradores nas capitais dos Estados, ou coletorfederal, no caso de residirem os interessados nos municípios do interior;\\nc)de 3  exemplares de fotografia exigida pelo art. 329 e de 1  folha com asdeclarações que devem ser lançadas na Carteira de Trabalho e Previdência Social deconformidade com o disposto nas alíneas do mesmo artigo e seu parágrafo único.\\n§ 3º - Reconhecida a validade dos documentos apresentados, o Serviçode Identificação Profissional do Departamento Nacional do Trabalho, no Distrito Federal,ou os órgãos regionais do Ministério do Trabalho, Industria e Comercio, nos Estados eno Território do Acre, registrarão, em livros próprios, os documentos a que se refere aalínea \"c\" do § 1º e, juntamente com a Carteira de Trabalho e PrevidênciaSocial emitida, os devolverão ao interessado.\\n'}"
            ]
          },
          "execution_count": 100,
          "metadata": {},
          "output_type": "execute_result"
        }
      ],
      "source": [
        "print(list(inc_questions.values())[sint_list[23]])"
      ]
    },
    {
      "cell_type": "code",
      "execution_count": null,
      "metadata": {
        "colab": {
          "base_uri": "https://localhost:8080/"
        },
        "id": "Id5Rvy1PMALq",
        "outputId": "0d26cc65-b455-43b8-cacf-39809121f32a"
      },
      "outputs": [
        {
          "name": "stdout",
          "output_type": "stream",
          "text": [
            "§ 1º - A requisição de Carteira de Trabalho e Previdência Social para uso dosquímicos, além do disposto no capítulo \"Da Identificação Profissional\",somente será processada mediante apresentação dos seguintes documentos que provem:\n",
            "a)ser o requerente brasileiro, nato ou naturalizado, ou estrangeiro;\n",
            "b) estar, se forbrasileiro, de posse dos direitos civis e políticos;\n",
            "c) ter diploma dequímico, químico industrial, químico industrial agrícola ou engenheiro químico,expedido por escola superior oficial ou oficializada;\n",
            "d) ter, sediplomado no estrangeiro, o respectivo diploma revalidado nos termos da lei;\n",
            "e) haver, o quefor brasileiro naturalizado, prestado serviço militar no Brasil;\n",
            "f) achar-se oestrangeiro, ao ser promulgada a Constituição de 1934 , exercendo legitimamente, naRepública, a profissão de químico, ou concorrer a seu favor a existência dereciprocidade internacional, admitida em lei, para o reconhecimento dos diplomas dessaespecialidade.\n",
            "b) do certificadoou atestado comprobatório de se achar o requerente na hipótese da alínea \"c\"do referido artigo, ao tempo da publicação do Decreto nº 24.693 de 12 de julho de 1934 ,no exercício efetivo de função pública, ou particular, para a qual seja exigida aqualidade de químico, devendo esses documentos ser autenticados pelo Delegado Regional doTrabalho, quando se referirem a requerentes moradores nas capitais dos Estados, ou coletorfederal, no caso de residirem os interessados nos municípios do interior;\n",
            "c)de 3  exemplares de fotografia exigida pelo art. 329 e de 1  folha com asdeclarações que devem ser lançadas na Carteira de Trabalho e Previdência Social deconformidade com o disposto nas alíneas do mesmo artigo e seu parágrafo único.\n",
            "§ 3º - Reconhecida a validade dos documentos apresentados, o Serviçode Identificação Profissional do Departamento Nacional do Trabalho, no Distrito Federal,ou os órgãos regionais do Ministério do Trabalho, Industria e Comercio, nos Estados eno Território do Acre, registrarão, em livros próprios, os documentos a que se refere aalínea \"c\" do § 1º e, juntamente com a Carteira de Trabalho e PrevidênciaSocial emitida, os devolverão ao interessado.\n",
            "\n"
          ]
        }
      ],
      "source": [
        "print(list(inc_questions.values())[sint_list[23]]['passagens'])"
      ]
    },
    {
      "cell_type": "markdown",
      "metadata": {
        "id": "4DakYfd7MsZs"
      },
      "source": [
        "##Limpeza das perguntas com faithfulness = 0"
      ]
    },
    {
      "cell_type": "code",
      "execution_count": null,
      "metadata": {
        "colab": {
          "base_uri": "https://localhost:8080/"
        },
        "id": "TL298T9dOJTQ",
        "outputId": "4c642ac2-249c-4dc6-843c-bfa006a953e5"
      },
      "outputs": [
        {
          "name": "stdout",
          "output_type": "stream",
          "text": [
            "Média faithfulness jus:  0.6241956241956241\n"
          ]
        }
      ],
      "source": [
        "x = np.array(faithfullnss_list)[np.array(jus_list)]\n",
        "print('Média faithfulness jus: ', np.mean(x[np.where(x != 0)]))"
      ]
    },
    {
      "cell_type": "code",
      "execution_count": 115,
      "metadata": {
        "id": "Fx39HnjJki9I"
      },
      "outputs": [],
      "source": [
        "x = np.array(faithfullnss_list)\n",
        "for i in list(np.where(x == 0)[0])[::-1]:\n",
        "  del inc_questions[list(inc_questions.keys())[i]]\n",
        "  faithfullnss_list.pop(i)\n",
        "  answer_relevance_list.pop(i)\n",
        "  context_relevance_list.pop(i)"
      ]
    },
    {
      "cell_type": "code",
      "execution_count": 116,
      "metadata": {
        "id": "0POHmlMqlSs9"
      },
      "outputs": [],
      "source": [
        "jus_list = []\n",
        "sint_list = []\n",
        "for idx, i in enumerate(inc_questions):\n",
        "  if i in perguntas.keys():\n",
        "    jus_list.append(idx)\n",
        "  else:\n",
        "    sint_list.append(idx)"
      ]
    },
    {
      "cell_type": "code",
      "execution_count": 118,
      "metadata": {
        "colab": {
          "base_uri": "https://localhost:8080/"
        },
        "id": "WZzawxWylThi",
        "outputId": "db46cf51-5c0b-4662-b88d-47427105cbb3"
      },
      "outputs": [
        {
          "name": "stdout",
          "output_type": "stream",
          "text": [
            "Perguntas jusbrasil: 37\n",
            "Perguntas sintéticas: 43\n"
          ]
        }
      ],
      "source": [
        "print(\"Perguntas jusbrasil:\", len(jus_list))\n",
        "print(\"Perguntas sintéticas:\", len(sint_list))"
      ]
    },
    {
      "cell_type": "code",
      "execution_count": 120,
      "metadata": {
        "colab": {
          "base_uri": "https://localhost:8080/"
        },
        "id": "ZSgexyQJlVfr",
        "outputId": "03f658a9-55b8-48c0-8248-15b30228866b"
      },
      "outputs": [
        {
          "name": "stdout",
          "output_type": "stream",
          "text": [
            "Faithfulness:  0.7625892857142856\n",
            "Answer relevance:  0.7787762671709061\n",
            "Context relevance:  0.6924875818625819\n"
          ]
        }
      ],
      "source": [
        "print(\"Faithfulness: \", np.mean(faithfullnss_list))\n",
        "print(\"Answer relevance: \", np.mean(answer_relevance_list))\n",
        "print(\"Context relevance: \", np.mean(context_relevance_list))"
      ]
    },
    {
      "cell_type": "code",
      "execution_count": 129,
      "metadata": {
        "colab": {
          "base_uri": "https://localhost:8080/"
        },
        "id": "35KDK8evo7xO",
        "outputId": "e04cef31-95f1-486e-d269-8afd6a7a20f2"
      },
      "outputs": [
        {
          "data": {
            "text/plain": [
              "0.5262129604816437"
            ]
          },
          "execution_count": 129,
          "metadata": {},
          "output_type": "execute_result"
        }
      ],
      "source": [
        "min(answer_relevance_list)"
      ]
    },
    {
      "cell_type": "code",
      "execution_count": 123,
      "metadata": {
        "colab": {
          "base_uri": "https://localhost:8080/",
          "height": 35
        },
        "id": "lM5ce0zvmfwv",
        "outputId": "98c81bd9-4116-4aa0-b4c6-bfc24333853a"
      },
      "outputs": [
        {
          "data": {
            "application/vnd.google.colaboratory.intrinsic+json": {
              "type": "string"
            },
            "text/plain": [
              "'POSSO RECEBER MINHA CTPS EM FORMATO DIGITAL?'"
            ]
          },
          "execution_count": 123,
          "metadata": {},
          "output_type": "execute_result"
        }
      ],
      "source": [
        "list(inc_questions.keys())[np.argmin(answer_relevance_list)]"
      ]
    },
    {
      "cell_type": "code",
      "execution_count": 126,
      "metadata": {
        "colab": {
          "base_uri": "https://localhost:8080/"
        },
        "id": "Waurp2R1mwSr",
        "outputId": "3c5a84dd-ccca-4e13-de06-697b86466887"
      },
      "outputs": [
        {
          "name": "stdout",
          "output_type": "stream",
          "text": [
            "resposta:  Sim, a emissão da CTPS em formato eletrônico é privilegiada, ou seja, é o formato preferencial para a emissão da carteira de trabalho.\n",
            "passagem:  \n",
            "Art. 15. Os procedimentos para emissão da CTPS ao interessado serão estabelecidos pelo Ministério da Economia em regulamento próprio, privilegiada a emissão em formato eletrônico. \n",
            "\n"
          ]
        }
      ],
      "source": [
        "print(\"resposta: \", list(inc_questions.values())[np.argmin(answer_relevance_list)]['resposta'])\n",
        "print(\"passagem: \", list(inc_questions.values())[np.argmin(answer_relevance_list)]['passagens'])"
      ]
    },
    {
      "cell_type": "code",
      "execution_count": 136,
      "metadata": {
        "colab": {
          "base_uri": "https://localhost:8080/"
        },
        "id": "KY616_h_pAvw",
        "outputId": "26a9a3f0-728c-4dd8-a3d6-c9c020b2f702"
      },
      "outputs": [
        {
          "data": {
            "text/plain": [
              "array([35, 34, 16,  2])"
            ]
          },
          "execution_count": 136,
          "metadata": {},
          "output_type": "execute_result"
        }
      ],
      "source": [
        "#Acha indices de context_relevance igual a 0\n",
        "x = np.array(context_relevance_list)\n",
        "np.where(x == x.min())[0][::-1]"
      ]
    },
    {
      "cell_type": "code",
      "execution_count": 131,
      "metadata": {
        "colab": {
          "base_uri": "https://localhost:8080/",
          "height": 35
        },
        "id": "f3TvDdQMoxkz",
        "outputId": "081aba6b-c7c5-4ea5-8f18-ae833b84e501"
      },
      "outputs": [
        {
          "data": {
            "application/vnd.google.colaboratory.intrinsic+json": {
              "type": "string"
            },
            "text/plain": [
              "'O QUE SIGNIFICA SALDO DE SALÁRIO?'"
            ]
          },
          "execution_count": 131,
          "metadata": {},
          "output_type": "execute_result"
        }
      ],
      "source": [
        "list(inc_questions.keys())[np.argmin(context_relevance_list)]"
      ]
    },
    {
      "cell_type": "code",
      "execution_count": 132,
      "metadata": {
        "colab": {
          "base_uri": "https://localhost:8080/"
        },
        "id": "e8Ow3Ny1o1NB",
        "outputId": "9c40eba3-bd0e-422a-fe45-3e442a8777a7"
      },
      "outputs": [
        {
          "name": "stdout",
          "output_type": "stream",
          "text": [
            "resposta:  Saldo de salário são os dias do mês trabalhado, ou seja, se o empregado trabalhou até o dia 12 de março, seu saldo de salário será de 12 dias. É devido em qualquer tipo de rescisão do contrato.\n",
            "\n",
            "passagem:  Art. 477. Na extinção do contrato de trabalho, o empregador deverá proceder à anotação na Carteira de Trabalho e Previdência Social, comunicar a dispensa aos órgãos competentes e realizar o pagamento das verbas rescisórias no prazo e na forma estabelecidos neste artigo.\n",
            "\n",
            "§ 2º - O instrumento de rescisão ou recibo de quitação, qualquer que seja a causa ou forma de dissolução do contrato, deve ter especificada a natureza de cada parcela paga ao empregado e discriminado o seu valor, sendo válida a quitação, apenas, relativamente às mesmas parcelas.\n",
            "\n",
            "Art. 478 - A indenização devida pela rescisão de contrato por prazo indeterminado será de 1 mês de remuneração por ano de serviço efetivo, ou por ano e fração igual ou superior a 6 meses.\n",
            "\n",
            "Art. 487 - Não havendo prazo estipulado, a parte que, sem justo motivo, quiser rescindir o contrato deverá avisar a outra da sua resolução com a antecedência mínima de:\n",
            "I - oito dias, se o pagamento for efetuado por semana ou tempo inferior; \n",
            "II - trinta dias aos que perceberem por quinzena ou mês, ou que tenham mais de 12 meses de serviço na empresa.\n"
          ]
        }
      ],
      "source": [
        "print(\"resposta: \", list(inc_questions.values())[np.argmin(context_relevance_list)]['resposta'])\n",
        "print(\"passagem: \", list(inc_questions.values())[np.argmin(context_relevance_list)]['passagens'])"
      ]
    },
    {
      "cell_type": "code",
      "execution_count": 134,
      "metadata": {
        "colab": {
          "base_uri": "https://localhost:8080/",
          "height": 35
        },
        "id": "K9GAdFqDp1kT",
        "outputId": "ac1205d1-6c1a-400e-d88e-1245a104b450"
      },
      "outputs": [
        {
          "data": {
            "application/vnd.google.colaboratory.intrinsic+json": {
              "type": "string"
            },
            "text/plain": [
              "'EMPREGADA DOMÉSTICA TEM DIREITO ÀS FÉRIAS?'"
            ]
          },
          "execution_count": 134,
          "metadata": {},
          "output_type": "execute_result"
        }
      ],
      "source": [
        "list(inc_questions.keys())[16]"
      ]
    },
    {
      "cell_type": "code",
      "execution_count": 135,
      "metadata": {
        "colab": {
          "base_uri": "https://localhost:8080/"
        },
        "id": "WqUw3IPLp2kU",
        "outputId": "bedd093e-b90c-4a00-a636-9327ca03deca"
      },
      "outputs": [
        {
          "name": "stdout",
          "output_type": "stream",
          "text": [
            "resposta:  Sim, contudo só pode parcelar as férias em 2 períodos, um deles de no mínimo 14 dias.\n",
            "\n",
            "passagem:  Art. 134 - As férias serão concedidas por ato do empregador, em um só período, nos 12 meses subseqüentes à data em que o empregado tiver adquirido o direito.\n",
            "§ 1 o Desde que haja concordância do empregado, as férias poderão ser usufruídas em até três períodos, sendo que um deles não poderá ser inferior a quatorze dias corridos e os demais não poderão ser inferiores a cinco dias corridos, cada um.\n",
            "\n",
            "Art. 139 - Poderão ser concedidas férias coletivas a todos os empregados de uma empresa ou de determinados estabelecimentos ou setores da empresa.\n",
            "§ 1º - As férias poderão ser gozadas em 2 períodos anuais desde que nenhum deles seja inferior a 10 dias corridos.\n"
          ]
        }
      ],
      "source": [
        "print(\"resposta: \", list(inc_questions.values())[16]['resposta'])\n",
        "print(\"passagem: \", list(inc_questions.values())[16]['passagens'])"
      ]
    },
    {
      "cell_type": "markdown",
      "metadata": {
        "id": "GgGVD47bqvc_"
      },
      "source": [
        "##Limpeza com context relevance = 0"
      ]
    },
    {
      "cell_type": "code",
      "execution_count": 137,
      "metadata": {
        "id": "ySp4qvPTqsjU"
      },
      "outputs": [],
      "source": [
        "x = np.array(context_relevance_list)\n",
        "for i in list(np.where(x == 0)[0])[::-1]:\n",
        "  del inc_questions[list(inc_questions.keys())[i]]\n",
        "  faithfullnss_list.pop(i)\n",
        "  answer_relevance_list.pop(i)\n",
        "  context_relevance_list.pop(i)"
      ]
    },
    {
      "cell_type": "code",
      "execution_count": 138,
      "metadata": {
        "id": "yEsLNpNUsIyg"
      },
      "outputs": [],
      "source": [
        "jus_list = []\n",
        "sint_list = []\n",
        "for idx, i in enumerate(inc_questions):\n",
        "  if i in perguntas.keys():\n",
        "    jus_list.append(idx)\n",
        "  else:\n",
        "    sint_list.append(idx)"
      ]
    },
    {
      "cell_type": "code",
      "execution_count": 139,
      "metadata": {
        "colab": {
          "base_uri": "https://localhost:8080/"
        },
        "id": "vMRGSgFfse1P",
        "outputId": "e805ef96-3a32-4554-ca47-87b2a99e59b1"
      },
      "outputs": [
        {
          "name": "stdout",
          "output_type": "stream",
          "text": [
            "Perguntas jusbrasil: 33\n",
            "Perguntas sintéticas: 43\n"
          ]
        }
      ],
      "source": [
        "print(\"Perguntas jusbrasil:\", len(jus_list))\n",
        "print(\"Perguntas sintéticas:\", len(sint_list))"
      ]
    },
    {
      "cell_type": "code",
      "execution_count": 140,
      "metadata": {
        "colab": {
          "base_uri": "https://localhost:8080/"
        },
        "id": "8Sj1ibfPse1Q",
        "outputId": "3d69aeb6-9530-4ba1-8525-a417029635bd"
      },
      "outputs": [
        {
          "name": "stdout",
          "output_type": "stream",
          "text": [
            "Faithfulness:  0.7698308270676691\n",
            "Answer relevance:  0.7851408414150539\n",
            "Context relevance:  0.7289342966974546\n"
          ]
        }
      ],
      "source": [
        "print(\"Faithfulness: \", np.mean(faithfullnss_list))\n",
        "print(\"Answer relevance: \", np.mean(answer_relevance_list))\n",
        "print(\"Context relevance: \", np.mean(context_relevance_list))"
      ]
    },
    {
      "cell_type": "code",
      "execution_count": 141,
      "metadata": {
        "colab": {
          "base_uri": "https://localhost:8080/"
        },
        "id": "JbBa0vZvswNQ",
        "outputId": "04af36cb-c786-45f2-f40a-5d089c4aacfd"
      },
      "outputs": [
        {
          "name": "stdout",
          "output_type": "stream",
          "text": [
            "Média faithfulness jus:  0.624098124098124\n",
            "Média faithfulness sintético:  0.881672203765227\n"
          ]
        }
      ],
      "source": [
        "print('Média faithfulness jus: ', np.mean(np.array(faithfullnss_list)[np.array(jus_list)]))\n",
        "print('Média faithfulness sintético: ', np.mean(np.array(faithfullnss_list)[np.array(sint_list)]))"
      ]
    },
    {
      "cell_type": "code",
      "execution_count": 142,
      "metadata": {
        "colab": {
          "base_uri": "https://localhost:8080/"
        },
        "id": "fXoUtHS6syIr",
        "outputId": "e6be048e-4a7e-46f7-a834-9de840bff330"
      },
      "outputs": [
        {
          "name": "stdout",
          "output_type": "stream",
          "text": [
            "Média faithfulness jus:  0.7572978071191094\n",
            "Média faithfulness sintético:  0.8065087514561277\n"
          ]
        }
      ],
      "source": [
        "print('Média answer relevance jus: ', np.mean(np.array(answer_relevance_list)[np.array(jus_list)]))\n",
        "print('Média answer relevance sintético: ', np.mean(np.array(answer_relevance_list)[np.array(sint_list)]))"
      ]
    },
    {
      "cell_type": "code",
      "execution_count": 143,
      "metadata": {
        "colab": {
          "base_uri": "https://localhost:8080/"
        },
        "id": "AsTIP7xss124",
        "outputId": "c2345543-b3b1-43cb-87fe-6d19b9de453b"
      },
      "outputs": [
        {
          "name": "stdout",
          "output_type": "stream",
          "text": [
            "Média context relevance jus:  0.6040404040404039\n",
            "Média context relevance sintético:  0.8247830980389121\n"
          ]
        }
      ],
      "source": [
        "print('Média context relevance jus: ', np.mean(np.array(context_relevance_list)[np.array(jus_list)]))\n",
        "print('Média context relevance sintético: ', np.mean(np.array(context_relevance_list)[np.array(sint_list)]))"
      ]
    },
    {
      "cell_type": "code",
      "execution_count": 144,
      "metadata": {
        "id": "XbM70lcYuao8"
      },
      "outputs": [],
      "source": [
        "file_path = 'dataset_limpo.pkl'\n",
        "with open(file_path, 'wb') as file:\n",
        "    pickle.dump(inc_questions, file)"
      ]
    }
  ],
  "metadata": {
    "colab": {
      "provenance": []
    },
    "kernelspec": {
      "display_name": "Python 3",
      "name": "python3"
    },
    "language_info": {
      "name": "python"
    },
    "widgets": {
      "application/vnd.jupyter.widget-state+json": {
        "01034e26a70b4f67b0513611f94d8405": {
          "model_module": "@jupyter-widgets/controls",
          "model_module_version": "1.5.0",
          "model_name": "DescriptionStyleModel",
          "state": {
            "_model_module": "@jupyter-widgets/controls",
            "_model_module_version": "1.5.0",
            "_model_name": "DescriptionStyleModel",
            "_view_count": null,
            "_view_module": "@jupyter-widgets/base",
            "_view_module_version": "1.2.0",
            "_view_name": "StyleView",
            "description_width": ""
          }
        },
        "028bf57d73cb4c7ebcedcca6823d3822": {
          "model_module": "@jupyter-widgets/base",
          "model_module_version": "1.2.0",
          "model_name": "LayoutModel",
          "state": {
            "_model_module": "@jupyter-widgets/base",
            "_model_module_version": "1.2.0",
            "_model_name": "LayoutModel",
            "_view_count": null,
            "_view_module": "@jupyter-widgets/base",
            "_view_module_version": "1.2.0",
            "_view_name": "LayoutView",
            "align_content": null,
            "align_items": null,
            "align_self": null,
            "border": null,
            "bottom": null,
            "display": null,
            "flex": null,
            "flex_flow": null,
            "grid_area": null,
            "grid_auto_columns": null,
            "grid_auto_flow": null,
            "grid_auto_rows": null,
            "grid_column": null,
            "grid_gap": null,
            "grid_row": null,
            "grid_template_areas": null,
            "grid_template_columns": null,
            "grid_template_rows": null,
            "height": null,
            "justify_content": null,
            "justify_items": null,
            "left": null,
            "margin": null,
            "max_height": null,
            "max_width": null,
            "min_height": null,
            "min_width": null,
            "object_fit": null,
            "object_position": null,
            "order": null,
            "overflow": null,
            "overflow_x": null,
            "overflow_y": null,
            "padding": null,
            "right": null,
            "top": null,
            "visibility": null,
            "width": null
          }
        },
        "03cd5b8bbc4741ada07049b686aecdea": {
          "model_module": "@jupyter-widgets/base",
          "model_module_version": "1.2.0",
          "model_name": "LayoutModel",
          "state": {
            "_model_module": "@jupyter-widgets/base",
            "_model_module_version": "1.2.0",
            "_model_name": "LayoutModel",
            "_view_count": null,
            "_view_module": "@jupyter-widgets/base",
            "_view_module_version": "1.2.0",
            "_view_name": "LayoutView",
            "align_content": null,
            "align_items": null,
            "align_self": null,
            "border": null,
            "bottom": null,
            "display": null,
            "flex": null,
            "flex_flow": null,
            "grid_area": null,
            "grid_auto_columns": null,
            "grid_auto_flow": null,
            "grid_auto_rows": null,
            "grid_column": null,
            "grid_gap": null,
            "grid_row": null,
            "grid_template_areas": null,
            "grid_template_columns": null,
            "grid_template_rows": null,
            "height": null,
            "justify_content": null,
            "justify_items": null,
            "left": null,
            "margin": null,
            "max_height": null,
            "max_width": null,
            "min_height": null,
            "min_width": null,
            "object_fit": null,
            "object_position": null,
            "order": null,
            "overflow": null,
            "overflow_x": null,
            "overflow_y": null,
            "padding": null,
            "right": null,
            "top": null,
            "visibility": null,
            "width": null
          }
        },
        "044888e80a924f95acbfc13dd5fe169f": {
          "model_module": "@jupyter-widgets/controls",
          "model_module_version": "1.5.0",
          "model_name": "ProgressStyleModel",
          "state": {
            "_model_module": "@jupyter-widgets/controls",
            "_model_module_version": "1.5.0",
            "_model_name": "ProgressStyleModel",
            "_view_count": null,
            "_view_module": "@jupyter-widgets/base",
            "_view_module_version": "1.2.0",
            "_view_name": "StyleView",
            "bar_color": null,
            "description_width": ""
          }
        },
        "05deb9c2a1f74098b6975248068b5d0f": {
          "model_module": "@jupyter-widgets/controls",
          "model_module_version": "1.5.0",
          "model_name": "FloatProgressModel",
          "state": {
            "_dom_classes": [],
            "_model_module": "@jupyter-widgets/controls",
            "_model_module_version": "1.5.0",
            "_model_name": "FloatProgressModel",
            "_view_count": null,
            "_view_module": "@jupyter-widgets/controls",
            "_view_module_version": "1.5.0",
            "_view_name": "ProgressView",
            "bar_style": "success",
            "description": "",
            "description_tooltip": null,
            "layout": "IPY_MODEL_a35fdd5db8c840f2b6be5640edbf9067",
            "max": 122,
            "min": 0,
            "orientation": "horizontal",
            "style": "IPY_MODEL_a87f44c5bf5442e1af47b17761d432f5",
            "value": 122
          }
        },
        "062fa39184af4b1db319497a749764d4": {
          "model_module": "@jupyter-widgets/controls",
          "model_module_version": "1.5.0",
          "model_name": "HBoxModel",
          "state": {
            "_dom_classes": [],
            "_model_module": "@jupyter-widgets/controls",
            "_model_module_version": "1.5.0",
            "_model_name": "HBoxModel",
            "_view_count": null,
            "_view_module": "@jupyter-widgets/controls",
            "_view_module_version": "1.5.0",
            "_view_name": "HBoxView",
            "box_style": "",
            "children": [
              "IPY_MODEL_45fe98b2ce4a4ef9812f33e5804dc291",
              "IPY_MODEL_f4c2726489614fdebea3ba1ca7121952",
              "IPY_MODEL_3d578ed75d9849edbe87f6b8cb362f9e"
            ],
            "layout": "IPY_MODEL_0d1d794753fb40668bf46ac12bd9d824"
          }
        },
        "09c81a2a731d46b7a4583664c6aca84b": {
          "model_module": "@jupyter-widgets/base",
          "model_module_version": "1.2.0",
          "model_name": "LayoutModel",
          "state": {
            "_model_module": "@jupyter-widgets/base",
            "_model_module_version": "1.2.0",
            "_model_name": "LayoutModel",
            "_view_count": null,
            "_view_module": "@jupyter-widgets/base",
            "_view_module_version": "1.2.0",
            "_view_name": "LayoutView",
            "align_content": null,
            "align_items": null,
            "align_self": null,
            "border": null,
            "bottom": null,
            "display": null,
            "flex": null,
            "flex_flow": null,
            "grid_area": null,
            "grid_auto_columns": null,
            "grid_auto_flow": null,
            "grid_auto_rows": null,
            "grid_column": null,
            "grid_gap": null,
            "grid_row": null,
            "grid_template_areas": null,
            "grid_template_columns": null,
            "grid_template_rows": null,
            "height": null,
            "justify_content": null,
            "justify_items": null,
            "left": null,
            "margin": null,
            "max_height": null,
            "max_width": null,
            "min_height": null,
            "min_width": null,
            "object_fit": null,
            "object_position": null,
            "order": null,
            "overflow": null,
            "overflow_x": null,
            "overflow_y": null,
            "padding": null,
            "right": null,
            "top": null,
            "visibility": null,
            "width": null
          }
        },
        "0b5b4671188346379d4d14ef03693763": {
          "model_module": "@jupyter-widgets/base",
          "model_module_version": "1.2.0",
          "model_name": "LayoutModel",
          "state": {
            "_model_module": "@jupyter-widgets/base",
            "_model_module_version": "1.2.0",
            "_model_name": "LayoutModel",
            "_view_count": null,
            "_view_module": "@jupyter-widgets/base",
            "_view_module_version": "1.2.0",
            "_view_name": "LayoutView",
            "align_content": null,
            "align_items": null,
            "align_self": null,
            "border": null,
            "bottom": null,
            "display": null,
            "flex": null,
            "flex_flow": null,
            "grid_area": null,
            "grid_auto_columns": null,
            "grid_auto_flow": null,
            "grid_auto_rows": null,
            "grid_column": null,
            "grid_gap": null,
            "grid_row": null,
            "grid_template_areas": null,
            "grid_template_columns": null,
            "grid_template_rows": null,
            "height": null,
            "justify_content": null,
            "justify_items": null,
            "left": null,
            "margin": null,
            "max_height": null,
            "max_width": null,
            "min_height": null,
            "min_width": null,
            "object_fit": null,
            "object_position": null,
            "order": null,
            "overflow": null,
            "overflow_x": null,
            "overflow_y": null,
            "padding": null,
            "right": null,
            "top": null,
            "visibility": null,
            "width": null
          }
        },
        "0d1d794753fb40668bf46ac12bd9d824": {
          "model_module": "@jupyter-widgets/base",
          "model_module_version": "1.2.0",
          "model_name": "LayoutModel",
          "state": {
            "_model_module": "@jupyter-widgets/base",
            "_model_module_version": "1.2.0",
            "_model_name": "LayoutModel",
            "_view_count": null,
            "_view_module": "@jupyter-widgets/base",
            "_view_module_version": "1.2.0",
            "_view_name": "LayoutView",
            "align_content": null,
            "align_items": null,
            "align_self": null,
            "border": null,
            "bottom": null,
            "display": null,
            "flex": null,
            "flex_flow": null,
            "grid_area": null,
            "grid_auto_columns": null,
            "grid_auto_flow": null,
            "grid_auto_rows": null,
            "grid_column": null,
            "grid_gap": null,
            "grid_row": null,
            "grid_template_areas": null,
            "grid_template_columns": null,
            "grid_template_rows": null,
            "height": null,
            "justify_content": null,
            "justify_items": null,
            "left": null,
            "margin": null,
            "max_height": null,
            "max_width": null,
            "min_height": null,
            "min_width": null,
            "object_fit": null,
            "object_position": null,
            "order": null,
            "overflow": null,
            "overflow_x": null,
            "overflow_y": null,
            "padding": null,
            "right": null,
            "top": null,
            "visibility": null,
            "width": null
          }
        },
        "0d78c04d0470493d8a77abf3203a85d8": {
          "model_module": "@jupyter-widgets/controls",
          "model_module_version": "1.5.0",
          "model_name": "HTMLModel",
          "state": {
            "_dom_classes": [],
            "_model_module": "@jupyter-widgets/controls",
            "_model_module_version": "1.5.0",
            "_model_name": "HTMLModel",
            "_view_count": null,
            "_view_module": "@jupyter-widgets/controls",
            "_view_module_version": "1.5.0",
            "_view_name": "HTMLView",
            "description": "",
            "description_tooltip": null,
            "layout": "IPY_MODEL_c7ed878ae5284e1aae10d4820bd63a16",
            "placeholder": "​",
            "style": "IPY_MODEL_f689cc29e76f4ef680bc48779c64f97b",
            "value": " 204/204 [00:00&lt;00:00, 11.0kB/s]"
          }
        },
        "0e8da1eaf12a4f7785acb0e7ed26e922": {
          "model_module": "@jupyter-widgets/controls",
          "model_module_version": "1.5.0",
          "model_name": "ProgressStyleModel",
          "state": {
            "_model_module": "@jupyter-widgets/controls",
            "_model_module_version": "1.5.0",
            "_model_name": "ProgressStyleModel",
            "_view_count": null,
            "_view_module": "@jupyter-widgets/base",
            "_view_module_version": "1.2.0",
            "_view_name": "StyleView",
            "bar_color": null,
            "description_width": ""
          }
        },
        "0f2e49dca90f490297bce4a965bb21a5": {
          "model_module": "@jupyter-widgets/base",
          "model_module_version": "1.2.0",
          "model_name": "LayoutModel",
          "state": {
            "_model_module": "@jupyter-widgets/base",
            "_model_module_version": "1.2.0",
            "_model_name": "LayoutModel",
            "_view_count": null,
            "_view_module": "@jupyter-widgets/base",
            "_view_module_version": "1.2.0",
            "_view_name": "LayoutView",
            "align_content": null,
            "align_items": null,
            "align_self": null,
            "border": null,
            "bottom": null,
            "display": null,
            "flex": null,
            "flex_flow": null,
            "grid_area": null,
            "grid_auto_columns": null,
            "grid_auto_flow": null,
            "grid_auto_rows": null,
            "grid_column": null,
            "grid_gap": null,
            "grid_row": null,
            "grid_template_areas": null,
            "grid_template_columns": null,
            "grid_template_rows": null,
            "height": null,
            "justify_content": null,
            "justify_items": null,
            "left": null,
            "margin": null,
            "max_height": null,
            "max_width": null,
            "min_height": null,
            "min_width": null,
            "object_fit": null,
            "object_position": null,
            "order": null,
            "overflow": null,
            "overflow_x": null,
            "overflow_y": null,
            "padding": null,
            "right": null,
            "top": null,
            "visibility": null,
            "width": null
          }
        },
        "1044fa72ac844d3bbe441d626e15bf78": {
          "model_module": "@jupyter-widgets/base",
          "model_module_version": "1.2.0",
          "model_name": "LayoutModel",
          "state": {
            "_model_module": "@jupyter-widgets/base",
            "_model_module_version": "1.2.0",
            "_model_name": "LayoutModel",
            "_view_count": null,
            "_view_module": "@jupyter-widgets/base",
            "_view_module_version": "1.2.0",
            "_view_name": "LayoutView",
            "align_content": null,
            "align_items": null,
            "align_self": null,
            "border": null,
            "bottom": null,
            "display": null,
            "flex": null,
            "flex_flow": null,
            "grid_area": null,
            "grid_auto_columns": null,
            "grid_auto_flow": null,
            "grid_auto_rows": null,
            "grid_column": null,
            "grid_gap": null,
            "grid_row": null,
            "grid_template_areas": null,
            "grid_template_columns": null,
            "grid_template_rows": null,
            "height": null,
            "justify_content": null,
            "justify_items": null,
            "left": null,
            "margin": null,
            "max_height": null,
            "max_width": null,
            "min_height": null,
            "min_width": null,
            "object_fit": null,
            "object_position": null,
            "order": null,
            "overflow": null,
            "overflow_x": null,
            "overflow_y": null,
            "padding": null,
            "right": null,
            "top": null,
            "visibility": null,
            "width": null
          }
        },
        "1668c23be4ee48628b4f859e089d3f64": {
          "model_module": "@jupyter-widgets/controls",
          "model_module_version": "1.5.0",
          "model_name": "ProgressStyleModel",
          "state": {
            "_model_module": "@jupyter-widgets/controls",
            "_model_module_version": "1.5.0",
            "_model_name": "ProgressStyleModel",
            "_view_count": null,
            "_view_module": "@jupyter-widgets/base",
            "_view_module_version": "1.2.0",
            "_view_name": "StyleView",
            "bar_color": null,
            "description_width": ""
          }
        },
        "177c97c69bd94f5a9dc3c2bed0b39c64": {
          "model_module": "@jupyter-widgets/base",
          "model_module_version": "1.2.0",
          "model_name": "LayoutModel",
          "state": {
            "_model_module": "@jupyter-widgets/base",
            "_model_module_version": "1.2.0",
            "_model_name": "LayoutModel",
            "_view_count": null,
            "_view_module": "@jupyter-widgets/base",
            "_view_module_version": "1.2.0",
            "_view_name": "LayoutView",
            "align_content": null,
            "align_items": null,
            "align_self": null,
            "border": null,
            "bottom": null,
            "display": null,
            "flex": null,
            "flex_flow": null,
            "grid_area": null,
            "grid_auto_columns": null,
            "grid_auto_flow": null,
            "grid_auto_rows": null,
            "grid_column": null,
            "grid_gap": null,
            "grid_row": null,
            "grid_template_areas": null,
            "grid_template_columns": null,
            "grid_template_rows": null,
            "height": null,
            "justify_content": null,
            "justify_items": null,
            "left": null,
            "margin": null,
            "max_height": null,
            "max_width": null,
            "min_height": null,
            "min_width": null,
            "object_fit": null,
            "object_position": null,
            "order": null,
            "overflow": null,
            "overflow_x": null,
            "overflow_y": null,
            "padding": null,
            "right": null,
            "top": null,
            "visibility": null,
            "width": null
          }
        },
        "19720161841443a59659a874b6a71671": {
          "model_module": "@jupyter-widgets/base",
          "model_module_version": "1.2.0",
          "model_name": "LayoutModel",
          "state": {
            "_model_module": "@jupyter-widgets/base",
            "_model_module_version": "1.2.0",
            "_model_name": "LayoutModel",
            "_view_count": null,
            "_view_module": "@jupyter-widgets/base",
            "_view_module_version": "1.2.0",
            "_view_name": "LayoutView",
            "align_content": null,
            "align_items": null,
            "align_self": null,
            "border": null,
            "bottom": null,
            "display": null,
            "flex": null,
            "flex_flow": null,
            "grid_area": null,
            "grid_auto_columns": null,
            "grid_auto_flow": null,
            "grid_auto_rows": null,
            "grid_column": null,
            "grid_gap": null,
            "grid_row": null,
            "grid_template_areas": null,
            "grid_template_columns": null,
            "grid_template_rows": null,
            "height": null,
            "justify_content": null,
            "justify_items": null,
            "left": null,
            "margin": null,
            "max_height": null,
            "max_width": null,
            "min_height": null,
            "min_width": null,
            "object_fit": null,
            "object_position": null,
            "order": null,
            "overflow": null,
            "overflow_x": null,
            "overflow_y": null,
            "padding": null,
            "right": null,
            "top": null,
            "visibility": null,
            "width": null
          }
        },
        "1ea93c71cf8649cb8e0c46b9d7973ddb": {
          "model_module": "@jupyter-widgets/controls",
          "model_module_version": "1.5.0",
          "model_name": "HTMLModel",
          "state": {
            "_dom_classes": [],
            "_model_module": "@jupyter-widgets/controls",
            "_model_module_version": "1.5.0",
            "_model_name": "HTMLModel",
            "_view_count": null,
            "_view_module": "@jupyter-widgets/controls",
            "_view_module_version": "1.5.0",
            "_view_name": "HTMLView",
            "description": "",
            "description_tooltip": null,
            "layout": "IPY_MODEL_58ae2cb303b74f4f8a5bd3f295b03b28",
            "placeholder": "​",
            "style": "IPY_MODEL_ef81e97290f24e3e8f80d4e55c935565",
            "value": "special_tokens_map.json: 100%"
          }
        },
        "218f62b2b17a4fffbff346b3950c25bc": {
          "model_module": "@jupyter-widgets/controls",
          "model_module_version": "1.5.0",
          "model_name": "HTMLModel",
          "state": {
            "_dom_classes": [],
            "_model_module": "@jupyter-widgets/controls",
            "_model_module_version": "1.5.0",
            "_model_name": "HTMLModel",
            "_view_count": null,
            "_view_module": "@jupyter-widgets/controls",
            "_view_module_version": "1.5.0",
            "_view_name": "HTMLView",
            "description": "",
            "description_tooltip": null,
            "layout": "IPY_MODEL_9cd758d0f0ff47b28e791562478b6412",
            "placeholder": "​",
            "style": "IPY_MODEL_987ccce36ce14507990884e9b5fdfc63",
            "value": " 367/367 [00:00&lt;00:00, 7.75kB/s]"
          }
        },
        "2203400613b646689e39c5ff3678f9c9": {
          "model_module": "@jupyter-widgets/controls",
          "model_module_version": "1.5.0",
          "model_name": "HBoxModel",
          "state": {
            "_dom_classes": [],
            "_model_module": "@jupyter-widgets/controls",
            "_model_module_version": "1.5.0",
            "_model_name": "HBoxModel",
            "_view_count": null,
            "_view_module": "@jupyter-widgets/controls",
            "_view_module_version": "1.5.0",
            "_view_name": "HBoxView",
            "box_style": "",
            "children": [
              "IPY_MODEL_318e5c9261534c99846cd16cef138b6d",
              "IPY_MODEL_f231610cd6a94a9991f0bb342e1c2038",
              "IPY_MODEL_0d78c04d0470493d8a77abf3203a85d8"
            ],
            "layout": "IPY_MODEL_5e714075b8914bfbac99eb33934bf75b"
          }
        },
        "24afbf7775ff4aba834bc78741424414": {
          "model_module": "@jupyter-widgets/controls",
          "model_module_version": "1.5.0",
          "model_name": "DescriptionStyleModel",
          "state": {
            "_model_module": "@jupyter-widgets/controls",
            "_model_module_version": "1.5.0",
            "_model_name": "DescriptionStyleModel",
            "_view_count": null,
            "_view_module": "@jupyter-widgets/base",
            "_view_module_version": "1.2.0",
            "_view_name": "StyleView",
            "description_width": ""
          }
        },
        "256f79fcb8f3444a88851309f1aaffe4": {
          "model_module": "@jupyter-widgets/base",
          "model_module_version": "1.2.0",
          "model_name": "LayoutModel",
          "state": {
            "_model_module": "@jupyter-widgets/base",
            "_model_module_version": "1.2.0",
            "_model_name": "LayoutModel",
            "_view_count": null,
            "_view_module": "@jupyter-widgets/base",
            "_view_module_version": "1.2.0",
            "_view_name": "LayoutView",
            "align_content": null,
            "align_items": null,
            "align_self": null,
            "border": null,
            "bottom": null,
            "display": null,
            "flex": null,
            "flex_flow": null,
            "grid_area": null,
            "grid_auto_columns": null,
            "grid_auto_flow": null,
            "grid_auto_rows": null,
            "grid_column": null,
            "grid_gap": null,
            "grid_row": null,
            "grid_template_areas": null,
            "grid_template_columns": null,
            "grid_template_rows": null,
            "height": null,
            "justify_content": null,
            "justify_items": null,
            "left": null,
            "margin": null,
            "max_height": null,
            "max_width": null,
            "min_height": null,
            "min_width": null,
            "object_fit": null,
            "object_position": null,
            "order": null,
            "overflow": null,
            "overflow_x": null,
            "overflow_y": null,
            "padding": null,
            "right": null,
            "top": null,
            "visibility": null,
            "width": null
          }
        },
        "2e91900f28bb45e8950705833c101845": {
          "model_module": "@jupyter-widgets/base",
          "model_module_version": "1.2.0",
          "model_name": "LayoutModel",
          "state": {
            "_model_module": "@jupyter-widgets/base",
            "_model_module_version": "1.2.0",
            "_model_name": "LayoutModel",
            "_view_count": null,
            "_view_module": "@jupyter-widgets/base",
            "_view_module_version": "1.2.0",
            "_view_name": "LayoutView",
            "align_content": null,
            "align_items": null,
            "align_self": null,
            "border": null,
            "bottom": null,
            "display": null,
            "flex": null,
            "flex_flow": null,
            "grid_area": null,
            "grid_auto_columns": null,
            "grid_auto_flow": null,
            "grid_auto_rows": null,
            "grid_column": null,
            "grid_gap": null,
            "grid_row": null,
            "grid_template_areas": null,
            "grid_template_columns": null,
            "grid_template_rows": null,
            "height": null,
            "justify_content": null,
            "justify_items": null,
            "left": null,
            "margin": null,
            "max_height": null,
            "max_width": null,
            "min_height": null,
            "min_width": null,
            "object_fit": null,
            "object_position": null,
            "order": null,
            "overflow": null,
            "overflow_x": null,
            "overflow_y": null,
            "padding": null,
            "right": null,
            "top": null,
            "visibility": null,
            "width": null
          }
        },
        "2f89bffebca54916af294fd0ac3b361a": {
          "model_module": "@jupyter-widgets/base",
          "model_module_version": "1.2.0",
          "model_name": "LayoutModel",
          "state": {
            "_model_module": "@jupyter-widgets/base",
            "_model_module_version": "1.2.0",
            "_model_name": "LayoutModel",
            "_view_count": null,
            "_view_module": "@jupyter-widgets/base",
            "_view_module_version": "1.2.0",
            "_view_name": "LayoutView",
            "align_content": null,
            "align_items": null,
            "align_self": null,
            "border": null,
            "bottom": null,
            "display": null,
            "flex": null,
            "flex_flow": null,
            "grid_area": null,
            "grid_auto_columns": null,
            "grid_auto_flow": null,
            "grid_auto_rows": null,
            "grid_column": null,
            "grid_gap": null,
            "grid_row": null,
            "grid_template_areas": null,
            "grid_template_columns": null,
            "grid_template_rows": null,
            "height": null,
            "justify_content": null,
            "justify_items": null,
            "left": null,
            "margin": null,
            "max_height": null,
            "max_width": null,
            "min_height": null,
            "min_width": null,
            "object_fit": null,
            "object_position": null,
            "order": null,
            "overflow": null,
            "overflow_x": null,
            "overflow_y": null,
            "padding": null,
            "right": null,
            "top": null,
            "visibility": null,
            "width": null
          }
        },
        "2f98605e554141a8848bab6d23d20a57": {
          "model_module": "@jupyter-widgets/controls",
          "model_module_version": "1.5.0",
          "model_name": "FloatProgressModel",
          "state": {
            "_dom_classes": [],
            "_model_module": "@jupyter-widgets/controls",
            "_model_module_version": "1.5.0",
            "_model_name": "FloatProgressModel",
            "_view_count": null,
            "_view_module": "@jupyter-widgets/controls",
            "_view_module_version": "1.5.0",
            "_view_name": "ProgressView",
            "bar_style": "success",
            "description": "",
            "description_tooltip": null,
            "layout": "IPY_MODEL_33864a5ebf1e458db11a30b2b293eb58",
            "max": 3673800,
            "min": 0,
            "orientation": "horizontal",
            "style": "IPY_MODEL_c80868cbc31d4005810d294b3200a531",
            "value": 3673800
          }
        },
        "304583e2871742f3ab47b19034972964": {
          "model_module": "@jupyter-widgets/controls",
          "model_module_version": "1.5.0",
          "model_name": "DescriptionStyleModel",
          "state": {
            "_model_module": "@jupyter-widgets/controls",
            "_model_module_version": "1.5.0",
            "_model_name": "DescriptionStyleModel",
            "_view_count": null,
            "_view_module": "@jupyter-widgets/base",
            "_view_module_version": "1.2.0",
            "_view_name": "StyleView",
            "description_width": ""
          }
        },
        "318e5c9261534c99846cd16cef138b6d": {
          "model_module": "@jupyter-widgets/controls",
          "model_module_version": "1.5.0",
          "model_name": "HTMLModel",
          "state": {
            "_dom_classes": [],
            "_model_module": "@jupyter-widgets/controls",
            "_model_module_version": "1.5.0",
            "_model_name": "HTMLModel",
            "_view_count": null,
            "_view_module": "@jupyter-widgets/controls",
            "_view_module_version": "1.5.0",
            "_view_name": "HTMLView",
            "description": "",
            "description_tooltip": null,
            "layout": "IPY_MODEL_f52b7c5b70fa4f3c90188eb3acf19fd9",
            "placeholder": "​",
            "style": "IPY_MODEL_f9949fb372734d2792a9f533484e6273",
            "value": "1_Pooling/config.json: 100%"
          }
        },
        "33864a5ebf1e458db11a30b2b293eb58": {
          "model_module": "@jupyter-widgets/base",
          "model_module_version": "1.2.0",
          "model_name": "LayoutModel",
          "state": {
            "_model_module": "@jupyter-widgets/base",
            "_model_module_version": "1.2.0",
            "_model_name": "LayoutModel",
            "_view_count": null,
            "_view_module": "@jupyter-widgets/base",
            "_view_module_version": "1.2.0",
            "_view_name": "LayoutView",
            "align_content": null,
            "align_items": null,
            "align_self": null,
            "border": null,
            "bottom": null,
            "display": null,
            "flex": null,
            "flex_flow": null,
            "grid_area": null,
            "grid_auto_columns": null,
            "grid_auto_flow": null,
            "grid_auto_rows": null,
            "grid_column": null,
            "grid_gap": null,
            "grid_row": null,
            "grid_template_areas": null,
            "grid_template_columns": null,
            "grid_template_rows": null,
            "height": null,
            "justify_content": null,
            "justify_items": null,
            "left": null,
            "margin": null,
            "max_height": null,
            "max_width": null,
            "min_height": null,
            "min_width": null,
            "object_fit": null,
            "object_position": null,
            "order": null,
            "overflow": null,
            "overflow_x": null,
            "overflow_y": null,
            "padding": null,
            "right": null,
            "top": null,
            "visibility": null,
            "width": null
          }
        },
        "360cc10aff6842ca8d26361350a20a3a": {
          "model_module": "@jupyter-widgets/base",
          "model_module_version": "1.2.0",
          "model_name": "LayoutModel",
          "state": {
            "_model_module": "@jupyter-widgets/base",
            "_model_module_version": "1.2.0",
            "_model_name": "LayoutModel",
            "_view_count": null,
            "_view_module": "@jupyter-widgets/base",
            "_view_module_version": "1.2.0",
            "_view_name": "LayoutView",
            "align_content": null,
            "align_items": null,
            "align_self": null,
            "border": null,
            "bottom": null,
            "display": null,
            "flex": null,
            "flex_flow": null,
            "grid_area": null,
            "grid_auto_columns": null,
            "grid_auto_flow": null,
            "grid_auto_rows": null,
            "grid_column": null,
            "grid_gap": null,
            "grid_row": null,
            "grid_template_areas": null,
            "grid_template_columns": null,
            "grid_template_rows": null,
            "height": null,
            "justify_content": null,
            "justify_items": null,
            "left": null,
            "margin": null,
            "max_height": null,
            "max_width": null,
            "min_height": null,
            "min_width": null,
            "object_fit": null,
            "object_position": null,
            "order": null,
            "overflow": null,
            "overflow_x": null,
            "overflow_y": null,
            "padding": null,
            "right": null,
            "top": null,
            "visibility": null,
            "width": null
          }
        },
        "36ba74a66c864d458758980cf739cc93": {
          "model_module": "@jupyter-widgets/controls",
          "model_module_version": "1.5.0",
          "model_name": "FloatProgressModel",
          "state": {
            "_dom_classes": [],
            "_model_module": "@jupyter-widgets/controls",
            "_model_module_version": "1.5.0",
            "_model_name": "FloatProgressModel",
            "_view_count": null,
            "_view_module": "@jupyter-widgets/controls",
            "_view_module_version": "1.5.0",
            "_view_name": "ProgressView",
            "bar_style": "success",
            "description": "",
            "description_tooltip": null,
            "layout": "IPY_MODEL_4449fa26ad1a4859b3f8da172cbc13c2",
            "max": 439124,
            "min": 0,
            "orientation": "horizontal",
            "style": "IPY_MODEL_5d3a5bbf5f2441df8aeb0e671fe5f604",
            "value": 439124
          }
        },
        "3818ead166164087aae90d0160bf2e81": {
          "model_module": "@jupyter-widgets/controls",
          "model_module_version": "1.5.0",
          "model_name": "HTMLModel",
          "state": {
            "_dom_classes": [],
            "_model_module": "@jupyter-widgets/controls",
            "_model_module_version": "1.5.0",
            "_model_name": "HTMLModel",
            "_view_count": null,
            "_view_module": "@jupyter-widgets/controls",
            "_view_module_version": "1.5.0",
            "_view_name": "HTMLView",
            "description": "",
            "description_tooltip": null,
            "layout": "IPY_MODEL_a5a42736fb574c4e9418a9b4fff3ecd8",
            "placeholder": "​",
            "style": "IPY_MODEL_a0c4b1c09bdd42cca6f03748928a383d",
            "value": "tokenizer.json: 100%"
          }
        },
        "387b9c97d65a4687ac3082c17359af3e": {
          "model_module": "@jupyter-widgets/controls",
          "model_module_version": "1.5.0",
          "model_name": "HBoxModel",
          "state": {
            "_dom_classes": [],
            "_model_module": "@jupyter-widgets/controls",
            "_model_module_version": "1.5.0",
            "_model_name": "HBoxModel",
            "_view_count": null,
            "_view_module": "@jupyter-widgets/controls",
            "_view_module_version": "1.5.0",
            "_view_name": "HBoxView",
            "box_style": "",
            "children": [
              "IPY_MODEL_7c442bd8021840638a65674b59d200b8",
              "IPY_MODEL_a342b81f9b614797ab838907f31b7bc1",
              "IPY_MODEL_5229a6380e6647fca5a1caa7c36dcd48"
            ],
            "layout": "IPY_MODEL_256f79fcb8f3444a88851309f1aaffe4"
          }
        },
        "38d1f49c72254eb4a214c04a01783f94": {
          "model_module": "@jupyter-widgets/controls",
          "model_module_version": "1.5.0",
          "model_name": "ProgressStyleModel",
          "state": {
            "_model_module": "@jupyter-widgets/controls",
            "_model_module_version": "1.5.0",
            "_model_name": "ProgressStyleModel",
            "_view_count": null,
            "_view_module": "@jupyter-widgets/base",
            "_view_module_version": "1.2.0",
            "_view_name": "StyleView",
            "bar_color": null,
            "description_width": ""
          }
        },
        "3d578ed75d9849edbe87f6b8cb362f9e": {
          "model_module": "@jupyter-widgets/controls",
          "model_module_version": "1.5.0",
          "model_name": "HTMLModel",
          "state": {
            "_dom_classes": [],
            "_model_module": "@jupyter-widgets/controls",
            "_model_module_version": "1.5.0",
            "_model_name": "HTMLModel",
            "_view_count": null,
            "_view_module": "@jupyter-widgets/controls",
            "_view_module_version": "1.5.0",
            "_view_name": "HTMLView",
            "description": "",
            "description_tooltip": null,
            "layout": "IPY_MODEL_c467e675f56a4d5eba6dd234c5133191",
            "placeholder": "​",
            "style": "IPY_MODEL_adeeca32e3c34d429f60bad04628e031",
            "value": " 110k/110k [00:00&lt;00:00, 1.61MB/s]"
          }
        },
        "3fc59b2dff6e4ca39e97091514758d68": {
          "model_module": "@jupyter-widgets/controls",
          "model_module_version": "1.5.0",
          "model_name": "HTMLModel",
          "state": {
            "_dom_classes": [],
            "_model_module": "@jupyter-widgets/controls",
            "_model_module_version": "1.5.0",
            "_model_name": "HTMLModel",
            "_view_count": null,
            "_view_module": "@jupyter-widgets/controls",
            "_view_module_version": "1.5.0",
            "_view_name": "HTMLView",
            "description": "",
            "description_tooltip": null,
            "layout": "IPY_MODEL_ca22142cf3934410b63f76de443457a6",
            "placeholder": "​",
            "style": "IPY_MODEL_01034e26a70b4f67b0513611f94d8405",
            "value": "tokenizer_config.json: 100%"
          }
        },
        "42b069acca584df095aa24e36e983b25": {
          "model_module": "@jupyter-widgets/base",
          "model_module_version": "1.2.0",
          "model_name": "LayoutModel",
          "state": {
            "_model_module": "@jupyter-widgets/base",
            "_model_module_version": "1.2.0",
            "_model_name": "LayoutModel",
            "_view_count": null,
            "_view_module": "@jupyter-widgets/base",
            "_view_module_version": "1.2.0",
            "_view_name": "LayoutView",
            "align_content": null,
            "align_items": null,
            "align_self": null,
            "border": null,
            "bottom": null,
            "display": null,
            "flex": null,
            "flex_flow": null,
            "grid_area": null,
            "grid_auto_columns": null,
            "grid_auto_flow": null,
            "grid_auto_rows": null,
            "grid_column": null,
            "grid_gap": null,
            "grid_row": null,
            "grid_template_areas": null,
            "grid_template_columns": null,
            "grid_template_rows": null,
            "height": null,
            "justify_content": null,
            "justify_items": null,
            "left": null,
            "margin": null,
            "max_height": null,
            "max_width": null,
            "min_height": null,
            "min_width": null,
            "object_fit": null,
            "object_position": null,
            "order": null,
            "overflow": null,
            "overflow_x": null,
            "overflow_y": null,
            "padding": null,
            "right": null,
            "top": null,
            "visibility": null,
            "width": null
          }
        },
        "4426f5fe910044c29be4f1efade3f6dc": {
          "model_module": "@jupyter-widgets/controls",
          "model_module_version": "1.5.0",
          "model_name": "ProgressStyleModel",
          "state": {
            "_model_module": "@jupyter-widgets/controls",
            "_model_module_version": "1.5.0",
            "_model_name": "ProgressStyleModel",
            "_view_count": null,
            "_view_module": "@jupyter-widgets/base",
            "_view_module_version": "1.2.0",
            "_view_name": "StyleView",
            "bar_color": null,
            "description_width": ""
          }
        },
        "444457d0330d432286bfb2d834807146": {
          "model_module": "@jupyter-widgets/base",
          "model_module_version": "1.2.0",
          "model_name": "LayoutModel",
          "state": {
            "_model_module": "@jupyter-widgets/base",
            "_model_module_version": "1.2.0",
            "_model_name": "LayoutModel",
            "_view_count": null,
            "_view_module": "@jupyter-widgets/base",
            "_view_module_version": "1.2.0",
            "_view_name": "LayoutView",
            "align_content": null,
            "align_items": null,
            "align_self": null,
            "border": null,
            "bottom": null,
            "display": null,
            "flex": null,
            "flex_flow": null,
            "grid_area": null,
            "grid_auto_columns": null,
            "grid_auto_flow": null,
            "grid_auto_rows": null,
            "grid_column": null,
            "grid_gap": null,
            "grid_row": null,
            "grid_template_areas": null,
            "grid_template_columns": null,
            "grid_template_rows": null,
            "height": null,
            "justify_content": null,
            "justify_items": null,
            "left": null,
            "margin": null,
            "max_height": null,
            "max_width": null,
            "min_height": null,
            "min_width": null,
            "object_fit": null,
            "object_position": null,
            "order": null,
            "overflow": null,
            "overflow_x": null,
            "overflow_y": null,
            "padding": null,
            "right": null,
            "top": null,
            "visibility": null,
            "width": null
          }
        },
        "4449fa26ad1a4859b3f8da172cbc13c2": {
          "model_module": "@jupyter-widgets/base",
          "model_module_version": "1.2.0",
          "model_name": "LayoutModel",
          "state": {
            "_model_module": "@jupyter-widgets/base",
            "_model_module_version": "1.2.0",
            "_model_name": "LayoutModel",
            "_view_count": null,
            "_view_module": "@jupyter-widgets/base",
            "_view_module_version": "1.2.0",
            "_view_name": "LayoutView",
            "align_content": null,
            "align_items": null,
            "align_self": null,
            "border": null,
            "bottom": null,
            "display": null,
            "flex": null,
            "flex_flow": null,
            "grid_area": null,
            "grid_auto_columns": null,
            "grid_auto_flow": null,
            "grid_auto_rows": null,
            "grid_column": null,
            "grid_gap": null,
            "grid_row": null,
            "grid_template_areas": null,
            "grid_template_columns": null,
            "grid_template_rows": null,
            "height": null,
            "justify_content": null,
            "justify_items": null,
            "left": null,
            "margin": null,
            "max_height": null,
            "max_width": null,
            "min_height": null,
            "min_width": null,
            "object_fit": null,
            "object_position": null,
            "order": null,
            "overflow": null,
            "overflow_x": null,
            "overflow_y": null,
            "padding": null,
            "right": null,
            "top": null,
            "visibility": null,
            "width": null
          }
        },
        "45196eb27fd044888c5fa2654f577478": {
          "model_module": "@jupyter-widgets/controls",
          "model_module_version": "1.5.0",
          "model_name": "HTMLModel",
          "state": {
            "_dom_classes": [],
            "_model_module": "@jupyter-widgets/controls",
            "_model_module_version": "1.5.0",
            "_model_name": "HTMLModel",
            "_view_count": null,
            "_view_module": "@jupyter-widgets/controls",
            "_view_module_version": "1.5.0",
            "_view_name": "HTMLView",
            "description": "",
            "description_tooltip": null,
            "layout": "IPY_MODEL_78b5bf8cd9de45eba7e230aef494cb52",
            "placeholder": "​",
            "style": "IPY_MODEL_a022ab5f233a433f900a5bc6d4c83326",
            "value": "model.safetensors: 100%"
          }
        },
        "455b7102e0d64a45868753e347312bca": {
          "model_module": "@jupyter-widgets/controls",
          "model_module_version": "1.5.0",
          "model_name": "HBoxModel",
          "state": {
            "_dom_classes": [],
            "_model_module": "@jupyter-widgets/controls",
            "_model_module_version": "1.5.0",
            "_model_name": "HBoxModel",
            "_view_count": null,
            "_view_module": "@jupyter-widgets/controls",
            "_view_module_version": "1.5.0",
            "_view_name": "HBoxView",
            "box_style": "",
            "children": [
              "IPY_MODEL_1ea93c71cf8649cb8e0c46b9d7973ddb",
              "IPY_MODEL_c7bdd821254c45b9ad0fcce6657857a2",
              "IPY_MODEL_fa30557f3c114a108950576056c2b85e"
            ],
            "layout": "IPY_MODEL_bd90fbb5bbf741869839d432df3ab52f"
          }
        },
        "45fe98b2ce4a4ef9812f33e5804dc291": {
          "model_module": "@jupyter-widgets/controls",
          "model_module_version": "1.5.0",
          "model_name": "HTMLModel",
          "state": {
            "_dom_classes": [],
            "_model_module": "@jupyter-widgets/controls",
            "_model_module_version": "1.5.0",
            "_model_name": "HTMLModel",
            "_view_count": null,
            "_view_module": "@jupyter-widgets/controls",
            "_view_module_version": "1.5.0",
            "_view_name": "HTMLView",
            "description": "",
            "description_tooltip": null,
            "layout": "IPY_MODEL_6e14a562c0394067b8b4250e4b6273b3",
            "placeholder": "​",
            "style": "IPY_MODEL_dcda5471e71c4b6bba011f0b5e43ecea",
            "value": "vocab.txt: 100%"
          }
        },
        "46f8126dd38145a8b6d6725d3568741d": {
          "model_module": "@jupyter-widgets/base",
          "model_module_version": "1.2.0",
          "model_name": "LayoutModel",
          "state": {
            "_model_module": "@jupyter-widgets/base",
            "_model_module_version": "1.2.0",
            "_model_name": "LayoutModel",
            "_view_count": null,
            "_view_module": "@jupyter-widgets/base",
            "_view_module_version": "1.2.0",
            "_view_name": "LayoutView",
            "align_content": null,
            "align_items": null,
            "align_self": null,
            "border": null,
            "bottom": null,
            "display": null,
            "flex": null,
            "flex_flow": null,
            "grid_area": null,
            "grid_auto_columns": null,
            "grid_auto_flow": null,
            "grid_auto_rows": null,
            "grid_column": null,
            "grid_gap": null,
            "grid_row": null,
            "grid_template_areas": null,
            "grid_template_columns": null,
            "grid_template_rows": null,
            "height": null,
            "justify_content": null,
            "justify_items": null,
            "left": null,
            "margin": null,
            "max_height": null,
            "max_width": null,
            "min_height": null,
            "min_width": null,
            "object_fit": null,
            "object_position": null,
            "order": null,
            "overflow": null,
            "overflow_x": null,
            "overflow_y": null,
            "padding": null,
            "right": null,
            "top": null,
            "visibility": null,
            "width": null
          }
        },
        "472b11a3038c4868898222df1b75ce03": {
          "model_module": "@jupyter-widgets/controls",
          "model_module_version": "1.5.0",
          "model_name": "HBoxModel",
          "state": {
            "_dom_classes": [],
            "_model_module": "@jupyter-widgets/controls",
            "_model_module_version": "1.5.0",
            "_model_name": "HBoxModel",
            "_view_count": null,
            "_view_module": "@jupyter-widgets/controls",
            "_view_module_version": "1.5.0",
            "_view_name": "HBoxView",
            "box_style": "",
            "children": [
              "IPY_MODEL_5c5d0447af7b41e49191b6fac95af814",
              "IPY_MODEL_f4e9e664f4ab4366a531088c8512b0ea",
              "IPY_MODEL_48ee5d06e2924627abf9af7bd4dc8cbd"
            ],
            "layout": "IPY_MODEL_2f89bffebca54916af294fd0ac3b361a"
          }
        },
        "48ee5d06e2924627abf9af7bd4dc8cbd": {
          "model_module": "@jupyter-widgets/controls",
          "model_module_version": "1.5.0",
          "model_name": "HTMLModel",
          "state": {
            "_dom_classes": [],
            "_model_module": "@jupyter-widgets/controls",
            "_model_module_version": "1.5.0",
            "_model_name": "HTMLModel",
            "_view_count": null,
            "_view_module": "@jupyter-widgets/controls",
            "_view_module_version": "1.5.0",
            "_view_name": "HTMLView",
            "description": "",
            "description_tooltip": null,
            "layout": "IPY_MODEL_360cc10aff6842ca8d26361350a20a3a",
            "placeholder": "​",
            "style": "IPY_MODEL_63817ce89b514606b43e31f74f91a576",
            "value": " 652M/652M [00:05&lt;00:00, 132MB/s]"
          }
        },
        "4995f0ea9eac4f4d9be8162648c7f8d5": {
          "model_module": "@jupyter-widgets/controls",
          "model_module_version": "1.5.0",
          "model_name": "HTMLModel",
          "state": {
            "_dom_classes": [],
            "_model_module": "@jupyter-widgets/controls",
            "_model_module_version": "1.5.0",
            "_model_name": "HTMLModel",
            "_view_count": null,
            "_view_module": "@jupyter-widgets/controls",
            "_view_module_version": "1.5.0",
            "_view_name": "HTMLView",
            "description": "",
            "description_tooltip": null,
            "layout": "IPY_MODEL_fd2fe0d40c434b99a1865f4031d7b633",
            "placeholder": "​",
            "style": "IPY_MODEL_70b57e5de5f641c0ac33115bd5504f88",
            "value": " 812/812 [00:00&lt;00:00, 31.4kB/s]"
          }
        },
        "4cd5b7178ca24efb925b143358a7db6f": {
          "model_module": "@jupyter-widgets/controls",
          "model_module_version": "1.5.0",
          "model_name": "HTMLModel",
          "state": {
            "_dom_classes": [],
            "_model_module": "@jupyter-widgets/controls",
            "_model_module_version": "1.5.0",
            "_model_name": "HTMLModel",
            "_view_count": null,
            "_view_module": "@jupyter-widgets/controls",
            "_view_module_version": "1.5.0",
            "_view_name": "HTMLView",
            "description": "",
            "description_tooltip": null,
            "layout": "IPY_MODEL_2e91900f28bb45e8950705833c101845",
            "placeholder": "​",
            "style": "IPY_MODEL_92262205d7c8499a811f866d3fda5e13",
            "value": "pytorch_model.bin: 100%"
          }
        },
        "505b3d9b44294229a99a737b31743a4c": {
          "model_module": "@jupyter-widgets/controls",
          "model_module_version": "1.5.0",
          "model_name": "HBoxModel",
          "state": {
            "_dom_classes": [],
            "_model_module": "@jupyter-widgets/controls",
            "_model_module_version": "1.5.0",
            "_model_name": "HBoxModel",
            "_view_count": null,
            "_view_module": "@jupyter-widgets/controls",
            "_view_module_version": "1.5.0",
            "_view_name": "HBoxView",
            "box_style": "",
            "children": [
              "IPY_MODEL_ca9ba79211ac4ed0a196637480bd4266",
              "IPY_MODEL_ca5341618ef247749dfed3bb96b41ac5",
              "IPY_MODEL_4995f0ea9eac4f4d9be8162648c7f8d5"
            ],
            "layout": "IPY_MODEL_da14bdb0056343de9ce099e255050cbc"
          }
        },
        "5229a6380e6647fca5a1caa7c36dcd48": {
          "model_module": "@jupyter-widgets/controls",
          "model_module_version": "1.5.0",
          "model_name": "HTMLModel",
          "state": {
            "_dom_classes": [],
            "_model_module": "@jupyter-widgets/controls",
            "_model_module_version": "1.5.0",
            "_model_name": "HTMLModel",
            "_view_count": null,
            "_view_module": "@jupyter-widgets/controls",
            "_view_module_version": "1.5.0",
            "_view_name": "HTMLView",
            "description": "",
            "description_tooltip": null,
            "layout": "IPY_MODEL_19720161841443a59659a874b6a71671",
            "placeholder": "​",
            "style": "IPY_MODEL_e1274feeea164600b7dfe02a371048d9",
            "value": " 368/368 [00:00&lt;00:00, 19.6kB/s]"
          }
        },
        "56dfbf9b3a754c28a9e82a2a71fb5dc7": {
          "model_module": "@jupyter-widgets/controls",
          "model_module_version": "1.5.0",
          "model_name": "DescriptionStyleModel",
          "state": {
            "_model_module": "@jupyter-widgets/controls",
            "_model_module_version": "1.5.0",
            "_model_name": "DescriptionStyleModel",
            "_view_count": null,
            "_view_module": "@jupyter-widgets/base",
            "_view_module_version": "1.2.0",
            "_view_name": "StyleView",
            "description_width": ""
          }
        },
        "58ae2cb303b74f4f8a5bd3f295b03b28": {
          "model_module": "@jupyter-widgets/base",
          "model_module_version": "1.2.0",
          "model_name": "LayoutModel",
          "state": {
            "_model_module": "@jupyter-widgets/base",
            "_model_module_version": "1.2.0",
            "_model_name": "LayoutModel",
            "_view_count": null,
            "_view_module": "@jupyter-widgets/base",
            "_view_module_version": "1.2.0",
            "_view_name": "LayoutView",
            "align_content": null,
            "align_items": null,
            "align_self": null,
            "border": null,
            "bottom": null,
            "display": null,
            "flex": null,
            "flex_flow": null,
            "grid_area": null,
            "grid_auto_columns": null,
            "grid_auto_flow": null,
            "grid_auto_rows": null,
            "grid_column": null,
            "grid_gap": null,
            "grid_row": null,
            "grid_template_areas": null,
            "grid_template_columns": null,
            "grid_template_rows": null,
            "height": null,
            "justify_content": null,
            "justify_items": null,
            "left": null,
            "margin": null,
            "max_height": null,
            "max_width": null,
            "min_height": null,
            "min_width": null,
            "object_fit": null,
            "object_position": null,
            "order": null,
            "overflow": null,
            "overflow_x": null,
            "overflow_y": null,
            "padding": null,
            "right": null,
            "top": null,
            "visibility": null,
            "width": null
          }
        },
        "5b5f553e5dea484db0ddf6c5bf14e454": {
          "model_module": "@jupyter-widgets/controls",
          "model_module_version": "1.5.0",
          "model_name": "HBoxModel",
          "state": {
            "_dom_classes": [],
            "_model_module": "@jupyter-widgets/controls",
            "_model_module_version": "1.5.0",
            "_model_name": "HBoxModel",
            "_view_count": null,
            "_view_module": "@jupyter-widgets/controls",
            "_view_module_version": "1.5.0",
            "_view_name": "HBoxView",
            "box_style": "",
            "children": [
              "IPY_MODEL_a15a6119632645cc9051df0b7f731bc9",
              "IPY_MODEL_b52e22e3338d4118a63a35568b81d52a",
              "IPY_MODEL_71ce1d8d7d8f4d7d80c8863416be3ea9"
            ],
            "layout": "IPY_MODEL_de7a3dab32bc4a0680f1b4a546eb6856"
          }
        },
        "5be16761cfb14e0381213e7325fab105": {
          "model_module": "@jupyter-widgets/controls",
          "model_module_version": "1.5.0",
          "model_name": "HTMLModel",
          "state": {
            "_dom_classes": [],
            "_model_module": "@jupyter-widgets/controls",
            "_model_module_version": "1.5.0",
            "_model_name": "HTMLModel",
            "_view_count": null,
            "_view_module": "@jupyter-widgets/controls",
            "_view_module_version": "1.5.0",
            "_view_name": "HTMLView",
            "description": "",
            "description_tooltip": null,
            "layout": "IPY_MODEL_1044fa72ac844d3bbe441d626e15bf78",
            "placeholder": "​",
            "style": "IPY_MODEL_f2260e65f0a34baa8873371a314c6c81",
            "value": "2_Dense/config.json: 100%"
          }
        },
        "5c5d0447af7b41e49191b6fac95af814": {
          "model_module": "@jupyter-widgets/controls",
          "model_module_version": "1.5.0",
          "model_name": "HTMLModel",
          "state": {
            "_dom_classes": [],
            "_model_module": "@jupyter-widgets/controls",
            "_model_module_version": "1.5.0",
            "_model_name": "HTMLModel",
            "_view_count": null,
            "_view_module": "@jupyter-widgets/controls",
            "_view_module_version": "1.5.0",
            "_view_name": "HTMLView",
            "description": "",
            "description_tooltip": null,
            "layout": "IPY_MODEL_cf51dc243b794590a42fb98a6b0744a4",
            "placeholder": "​",
            "style": "IPY_MODEL_d24cfcb9b50f4e8898a28795591f1e39",
            "value": "model.safetensors: 100%"
          }
        },
        "5d3a5bbf5f2441df8aeb0e671fe5f604": {
          "model_module": "@jupyter-widgets/controls",
          "model_module_version": "1.5.0",
          "model_name": "ProgressStyleModel",
          "state": {
            "_model_module": "@jupyter-widgets/controls",
            "_model_module_version": "1.5.0",
            "_model_name": "ProgressStyleModel",
            "_view_count": null,
            "_view_module": "@jupyter-widgets/base",
            "_view_module_version": "1.2.0",
            "_view_name": "StyleView",
            "bar_color": null,
            "description_width": ""
          }
        },
        "5e714075b8914bfbac99eb33934bf75b": {
          "model_module": "@jupyter-widgets/base",
          "model_module_version": "1.2.0",
          "model_name": "LayoutModel",
          "state": {
            "_model_module": "@jupyter-widgets/base",
            "_model_module_version": "1.2.0",
            "_model_name": "LayoutModel",
            "_view_count": null,
            "_view_module": "@jupyter-widgets/base",
            "_view_module_version": "1.2.0",
            "_view_name": "LayoutView",
            "align_content": null,
            "align_items": null,
            "align_self": null,
            "border": null,
            "bottom": null,
            "display": null,
            "flex": null,
            "flex_flow": null,
            "grid_area": null,
            "grid_auto_columns": null,
            "grid_auto_flow": null,
            "grid_auto_rows": null,
            "grid_column": null,
            "grid_gap": null,
            "grid_row": null,
            "grid_template_areas": null,
            "grid_template_columns": null,
            "grid_template_rows": null,
            "height": null,
            "justify_content": null,
            "justify_items": null,
            "left": null,
            "margin": null,
            "max_height": null,
            "max_width": null,
            "min_height": null,
            "min_width": null,
            "object_fit": null,
            "object_position": null,
            "order": null,
            "overflow": null,
            "overflow_x": null,
            "overflow_y": null,
            "padding": null,
            "right": null,
            "top": null,
            "visibility": null,
            "width": null
          }
        },
        "622d7ac45f604a958bd8e88673c395b7": {
          "model_module": "@jupyter-widgets/controls",
          "model_module_version": "1.5.0",
          "model_name": "DescriptionStyleModel",
          "state": {
            "_model_module": "@jupyter-widgets/controls",
            "_model_module_version": "1.5.0",
            "_model_name": "DescriptionStyleModel",
            "_view_count": null,
            "_view_module": "@jupyter-widgets/base",
            "_view_module_version": "1.2.0",
            "_view_name": "StyleView",
            "description_width": ""
          }
        },
        "62f598df50a340709f34261a75e1c2f0": {
          "model_module": "@jupyter-widgets/controls",
          "model_module_version": "1.5.0",
          "model_name": "DescriptionStyleModel",
          "state": {
            "_model_module": "@jupyter-widgets/controls",
            "_model_module_version": "1.5.0",
            "_model_name": "DescriptionStyleModel",
            "_view_count": null,
            "_view_module": "@jupyter-widgets/base",
            "_view_module_version": "1.2.0",
            "_view_name": "StyleView",
            "description_width": ""
          }
        },
        "632ee52eb5eb401fb07bc8a97fb1f4b3": {
          "model_module": "@jupyter-widgets/base",
          "model_module_version": "1.2.0",
          "model_name": "LayoutModel",
          "state": {
            "_model_module": "@jupyter-widgets/base",
            "_model_module_version": "1.2.0",
            "_model_name": "LayoutModel",
            "_view_count": null,
            "_view_module": "@jupyter-widgets/base",
            "_view_module_version": "1.2.0",
            "_view_name": "LayoutView",
            "align_content": null,
            "align_items": null,
            "align_self": null,
            "border": null,
            "bottom": null,
            "display": null,
            "flex": null,
            "flex_flow": null,
            "grid_area": null,
            "grid_auto_columns": null,
            "grid_auto_flow": null,
            "grid_auto_rows": null,
            "grid_column": null,
            "grid_gap": null,
            "grid_row": null,
            "grid_template_areas": null,
            "grid_template_columns": null,
            "grid_template_rows": null,
            "height": null,
            "justify_content": null,
            "justify_items": null,
            "left": null,
            "margin": null,
            "max_height": null,
            "max_width": null,
            "min_height": null,
            "min_width": null,
            "object_fit": null,
            "object_position": null,
            "order": null,
            "overflow": null,
            "overflow_x": null,
            "overflow_y": null,
            "padding": null,
            "right": null,
            "top": null,
            "visibility": null,
            "width": null
          }
        },
        "63817ce89b514606b43e31f74f91a576": {
          "model_module": "@jupyter-widgets/controls",
          "model_module_version": "1.5.0",
          "model_name": "DescriptionStyleModel",
          "state": {
            "_model_module": "@jupyter-widgets/controls",
            "_model_module_version": "1.5.0",
            "_model_name": "DescriptionStyleModel",
            "_view_count": null,
            "_view_module": "@jupyter-widgets/base",
            "_view_module_version": "1.2.0",
            "_view_name": "StyleView",
            "description_width": ""
          }
        },
        "6560507bf0f54417ac6bf8cb63791373": {
          "model_module": "@jupyter-widgets/base",
          "model_module_version": "1.2.0",
          "model_name": "LayoutModel",
          "state": {
            "_model_module": "@jupyter-widgets/base",
            "_model_module_version": "1.2.0",
            "_model_name": "LayoutModel",
            "_view_count": null,
            "_view_module": "@jupyter-widgets/base",
            "_view_module_version": "1.2.0",
            "_view_name": "LayoutView",
            "align_content": null,
            "align_items": null,
            "align_self": null,
            "border": null,
            "bottom": null,
            "display": null,
            "flex": null,
            "flex_flow": null,
            "grid_area": null,
            "grid_auto_columns": null,
            "grid_auto_flow": null,
            "grid_auto_rows": null,
            "grid_column": null,
            "grid_gap": null,
            "grid_row": null,
            "grid_template_areas": null,
            "grid_template_columns": null,
            "grid_template_rows": null,
            "height": null,
            "justify_content": null,
            "justify_items": null,
            "left": null,
            "margin": null,
            "max_height": null,
            "max_width": null,
            "min_height": null,
            "min_width": null,
            "object_fit": null,
            "object_position": null,
            "order": null,
            "overflow": null,
            "overflow_x": null,
            "overflow_y": null,
            "padding": null,
            "right": null,
            "top": null,
            "visibility": null,
            "width": null
          }
        },
        "69cb992e32f14b80af565e9cf7c5c630": {
          "model_module": "@jupyter-widgets/base",
          "model_module_version": "1.2.0",
          "model_name": "LayoutModel",
          "state": {
            "_model_module": "@jupyter-widgets/base",
            "_model_module_version": "1.2.0",
            "_model_name": "LayoutModel",
            "_view_count": null,
            "_view_module": "@jupyter-widgets/base",
            "_view_module_version": "1.2.0",
            "_view_name": "LayoutView",
            "align_content": null,
            "align_items": null,
            "align_self": null,
            "border": null,
            "bottom": null,
            "display": null,
            "flex": null,
            "flex_flow": null,
            "grid_area": null,
            "grid_auto_columns": null,
            "grid_auto_flow": null,
            "grid_auto_rows": null,
            "grid_column": null,
            "grid_gap": null,
            "grid_row": null,
            "grid_template_areas": null,
            "grid_template_columns": null,
            "grid_template_rows": null,
            "height": null,
            "justify_content": null,
            "justify_items": null,
            "left": null,
            "margin": null,
            "max_height": null,
            "max_width": null,
            "min_height": null,
            "min_width": null,
            "object_fit": null,
            "object_position": null,
            "order": null,
            "overflow": null,
            "overflow_x": null,
            "overflow_y": null,
            "padding": null,
            "right": null,
            "top": null,
            "visibility": null,
            "width": null
          }
        },
        "6a5d78711a5f4e48b385db8d55385e4b": {
          "model_module": "@jupyter-widgets/base",
          "model_module_version": "1.2.0",
          "model_name": "LayoutModel",
          "state": {
            "_model_module": "@jupyter-widgets/base",
            "_model_module_version": "1.2.0",
            "_model_name": "LayoutModel",
            "_view_count": null,
            "_view_module": "@jupyter-widgets/base",
            "_view_module_version": "1.2.0",
            "_view_name": "LayoutView",
            "align_content": null,
            "align_items": null,
            "align_self": null,
            "border": null,
            "bottom": null,
            "display": null,
            "flex": null,
            "flex_flow": null,
            "grid_area": null,
            "grid_auto_columns": null,
            "grid_auto_flow": null,
            "grid_auto_rows": null,
            "grid_column": null,
            "grid_gap": null,
            "grid_row": null,
            "grid_template_areas": null,
            "grid_template_columns": null,
            "grid_template_rows": null,
            "height": null,
            "justify_content": null,
            "justify_items": null,
            "left": null,
            "margin": null,
            "max_height": null,
            "max_width": null,
            "min_height": null,
            "min_width": null,
            "object_fit": null,
            "object_position": null,
            "order": null,
            "overflow": null,
            "overflow_x": null,
            "overflow_y": null,
            "padding": null,
            "right": null,
            "top": null,
            "visibility": null,
            "width": null
          }
        },
        "6e14a562c0394067b8b4250e4b6273b3": {
          "model_module": "@jupyter-widgets/base",
          "model_module_version": "1.2.0",
          "model_name": "LayoutModel",
          "state": {
            "_model_module": "@jupyter-widgets/base",
            "_model_module_version": "1.2.0",
            "_model_name": "LayoutModel",
            "_view_count": null,
            "_view_module": "@jupyter-widgets/base",
            "_view_module_version": "1.2.0",
            "_view_name": "LayoutView",
            "align_content": null,
            "align_items": null,
            "align_self": null,
            "border": null,
            "bottom": null,
            "display": null,
            "flex": null,
            "flex_flow": null,
            "grid_area": null,
            "grid_auto_columns": null,
            "grid_auto_flow": null,
            "grid_auto_rows": null,
            "grid_column": null,
            "grid_gap": null,
            "grid_row": null,
            "grid_template_areas": null,
            "grid_template_columns": null,
            "grid_template_rows": null,
            "height": null,
            "justify_content": null,
            "justify_items": null,
            "left": null,
            "margin": null,
            "max_height": null,
            "max_width": null,
            "min_height": null,
            "min_width": null,
            "object_fit": null,
            "object_position": null,
            "order": null,
            "overflow": null,
            "overflow_x": null,
            "overflow_y": null,
            "padding": null,
            "right": null,
            "top": null,
            "visibility": null,
            "width": null
          }
        },
        "70b57e5de5f641c0ac33115bd5504f88": {
          "model_module": "@jupyter-widgets/controls",
          "model_module_version": "1.5.0",
          "model_name": "DescriptionStyleModel",
          "state": {
            "_model_module": "@jupyter-widgets/controls",
            "_model_module_version": "1.5.0",
            "_model_name": "DescriptionStyleModel",
            "_view_count": null,
            "_view_module": "@jupyter-widgets/base",
            "_view_module_version": "1.2.0",
            "_view_name": "StyleView",
            "description_width": ""
          }
        },
        "70ced7cd416043e9b90be245d7c0ea81": {
          "model_module": "@jupyter-widgets/base",
          "model_module_version": "1.2.0",
          "model_name": "LayoutModel",
          "state": {
            "_model_module": "@jupyter-widgets/base",
            "_model_module_version": "1.2.0",
            "_model_name": "LayoutModel",
            "_view_count": null,
            "_view_module": "@jupyter-widgets/base",
            "_view_module_version": "1.2.0",
            "_view_name": "LayoutView",
            "align_content": null,
            "align_items": null,
            "align_self": null,
            "border": null,
            "bottom": null,
            "display": null,
            "flex": null,
            "flex_flow": null,
            "grid_area": null,
            "grid_auto_columns": null,
            "grid_auto_flow": null,
            "grid_auto_rows": null,
            "grid_column": null,
            "grid_gap": null,
            "grid_row": null,
            "grid_template_areas": null,
            "grid_template_columns": null,
            "grid_template_rows": null,
            "height": null,
            "justify_content": null,
            "justify_items": null,
            "left": null,
            "margin": null,
            "max_height": null,
            "max_width": null,
            "min_height": null,
            "min_width": null,
            "object_fit": null,
            "object_position": null,
            "order": null,
            "overflow": null,
            "overflow_x": null,
            "overflow_y": null,
            "padding": null,
            "right": null,
            "top": null,
            "visibility": null,
            "width": null
          }
        },
        "7100d9e9fefa4633948f1529cd09eca7": {
          "model_module": "@jupyter-widgets/controls",
          "model_module_version": "1.5.0",
          "model_name": "ProgressStyleModel",
          "state": {
            "_model_module": "@jupyter-widgets/controls",
            "_model_module_version": "1.5.0",
            "_model_name": "ProgressStyleModel",
            "_view_count": null,
            "_view_module": "@jupyter-widgets/base",
            "_view_module_version": "1.2.0",
            "_view_name": "StyleView",
            "bar_color": null,
            "description_width": ""
          }
        },
        "71ce1d8d7d8f4d7d80c8863416be3ea9": {
          "model_module": "@jupyter-widgets/controls",
          "model_module_version": "1.5.0",
          "model_name": "HTMLModel",
          "state": {
            "_dom_classes": [],
            "_model_module": "@jupyter-widgets/controls",
            "_model_module_version": "1.5.0",
            "_model_name": "HTMLModel",
            "_view_count": null,
            "_view_module": "@jupyter-widgets/controls",
            "_view_module_version": "1.5.0",
            "_view_name": "HTMLView",
            "description": "",
            "description_tooltip": null,
            "layout": "IPY_MODEL_70ced7cd416043e9b90be245d7c0ea81",
            "placeholder": "​",
            "style": "IPY_MODEL_56dfbf9b3a754c28a9e82a2a71fb5dc7",
            "value": " 33.0k/33.0k [00:00&lt;00:00, 1.11MB/s]"
          }
        },
        "74e63b4a45ef4de3b17e05e524cb3e3e": {
          "model_module": "@jupyter-widgets/controls",
          "model_module_version": "1.5.0",
          "model_name": "HTMLModel",
          "state": {
            "_dom_classes": [],
            "_model_module": "@jupyter-widgets/controls",
            "_model_module_version": "1.5.0",
            "_model_name": "HTMLModel",
            "_view_count": null,
            "_view_module": "@jupyter-widgets/controls",
            "_view_module_version": "1.5.0",
            "_view_name": "HTMLView",
            "description": "",
            "description_tooltip": null,
            "layout": "IPY_MODEL_177c97c69bd94f5a9dc3c2bed0b39c64",
            "placeholder": "​",
            "style": "IPY_MODEL_62f598df50a340709f34261a75e1c2f0",
            "value": "sentence_bert_config.json: 100%"
          }
        },
        "770aa21bc4cd4fe7a67e1ba39dab7cf6": {
          "model_module": "@jupyter-widgets/base",
          "model_module_version": "1.2.0",
          "model_name": "LayoutModel",
          "state": {
            "_model_module": "@jupyter-widgets/base",
            "_model_module_version": "1.2.0",
            "_model_name": "LayoutModel",
            "_view_count": null,
            "_view_module": "@jupyter-widgets/base",
            "_view_module_version": "1.2.0",
            "_view_name": "LayoutView",
            "align_content": null,
            "align_items": null,
            "align_self": null,
            "border": null,
            "bottom": null,
            "display": null,
            "flex": null,
            "flex_flow": null,
            "grid_area": null,
            "grid_auto_columns": null,
            "grid_auto_flow": null,
            "grid_auto_rows": null,
            "grid_column": null,
            "grid_gap": null,
            "grid_row": null,
            "grid_template_areas": null,
            "grid_template_columns": null,
            "grid_template_rows": null,
            "height": null,
            "justify_content": null,
            "justify_items": null,
            "left": null,
            "margin": null,
            "max_height": null,
            "max_width": null,
            "min_height": null,
            "min_width": null,
            "object_fit": null,
            "object_position": null,
            "order": null,
            "overflow": null,
            "overflow_x": null,
            "overflow_y": null,
            "padding": null,
            "right": null,
            "top": null,
            "visibility": null,
            "width": null
          }
        },
        "78b5bf8cd9de45eba7e230aef494cb52": {
          "model_module": "@jupyter-widgets/base",
          "model_module_version": "1.2.0",
          "model_name": "LayoutModel",
          "state": {
            "_model_module": "@jupyter-widgets/base",
            "_model_module_version": "1.2.0",
            "_model_name": "LayoutModel",
            "_view_count": null,
            "_view_module": "@jupyter-widgets/base",
            "_view_module_version": "1.2.0",
            "_view_name": "LayoutView",
            "align_content": null,
            "align_items": null,
            "align_self": null,
            "border": null,
            "bottom": null,
            "display": null,
            "flex": null,
            "flex_flow": null,
            "grid_area": null,
            "grid_auto_columns": null,
            "grid_auto_flow": null,
            "grid_auto_rows": null,
            "grid_column": null,
            "grid_gap": null,
            "grid_row": null,
            "grid_template_areas": null,
            "grid_template_columns": null,
            "grid_template_rows": null,
            "height": null,
            "justify_content": null,
            "justify_items": null,
            "left": null,
            "margin": null,
            "max_height": null,
            "max_width": null,
            "min_height": null,
            "min_width": null,
            "object_fit": null,
            "object_position": null,
            "order": null,
            "overflow": null,
            "overflow_x": null,
            "overflow_y": null,
            "padding": null,
            "right": null,
            "top": null,
            "visibility": null,
            "width": null
          }
        },
        "78c36aa9b7054f0cb38718020c92928d": {
          "model_module": "@jupyter-widgets/controls",
          "model_module_version": "1.5.0",
          "model_name": "ProgressStyleModel",
          "state": {
            "_model_module": "@jupyter-widgets/controls",
            "_model_module_version": "1.5.0",
            "_model_name": "ProgressStyleModel",
            "_view_count": null,
            "_view_module": "@jupyter-widgets/base",
            "_view_module_version": "1.2.0",
            "_view_name": "StyleView",
            "bar_color": null,
            "description_width": ""
          }
        },
        "7c442bd8021840638a65674b59d200b8": {
          "model_module": "@jupyter-widgets/controls",
          "model_module_version": "1.5.0",
          "model_name": "HTMLModel",
          "state": {
            "_dom_classes": [],
            "_model_module": "@jupyter-widgets/controls",
            "_model_module_version": "1.5.0",
            "_model_name": "HTMLModel",
            "_view_count": null,
            "_view_module": "@jupyter-widgets/controls",
            "_view_module_version": "1.5.0",
            "_view_name": "HTMLView",
            "description": "",
            "description_tooltip": null,
            "layout": "IPY_MODEL_b7b2c92fd9ae40549b28ba1f0b0917d6",
            "placeholder": "​",
            "style": "IPY_MODEL_afa746ff4db24b969e005440f878303b",
            "value": "modules.json: 100%"
          }
        },
        "7e0056449e394b5db492c5d3b4f4248d": {
          "model_module": "@jupyter-widgets/controls",
          "model_module_version": "1.5.0",
          "model_name": "DescriptionStyleModel",
          "state": {
            "_model_module": "@jupyter-widgets/controls",
            "_model_module_version": "1.5.0",
            "_model_name": "DescriptionStyleModel",
            "_view_count": null,
            "_view_module": "@jupyter-widgets/base",
            "_view_module_version": "1.2.0",
            "_view_name": "StyleView",
            "description_width": ""
          }
        },
        "7f206fadc91040d59796dd370393f999": {
          "model_module": "@jupyter-widgets/controls",
          "model_module_version": "1.5.0",
          "model_name": "HBoxModel",
          "state": {
            "_dom_classes": [],
            "_model_module": "@jupyter-widgets/controls",
            "_model_module_version": "1.5.0",
            "_model_name": "HBoxModel",
            "_view_count": null,
            "_view_module": "@jupyter-widgets/controls",
            "_view_module_version": "1.5.0",
            "_view_name": "HBoxView",
            "box_style": "",
            "children": [
              "IPY_MODEL_5be16761cfb14e0381213e7325fab105",
              "IPY_MODEL_05deb9c2a1f74098b6975248068b5d0f",
              "IPY_MODEL_dc14e14614a94f56aeea334a38eaf74d"
            ],
            "layout": "IPY_MODEL_09c81a2a731d46b7a4583664c6aca84b"
          }
        },
        "85629af201d643d78b527476b7906eaa": {
          "model_module": "@jupyter-widgets/controls",
          "model_module_version": "1.5.0",
          "model_name": "HTMLModel",
          "state": {
            "_dom_classes": [],
            "_model_module": "@jupyter-widgets/controls",
            "_model_module_version": "1.5.0",
            "_model_name": "HTMLModel",
            "_view_count": null,
            "_view_module": "@jupyter-widgets/controls",
            "_view_module_version": "1.5.0",
            "_view_name": "HTMLView",
            "description": "",
            "description_tooltip": null,
            "layout": "IPY_MODEL_e51bc7c5e6204488bd8e4ad7c3f6f0a0",
            "placeholder": "​",
            "style": "IPY_MODEL_304583e2871742f3ab47b19034972964",
            "value": " 3.67M/3.67M [00:00&lt;00:00, 13.8MB/s]"
          }
        },
        "8757785f765049a5bbc69e55515d65b0": {
          "model_module": "@jupyter-widgets/base",
          "model_module_version": "1.2.0",
          "model_name": "LayoutModel",
          "state": {
            "_model_module": "@jupyter-widgets/base",
            "_model_module_version": "1.2.0",
            "_model_name": "LayoutModel",
            "_view_count": null,
            "_view_module": "@jupyter-widgets/base",
            "_view_module_version": "1.2.0",
            "_view_name": "LayoutView",
            "align_content": null,
            "align_items": null,
            "align_self": null,
            "border": null,
            "bottom": null,
            "display": null,
            "flex": null,
            "flex_flow": null,
            "grid_area": null,
            "grid_auto_columns": null,
            "grid_auto_flow": null,
            "grid_auto_rows": null,
            "grid_column": null,
            "grid_gap": null,
            "grid_row": null,
            "grid_template_areas": null,
            "grid_template_columns": null,
            "grid_template_rows": null,
            "height": null,
            "justify_content": null,
            "justify_items": null,
            "left": null,
            "margin": null,
            "max_height": null,
            "max_width": null,
            "min_height": null,
            "min_width": null,
            "object_fit": null,
            "object_position": null,
            "order": null,
            "overflow": null,
            "overflow_x": null,
            "overflow_y": null,
            "padding": null,
            "right": null,
            "top": null,
            "visibility": null,
            "width": null
          }
        },
        "8f07e5ec4cf5410585b7e6c3c838cb5d": {
          "model_module": "@jupyter-widgets/controls",
          "model_module_version": "1.5.0",
          "model_name": "HBoxModel",
          "state": {
            "_dom_classes": [],
            "_model_module": "@jupyter-widgets/controls",
            "_model_module_version": "1.5.0",
            "_model_name": "HBoxModel",
            "_view_count": null,
            "_view_module": "@jupyter-widgets/controls",
            "_view_module_version": "1.5.0",
            "_view_name": "HBoxView",
            "box_style": "",
            "children": [
              "IPY_MODEL_3fc59b2dff6e4ca39e97091514758d68",
              "IPY_MODEL_c5cdfd66ee0446c9bfdc1219d968dc38",
              "IPY_MODEL_218f62b2b17a4fffbff346b3950c25bc"
            ],
            "layout": "IPY_MODEL_770aa21bc4cd4fe7a67e1ba39dab7cf6"
          }
        },
        "92262205d7c8499a811f866d3fda5e13": {
          "model_module": "@jupyter-widgets/controls",
          "model_module_version": "1.5.0",
          "model_name": "DescriptionStyleModel",
          "state": {
            "_model_module": "@jupyter-widgets/controls",
            "_model_module_version": "1.5.0",
            "_model_name": "DescriptionStyleModel",
            "_view_count": null,
            "_view_module": "@jupyter-widgets/base",
            "_view_module_version": "1.2.0",
            "_view_name": "StyleView",
            "description_width": ""
          }
        },
        "943c61cc81d5477e9dff9a62f563ceb3": {
          "model_module": "@jupyter-widgets/base",
          "model_module_version": "1.2.0",
          "model_name": "LayoutModel",
          "state": {
            "_model_module": "@jupyter-widgets/base",
            "_model_module_version": "1.2.0",
            "_model_name": "LayoutModel",
            "_view_count": null,
            "_view_module": "@jupyter-widgets/base",
            "_view_module_version": "1.2.0",
            "_view_name": "LayoutView",
            "align_content": null,
            "align_items": null,
            "align_self": null,
            "border": null,
            "bottom": null,
            "display": null,
            "flex": null,
            "flex_flow": null,
            "grid_area": null,
            "grid_auto_columns": null,
            "grid_auto_flow": null,
            "grid_auto_rows": null,
            "grid_column": null,
            "grid_gap": null,
            "grid_row": null,
            "grid_template_areas": null,
            "grid_template_columns": null,
            "grid_template_rows": null,
            "height": null,
            "justify_content": null,
            "justify_items": null,
            "left": null,
            "margin": null,
            "max_height": null,
            "max_width": null,
            "min_height": null,
            "min_width": null,
            "object_fit": null,
            "object_position": null,
            "order": null,
            "overflow": null,
            "overflow_x": null,
            "overflow_y": null,
            "padding": null,
            "right": null,
            "top": null,
            "visibility": null,
            "width": null
          }
        },
        "94b81501bd1b46a49e8ce98854c016b5": {
          "model_module": "@jupyter-widgets/controls",
          "model_module_version": "1.5.0",
          "model_name": "DescriptionStyleModel",
          "state": {
            "_model_module": "@jupyter-widgets/controls",
            "_model_module_version": "1.5.0",
            "_model_name": "DescriptionStyleModel",
            "_view_count": null,
            "_view_module": "@jupyter-widgets/base",
            "_view_module_version": "1.2.0",
            "_view_name": "StyleView",
            "description_width": ""
          }
        },
        "987ccce36ce14507990884e9b5fdfc63": {
          "model_module": "@jupyter-widgets/controls",
          "model_module_version": "1.5.0",
          "model_name": "DescriptionStyleModel",
          "state": {
            "_model_module": "@jupyter-widgets/controls",
            "_model_module_version": "1.5.0",
            "_model_name": "DescriptionStyleModel",
            "_view_count": null,
            "_view_module": "@jupyter-widgets/base",
            "_view_module_version": "1.2.0",
            "_view_name": "StyleView",
            "description_width": ""
          }
        },
        "9c68a2864ebc4d4fbc97f9ae94e74d97": {
          "model_module": "@jupyter-widgets/controls",
          "model_module_version": "1.5.0",
          "model_name": "HBoxModel",
          "state": {
            "_dom_classes": [],
            "_model_module": "@jupyter-widgets/controls",
            "_model_module_version": "1.5.0",
            "_model_name": "HBoxModel",
            "_view_count": null,
            "_view_module": "@jupyter-widgets/controls",
            "_view_module_version": "1.5.0",
            "_view_name": "HBoxView",
            "box_style": "",
            "children": [
              "IPY_MODEL_74e63b4a45ef4de3b17e05e524cb3e3e",
              "IPY_MODEL_af19cc383ede4f6ba7a84ebae6906a23",
              "IPY_MODEL_a7fb669e2bb34c0f8a7eef9d83309ffa"
            ],
            "layout": "IPY_MODEL_42b069acca584df095aa24e36e983b25"
          }
        },
        "9cd758d0f0ff47b28e791562478b6412": {
          "model_module": "@jupyter-widgets/base",
          "model_module_version": "1.2.0",
          "model_name": "LayoutModel",
          "state": {
            "_model_module": "@jupyter-widgets/base",
            "_model_module_version": "1.2.0",
            "_model_name": "LayoutModel",
            "_view_count": null,
            "_view_module": "@jupyter-widgets/base",
            "_view_module_version": "1.2.0",
            "_view_name": "LayoutView",
            "align_content": null,
            "align_items": null,
            "align_self": null,
            "border": null,
            "bottom": null,
            "display": null,
            "flex": null,
            "flex_flow": null,
            "grid_area": null,
            "grid_auto_columns": null,
            "grid_auto_flow": null,
            "grid_auto_rows": null,
            "grid_column": null,
            "grid_gap": null,
            "grid_row": null,
            "grid_template_areas": null,
            "grid_template_columns": null,
            "grid_template_rows": null,
            "height": null,
            "justify_content": null,
            "justify_items": null,
            "left": null,
            "margin": null,
            "max_height": null,
            "max_width": null,
            "min_height": null,
            "min_width": null,
            "object_fit": null,
            "object_position": null,
            "order": null,
            "overflow": null,
            "overflow_x": null,
            "overflow_y": null,
            "padding": null,
            "right": null,
            "top": null,
            "visibility": null,
            "width": null
          }
        },
        "9ff27afb49f643668978180b5c0f4622": {
          "model_module": "@jupyter-widgets/base",
          "model_module_version": "1.2.0",
          "model_name": "LayoutModel",
          "state": {
            "_model_module": "@jupyter-widgets/base",
            "_model_module_version": "1.2.0",
            "_model_name": "LayoutModel",
            "_view_count": null,
            "_view_module": "@jupyter-widgets/base",
            "_view_module_version": "1.2.0",
            "_view_name": "LayoutView",
            "align_content": null,
            "align_items": null,
            "align_self": null,
            "border": null,
            "bottom": null,
            "display": null,
            "flex": null,
            "flex_flow": null,
            "grid_area": null,
            "grid_auto_columns": null,
            "grid_auto_flow": null,
            "grid_auto_rows": null,
            "grid_column": null,
            "grid_gap": null,
            "grid_row": null,
            "grid_template_areas": null,
            "grid_template_columns": null,
            "grid_template_rows": null,
            "height": null,
            "justify_content": null,
            "justify_items": null,
            "left": null,
            "margin": null,
            "max_height": null,
            "max_width": null,
            "min_height": null,
            "min_width": null,
            "object_fit": null,
            "object_position": null,
            "order": null,
            "overflow": null,
            "overflow_x": null,
            "overflow_y": null,
            "padding": null,
            "right": null,
            "top": null,
            "visibility": null,
            "width": null
          }
        },
        "a022ab5f233a433f900a5bc6d4c83326": {
          "model_module": "@jupyter-widgets/controls",
          "model_module_version": "1.5.0",
          "model_name": "DescriptionStyleModel",
          "state": {
            "_model_module": "@jupyter-widgets/controls",
            "_model_module_version": "1.5.0",
            "_model_name": "DescriptionStyleModel",
            "_view_count": null,
            "_view_module": "@jupyter-widgets/base",
            "_view_module_version": "1.2.0",
            "_view_name": "StyleView",
            "description_width": ""
          }
        },
        "a0c4b1c09bdd42cca6f03748928a383d": {
          "model_module": "@jupyter-widgets/controls",
          "model_module_version": "1.5.0",
          "model_name": "DescriptionStyleModel",
          "state": {
            "_model_module": "@jupyter-widgets/controls",
            "_model_module_version": "1.5.0",
            "_model_name": "DescriptionStyleModel",
            "_view_count": null,
            "_view_module": "@jupyter-widgets/base",
            "_view_module_version": "1.2.0",
            "_view_name": "StyleView",
            "description_width": ""
          }
        },
        "a15a6119632645cc9051df0b7f731bc9": {
          "model_module": "@jupyter-widgets/controls",
          "model_module_version": "1.5.0",
          "model_name": "HTMLModel",
          "state": {
            "_dom_classes": [],
            "_model_module": "@jupyter-widgets/controls",
            "_model_module_version": "1.5.0",
            "_model_name": "HTMLModel",
            "_view_count": null,
            "_view_module": "@jupyter-widgets/controls",
            "_view_module_version": "1.5.0",
            "_view_name": "HTMLView",
            "description": "",
            "description_tooltip": null,
            "layout": "IPY_MODEL_632ee52eb5eb401fb07bc8a97fb1f4b3",
            "placeholder": "​",
            "style": "IPY_MODEL_7e0056449e394b5db492c5d3b4f4248d",
            "value": "README.md: 100%"
          }
        },
        "a342b81f9b614797ab838907f31b7bc1": {
          "model_module": "@jupyter-widgets/controls",
          "model_module_version": "1.5.0",
          "model_name": "FloatProgressModel",
          "state": {
            "_dom_classes": [],
            "_model_module": "@jupyter-widgets/controls",
            "_model_module_version": "1.5.0",
            "_model_name": "FloatProgressModel",
            "_view_count": null,
            "_view_module": "@jupyter-widgets/controls",
            "_view_module_version": "1.5.0",
            "_view_name": "ProgressView",
            "bar_style": "success",
            "description": "",
            "description_tooltip": null,
            "layout": "IPY_MODEL_be331149479b45d1a4e086fa3e20dfe2",
            "max": 368,
            "min": 0,
            "orientation": "horizontal",
            "style": "IPY_MODEL_4426f5fe910044c29be4f1efade3f6dc",
            "value": 368
          }
        },
        "a35fdd5db8c840f2b6be5640edbf9067": {
          "model_module": "@jupyter-widgets/base",
          "model_module_version": "1.2.0",
          "model_name": "LayoutModel",
          "state": {
            "_model_module": "@jupyter-widgets/base",
            "_model_module_version": "1.2.0",
            "_model_name": "LayoutModel",
            "_view_count": null,
            "_view_module": "@jupyter-widgets/base",
            "_view_module_version": "1.2.0",
            "_view_name": "LayoutView",
            "align_content": null,
            "align_items": null,
            "align_self": null,
            "border": null,
            "bottom": null,
            "display": null,
            "flex": null,
            "flex_flow": null,
            "grid_area": null,
            "grid_auto_columns": null,
            "grid_auto_flow": null,
            "grid_auto_rows": null,
            "grid_column": null,
            "grid_gap": null,
            "grid_row": null,
            "grid_template_areas": null,
            "grid_template_columns": null,
            "grid_template_rows": null,
            "height": null,
            "justify_content": null,
            "justify_items": null,
            "left": null,
            "margin": null,
            "max_height": null,
            "max_width": null,
            "min_height": null,
            "min_width": null,
            "object_fit": null,
            "object_position": null,
            "order": null,
            "overflow": null,
            "overflow_x": null,
            "overflow_y": null,
            "padding": null,
            "right": null,
            "top": null,
            "visibility": null,
            "width": null
          }
        },
        "a5a42736fb574c4e9418a9b4fff3ecd8": {
          "model_module": "@jupyter-widgets/base",
          "model_module_version": "1.2.0",
          "model_name": "LayoutModel",
          "state": {
            "_model_module": "@jupyter-widgets/base",
            "_model_module_version": "1.2.0",
            "_model_name": "LayoutModel",
            "_view_count": null,
            "_view_module": "@jupyter-widgets/base",
            "_view_module_version": "1.2.0",
            "_view_name": "LayoutView",
            "align_content": null,
            "align_items": null,
            "align_self": null,
            "border": null,
            "bottom": null,
            "display": null,
            "flex": null,
            "flex_flow": null,
            "grid_area": null,
            "grid_auto_columns": null,
            "grid_auto_flow": null,
            "grid_auto_rows": null,
            "grid_column": null,
            "grid_gap": null,
            "grid_row": null,
            "grid_template_areas": null,
            "grid_template_columns": null,
            "grid_template_rows": null,
            "height": null,
            "justify_content": null,
            "justify_items": null,
            "left": null,
            "margin": null,
            "max_height": null,
            "max_width": null,
            "min_height": null,
            "min_width": null,
            "object_fit": null,
            "object_position": null,
            "order": null,
            "overflow": null,
            "overflow_x": null,
            "overflow_y": null,
            "padding": null,
            "right": null,
            "top": null,
            "visibility": null,
            "width": null
          }
        },
        "a7fb669e2bb34c0f8a7eef9d83309ffa": {
          "model_module": "@jupyter-widgets/controls",
          "model_module_version": "1.5.0",
          "model_name": "HTMLModel",
          "state": {
            "_dom_classes": [],
            "_model_module": "@jupyter-widgets/controls",
            "_model_module_version": "1.5.0",
            "_model_name": "HTMLModel",
            "_view_count": null,
            "_view_module": "@jupyter-widgets/controls",
            "_view_module_version": "1.5.0",
            "_view_name": "HTMLView",
            "description": "",
            "description_tooltip": null,
            "layout": "IPY_MODEL_d4e5b507084a4ee0a97b5200a24c1483",
            "placeholder": "​",
            "style": "IPY_MODEL_dea57cffc5894c3c94f47f240cbb8f90",
            "value": " 53.0/53.0 [00:00&lt;00:00, 2.93kB/s]"
          }
        },
        "a87f44c5bf5442e1af47b17761d432f5": {
          "model_module": "@jupyter-widgets/controls",
          "model_module_version": "1.5.0",
          "model_name": "ProgressStyleModel",
          "state": {
            "_model_module": "@jupyter-widgets/controls",
            "_model_module_version": "1.5.0",
            "_model_name": "ProgressStyleModel",
            "_view_count": null,
            "_view_module": "@jupyter-widgets/base",
            "_view_module_version": "1.2.0",
            "_view_name": "StyleView",
            "bar_color": null,
            "description_width": ""
          }
        },
        "adeeca32e3c34d429f60bad04628e031": {
          "model_module": "@jupyter-widgets/controls",
          "model_module_version": "1.5.0",
          "model_name": "DescriptionStyleModel",
          "state": {
            "_model_module": "@jupyter-widgets/controls",
            "_model_module_version": "1.5.0",
            "_model_name": "DescriptionStyleModel",
            "_view_count": null,
            "_view_module": "@jupyter-widgets/base",
            "_view_module_version": "1.2.0",
            "_view_name": "StyleView",
            "description_width": ""
          }
        },
        "aee1ff9f701b4e12a4590e121098bf93": {
          "model_module": "@jupyter-widgets/base",
          "model_module_version": "1.2.0",
          "model_name": "LayoutModel",
          "state": {
            "_model_module": "@jupyter-widgets/base",
            "_model_module_version": "1.2.0",
            "_model_name": "LayoutModel",
            "_view_count": null,
            "_view_module": "@jupyter-widgets/base",
            "_view_module_version": "1.2.0",
            "_view_name": "LayoutView",
            "align_content": null,
            "align_items": null,
            "align_self": null,
            "border": null,
            "bottom": null,
            "display": null,
            "flex": null,
            "flex_flow": null,
            "grid_area": null,
            "grid_auto_columns": null,
            "grid_auto_flow": null,
            "grid_auto_rows": null,
            "grid_column": null,
            "grid_gap": null,
            "grid_row": null,
            "grid_template_areas": null,
            "grid_template_columns": null,
            "grid_template_rows": null,
            "height": null,
            "justify_content": null,
            "justify_items": null,
            "left": null,
            "margin": null,
            "max_height": null,
            "max_width": null,
            "min_height": null,
            "min_width": null,
            "object_fit": null,
            "object_position": null,
            "order": null,
            "overflow": null,
            "overflow_x": null,
            "overflow_y": null,
            "padding": null,
            "right": null,
            "top": null,
            "visibility": null,
            "width": null
          }
        },
        "af19cc383ede4f6ba7a84ebae6906a23": {
          "model_module": "@jupyter-widgets/controls",
          "model_module_version": "1.5.0",
          "model_name": "FloatProgressModel",
          "state": {
            "_dom_classes": [],
            "_model_module": "@jupyter-widgets/controls",
            "_model_module_version": "1.5.0",
            "_model_name": "FloatProgressModel",
            "_view_count": null,
            "_view_module": "@jupyter-widgets/controls",
            "_view_module_version": "1.5.0",
            "_view_name": "ProgressView",
            "bar_style": "success",
            "description": "",
            "description_tooltip": null,
            "layout": "IPY_MODEL_444457d0330d432286bfb2d834807146",
            "max": 53,
            "min": 0,
            "orientation": "horizontal",
            "style": "IPY_MODEL_bc351b6dd24a494caaab96bcd40ea8e3",
            "value": 53
          }
        },
        "afa746ff4db24b969e005440f878303b": {
          "model_module": "@jupyter-widgets/controls",
          "model_module_version": "1.5.0",
          "model_name": "DescriptionStyleModel",
          "state": {
            "_model_module": "@jupyter-widgets/controls",
            "_model_module_version": "1.5.0",
            "_model_name": "DescriptionStyleModel",
            "_view_count": null,
            "_view_module": "@jupyter-widgets/base",
            "_view_module_version": "1.2.0",
            "_view_name": "StyleView",
            "description_width": ""
          }
        },
        "b04ea51f1ef24397a8ad74b253354ddc": {
          "model_module": "@jupyter-widgets/controls",
          "model_module_version": "1.5.0",
          "model_name": "ProgressStyleModel",
          "state": {
            "_model_module": "@jupyter-widgets/controls",
            "_model_module_version": "1.5.0",
            "_model_name": "ProgressStyleModel",
            "_view_count": null,
            "_view_module": "@jupyter-widgets/base",
            "_view_module_version": "1.2.0",
            "_view_name": "StyleView",
            "bar_color": null,
            "description_width": ""
          }
        },
        "b3be17a49ea04e4fb3c2a84407fa9956": {
          "model_module": "@jupyter-widgets/controls",
          "model_module_version": "1.5.0",
          "model_name": "FloatProgressModel",
          "state": {
            "_dom_classes": [],
            "_model_module": "@jupyter-widgets/controls",
            "_model_module_version": "1.5.0",
            "_model_name": "FloatProgressModel",
            "_view_count": null,
            "_view_module": "@jupyter-widgets/controls",
            "_view_module_version": "1.5.0",
            "_view_name": "ProgressView",
            "bar_style": "success",
            "description": "",
            "description_tooltip": null,
            "layout": "IPY_MODEL_d4a18ccc3870437aaba8419055b7f523",
            "max": 3674687,
            "min": 0,
            "orientation": "horizontal",
            "style": "IPY_MODEL_78c36aa9b7054f0cb38718020c92928d",
            "value": 3674687
          }
        },
        "b52e22e3338d4118a63a35568b81d52a": {
          "model_module": "@jupyter-widgets/controls",
          "model_module_version": "1.5.0",
          "model_name": "FloatProgressModel",
          "state": {
            "_dom_classes": [],
            "_model_module": "@jupyter-widgets/controls",
            "_model_module_version": "1.5.0",
            "_model_name": "FloatProgressModel",
            "_view_count": null,
            "_view_module": "@jupyter-widgets/controls",
            "_view_module_version": "1.5.0",
            "_view_name": "ProgressView",
            "bar_style": "success",
            "description": "",
            "description_tooltip": null,
            "layout": "IPY_MODEL_9ff27afb49f643668978180b5c0f4622",
            "max": 33050,
            "min": 0,
            "orientation": "horizontal",
            "style": "IPY_MODEL_0e8da1eaf12a4f7785acb0e7ed26e922",
            "value": 33050
          }
        },
        "b7b2c92fd9ae40549b28ba1f0b0917d6": {
          "model_module": "@jupyter-widgets/base",
          "model_module_version": "1.2.0",
          "model_name": "LayoutModel",
          "state": {
            "_model_module": "@jupyter-widgets/base",
            "_model_module_version": "1.2.0",
            "_model_name": "LayoutModel",
            "_view_count": null,
            "_view_module": "@jupyter-widgets/base",
            "_view_module_version": "1.2.0",
            "_view_name": "LayoutView",
            "align_content": null,
            "align_items": null,
            "align_self": null,
            "border": null,
            "bottom": null,
            "display": null,
            "flex": null,
            "flex_flow": null,
            "grid_area": null,
            "grid_auto_columns": null,
            "grid_auto_flow": null,
            "grid_auto_rows": null,
            "grid_column": null,
            "grid_gap": null,
            "grid_row": null,
            "grid_template_areas": null,
            "grid_template_columns": null,
            "grid_template_rows": null,
            "height": null,
            "justify_content": null,
            "justify_items": null,
            "left": null,
            "margin": null,
            "max_height": null,
            "max_width": null,
            "min_height": null,
            "min_width": null,
            "object_fit": null,
            "object_position": null,
            "order": null,
            "overflow": null,
            "overflow_x": null,
            "overflow_y": null,
            "padding": null,
            "right": null,
            "top": null,
            "visibility": null,
            "width": null
          }
        },
        "bc351b6dd24a494caaab96bcd40ea8e3": {
          "model_module": "@jupyter-widgets/controls",
          "model_module_version": "1.5.0",
          "model_name": "ProgressStyleModel",
          "state": {
            "_model_module": "@jupyter-widgets/controls",
            "_model_module_version": "1.5.0",
            "_model_name": "ProgressStyleModel",
            "_view_count": null,
            "_view_module": "@jupyter-widgets/base",
            "_view_module_version": "1.2.0",
            "_view_name": "StyleView",
            "bar_color": null,
            "description_width": ""
          }
        },
        "bd90fbb5bbf741869839d432df3ab52f": {
          "model_module": "@jupyter-widgets/base",
          "model_module_version": "1.2.0",
          "model_name": "LayoutModel",
          "state": {
            "_model_module": "@jupyter-widgets/base",
            "_model_module_version": "1.2.0",
            "_model_name": "LayoutModel",
            "_view_count": null,
            "_view_module": "@jupyter-widgets/base",
            "_view_module_version": "1.2.0",
            "_view_name": "LayoutView",
            "align_content": null,
            "align_items": null,
            "align_self": null,
            "border": null,
            "bottom": null,
            "display": null,
            "flex": null,
            "flex_flow": null,
            "grid_area": null,
            "grid_auto_columns": null,
            "grid_auto_flow": null,
            "grid_auto_rows": null,
            "grid_column": null,
            "grid_gap": null,
            "grid_row": null,
            "grid_template_areas": null,
            "grid_template_columns": null,
            "grid_template_rows": null,
            "height": null,
            "justify_content": null,
            "justify_items": null,
            "left": null,
            "margin": null,
            "max_height": null,
            "max_width": null,
            "min_height": null,
            "min_width": null,
            "object_fit": null,
            "object_position": null,
            "order": null,
            "overflow": null,
            "overflow_x": null,
            "overflow_y": null,
            "padding": null,
            "right": null,
            "top": null,
            "visibility": null,
            "width": null
          }
        },
        "be331149479b45d1a4e086fa3e20dfe2": {
          "model_module": "@jupyter-widgets/base",
          "model_module_version": "1.2.0",
          "model_name": "LayoutModel",
          "state": {
            "_model_module": "@jupyter-widgets/base",
            "_model_module_version": "1.2.0",
            "_model_name": "LayoutModel",
            "_view_count": null,
            "_view_module": "@jupyter-widgets/base",
            "_view_module_version": "1.2.0",
            "_view_name": "LayoutView",
            "align_content": null,
            "align_items": null,
            "align_self": null,
            "border": null,
            "bottom": null,
            "display": null,
            "flex": null,
            "flex_flow": null,
            "grid_area": null,
            "grid_auto_columns": null,
            "grid_auto_flow": null,
            "grid_auto_rows": null,
            "grid_column": null,
            "grid_gap": null,
            "grid_row": null,
            "grid_template_areas": null,
            "grid_template_columns": null,
            "grid_template_rows": null,
            "height": null,
            "justify_content": null,
            "justify_items": null,
            "left": null,
            "margin": null,
            "max_height": null,
            "max_width": null,
            "min_height": null,
            "min_width": null,
            "object_fit": null,
            "object_position": null,
            "order": null,
            "overflow": null,
            "overflow_x": null,
            "overflow_y": null,
            "padding": null,
            "right": null,
            "top": null,
            "visibility": null,
            "width": null
          }
        },
        "c1cb2cd3030a4a8b866308733cbd4815": {
          "model_module": "@jupyter-widgets/controls",
          "model_module_version": "1.5.0",
          "model_name": "DescriptionStyleModel",
          "state": {
            "_model_module": "@jupyter-widgets/controls",
            "_model_module_version": "1.5.0",
            "_model_name": "DescriptionStyleModel",
            "_view_count": null,
            "_view_module": "@jupyter-widgets/base",
            "_view_module_version": "1.2.0",
            "_view_name": "StyleView",
            "description_width": ""
          }
        },
        "c28620d5953f41f9b9b7db4496c8aec9": {
          "model_module": "@jupyter-widgets/controls",
          "model_module_version": "1.5.0",
          "model_name": "HTMLModel",
          "state": {
            "_dom_classes": [],
            "_model_module": "@jupyter-widgets/controls",
            "_model_module_version": "1.5.0",
            "_model_name": "HTMLModel",
            "_view_count": null,
            "_view_module": "@jupyter-widgets/controls",
            "_view_module_version": "1.5.0",
            "_view_name": "HTMLView",
            "description": "",
            "description_tooltip": null,
            "layout": "IPY_MODEL_cae003435d2d4726b4f962f89d64414f",
            "placeholder": "​",
            "style": "IPY_MODEL_c1cb2cd3030a4a8b866308733cbd4815",
            "value": " 3.67M/3.67M [00:00&lt;00:00, 10.1MB/s]"
          }
        },
        "c467e675f56a4d5eba6dd234c5133191": {
          "model_module": "@jupyter-widgets/base",
          "model_module_version": "1.2.0",
          "model_name": "LayoutModel",
          "state": {
            "_model_module": "@jupyter-widgets/base",
            "_model_module_version": "1.2.0",
            "_model_name": "LayoutModel",
            "_view_count": null,
            "_view_module": "@jupyter-widgets/base",
            "_view_module_version": "1.2.0",
            "_view_name": "LayoutView",
            "align_content": null,
            "align_items": null,
            "align_self": null,
            "border": null,
            "bottom": null,
            "display": null,
            "flex": null,
            "flex_flow": null,
            "grid_area": null,
            "grid_auto_columns": null,
            "grid_auto_flow": null,
            "grid_auto_rows": null,
            "grid_column": null,
            "grid_gap": null,
            "grid_row": null,
            "grid_template_areas": null,
            "grid_template_columns": null,
            "grid_template_rows": null,
            "height": null,
            "justify_content": null,
            "justify_items": null,
            "left": null,
            "margin": null,
            "max_height": null,
            "max_width": null,
            "min_height": null,
            "min_width": null,
            "object_fit": null,
            "object_position": null,
            "order": null,
            "overflow": null,
            "overflow_x": null,
            "overflow_y": null,
            "padding": null,
            "right": null,
            "top": null,
            "visibility": null,
            "width": null
          }
        },
        "c5cdfd66ee0446c9bfdc1219d968dc38": {
          "model_module": "@jupyter-widgets/controls",
          "model_module_version": "1.5.0",
          "model_name": "FloatProgressModel",
          "state": {
            "_dom_classes": [],
            "_model_module": "@jupyter-widgets/controls",
            "_model_module_version": "1.5.0",
            "_model_name": "FloatProgressModel",
            "_view_count": null,
            "_view_module": "@jupyter-widgets/controls",
            "_view_module_version": "1.5.0",
            "_view_name": "ProgressView",
            "bar_style": "success",
            "description": "",
            "description_tooltip": null,
            "layout": "IPY_MODEL_46f8126dd38145a8b6d6725d3568741d",
            "max": 367,
            "min": 0,
            "orientation": "horizontal",
            "style": "IPY_MODEL_7100d9e9fefa4633948f1529cd09eca7",
            "value": 367
          }
        },
        "c7bdd821254c45b9ad0fcce6657857a2": {
          "model_module": "@jupyter-widgets/controls",
          "model_module_version": "1.5.0",
          "model_name": "FloatProgressModel",
          "state": {
            "_dom_classes": [],
            "_model_module": "@jupyter-widgets/controls",
            "_model_module_version": "1.5.0",
            "_model_name": "FloatProgressModel",
            "_view_count": null,
            "_view_module": "@jupyter-widgets/controls",
            "_view_module_version": "1.5.0",
            "_view_name": "ProgressView",
            "bar_style": "success",
            "description": "",
            "description_tooltip": null,
            "layout": "IPY_MODEL_0f2e49dca90f490297bce4a965bb21a5",
            "max": 125,
            "min": 0,
            "orientation": "horizontal",
            "style": "IPY_MODEL_044888e80a924f95acbfc13dd5fe169f",
            "value": 125
          }
        },
        "c7ed878ae5284e1aae10d4820bd63a16": {
          "model_module": "@jupyter-widgets/base",
          "model_module_version": "1.2.0",
          "model_name": "LayoutModel",
          "state": {
            "_model_module": "@jupyter-widgets/base",
            "_model_module_version": "1.2.0",
            "_model_name": "LayoutModel",
            "_view_count": null,
            "_view_module": "@jupyter-widgets/base",
            "_view_module_version": "1.2.0",
            "_view_name": "LayoutView",
            "align_content": null,
            "align_items": null,
            "align_self": null,
            "border": null,
            "bottom": null,
            "display": null,
            "flex": null,
            "flex_flow": null,
            "grid_area": null,
            "grid_auto_columns": null,
            "grid_auto_flow": null,
            "grid_auto_rows": null,
            "grid_column": null,
            "grid_gap": null,
            "grid_row": null,
            "grid_template_areas": null,
            "grid_template_columns": null,
            "grid_template_rows": null,
            "height": null,
            "justify_content": null,
            "justify_items": null,
            "left": null,
            "margin": null,
            "max_height": null,
            "max_width": null,
            "min_height": null,
            "min_width": null,
            "object_fit": null,
            "object_position": null,
            "order": null,
            "overflow": null,
            "overflow_x": null,
            "overflow_y": null,
            "padding": null,
            "right": null,
            "top": null,
            "visibility": null,
            "width": null
          }
        },
        "c80868cbc31d4005810d294b3200a531": {
          "model_module": "@jupyter-widgets/controls",
          "model_module_version": "1.5.0",
          "model_name": "ProgressStyleModel",
          "state": {
            "_model_module": "@jupyter-widgets/controls",
            "_model_module_version": "1.5.0",
            "_model_name": "ProgressStyleModel",
            "_view_count": null,
            "_view_module": "@jupyter-widgets/base",
            "_view_module_version": "1.2.0",
            "_view_name": "StyleView",
            "bar_color": null,
            "description_width": ""
          }
        },
        "ca22142cf3934410b63f76de443457a6": {
          "model_module": "@jupyter-widgets/base",
          "model_module_version": "1.2.0",
          "model_name": "LayoutModel",
          "state": {
            "_model_module": "@jupyter-widgets/base",
            "_model_module_version": "1.2.0",
            "_model_name": "LayoutModel",
            "_view_count": null,
            "_view_module": "@jupyter-widgets/base",
            "_view_module_version": "1.2.0",
            "_view_name": "LayoutView",
            "align_content": null,
            "align_items": null,
            "align_self": null,
            "border": null,
            "bottom": null,
            "display": null,
            "flex": null,
            "flex_flow": null,
            "grid_area": null,
            "grid_auto_columns": null,
            "grid_auto_flow": null,
            "grid_auto_rows": null,
            "grid_column": null,
            "grid_gap": null,
            "grid_row": null,
            "grid_template_areas": null,
            "grid_template_columns": null,
            "grid_template_rows": null,
            "height": null,
            "justify_content": null,
            "justify_items": null,
            "left": null,
            "margin": null,
            "max_height": null,
            "max_width": null,
            "min_height": null,
            "min_width": null,
            "object_fit": null,
            "object_position": null,
            "order": null,
            "overflow": null,
            "overflow_x": null,
            "overflow_y": null,
            "padding": null,
            "right": null,
            "top": null,
            "visibility": null,
            "width": null
          }
        },
        "ca5341618ef247749dfed3bb96b41ac5": {
          "model_module": "@jupyter-widgets/controls",
          "model_module_version": "1.5.0",
          "model_name": "FloatProgressModel",
          "state": {
            "_dom_classes": [],
            "_model_module": "@jupyter-widgets/controls",
            "_model_module_version": "1.5.0",
            "_model_name": "FloatProgressModel",
            "_view_count": null,
            "_view_module": "@jupyter-widgets/controls",
            "_view_module_version": "1.5.0",
            "_view_name": "ProgressView",
            "bar_style": "success",
            "description": "",
            "description_tooltip": null,
            "layout": "IPY_MODEL_f0047d90ec144dd2ae9faf358fc6e374",
            "max": 812,
            "min": 0,
            "orientation": "horizontal",
            "style": "IPY_MODEL_1668c23be4ee48628b4f859e089d3f64",
            "value": 812
          }
        },
        "ca9ba79211ac4ed0a196637480bd4266": {
          "model_module": "@jupyter-widgets/controls",
          "model_module_version": "1.5.0",
          "model_name": "HTMLModel",
          "state": {
            "_dom_classes": [],
            "_model_module": "@jupyter-widgets/controls",
            "_model_module_version": "1.5.0",
            "_model_name": "HTMLModel",
            "_view_count": null,
            "_view_module": "@jupyter-widgets/controls",
            "_view_module_version": "1.5.0",
            "_view_name": "HTMLView",
            "description": "",
            "description_tooltip": null,
            "layout": "IPY_MODEL_028bf57d73cb4c7ebcedcca6823d3822",
            "placeholder": "​",
            "style": "IPY_MODEL_f2c8f3e8c4fc42d0a91d6cf70b464152",
            "value": "config.json: 100%"
          }
        },
        "cae003435d2d4726b4f962f89d64414f": {
          "model_module": "@jupyter-widgets/base",
          "model_module_version": "1.2.0",
          "model_name": "LayoutModel",
          "state": {
            "_model_module": "@jupyter-widgets/base",
            "_model_module_version": "1.2.0",
            "_model_name": "LayoutModel",
            "_view_count": null,
            "_view_module": "@jupyter-widgets/base",
            "_view_module_version": "1.2.0",
            "_view_name": "LayoutView",
            "align_content": null,
            "align_items": null,
            "align_self": null,
            "border": null,
            "bottom": null,
            "display": null,
            "flex": null,
            "flex_flow": null,
            "grid_area": null,
            "grid_auto_columns": null,
            "grid_auto_flow": null,
            "grid_auto_rows": null,
            "grid_column": null,
            "grid_gap": null,
            "grid_row": null,
            "grid_template_areas": null,
            "grid_template_columns": null,
            "grid_template_rows": null,
            "height": null,
            "justify_content": null,
            "justify_items": null,
            "left": null,
            "margin": null,
            "max_height": null,
            "max_width": null,
            "min_height": null,
            "min_width": null,
            "object_fit": null,
            "object_position": null,
            "order": null,
            "overflow": null,
            "overflow_x": null,
            "overflow_y": null,
            "padding": null,
            "right": null,
            "top": null,
            "visibility": null,
            "width": null
          }
        },
        "cf51dc243b794590a42fb98a6b0744a4": {
          "model_module": "@jupyter-widgets/base",
          "model_module_version": "1.2.0",
          "model_name": "LayoutModel",
          "state": {
            "_model_module": "@jupyter-widgets/base",
            "_model_module_version": "1.2.0",
            "_model_name": "LayoutModel",
            "_view_count": null,
            "_view_module": "@jupyter-widgets/base",
            "_view_module_version": "1.2.0",
            "_view_name": "LayoutView",
            "align_content": null,
            "align_items": null,
            "align_self": null,
            "border": null,
            "bottom": null,
            "display": null,
            "flex": null,
            "flex_flow": null,
            "grid_area": null,
            "grid_auto_columns": null,
            "grid_auto_flow": null,
            "grid_auto_rows": null,
            "grid_column": null,
            "grid_gap": null,
            "grid_row": null,
            "grid_template_areas": null,
            "grid_template_columns": null,
            "grid_template_rows": null,
            "height": null,
            "justify_content": null,
            "justify_items": null,
            "left": null,
            "margin": null,
            "max_height": null,
            "max_width": null,
            "min_height": null,
            "min_width": null,
            "object_fit": null,
            "object_position": null,
            "order": null,
            "overflow": null,
            "overflow_x": null,
            "overflow_y": null,
            "padding": null,
            "right": null,
            "top": null,
            "visibility": null,
            "width": null
          }
        },
        "d24cfcb9b50f4e8898a28795591f1e39": {
          "model_module": "@jupyter-widgets/controls",
          "model_module_version": "1.5.0",
          "model_name": "DescriptionStyleModel",
          "state": {
            "_model_module": "@jupyter-widgets/controls",
            "_model_module_version": "1.5.0",
            "_model_name": "DescriptionStyleModel",
            "_view_count": null,
            "_view_module": "@jupyter-widgets/base",
            "_view_module_version": "1.2.0",
            "_view_name": "StyleView",
            "description_width": ""
          }
        },
        "d4a18ccc3870437aaba8419055b7f523": {
          "model_module": "@jupyter-widgets/base",
          "model_module_version": "1.2.0",
          "model_name": "LayoutModel",
          "state": {
            "_model_module": "@jupyter-widgets/base",
            "_model_module_version": "1.2.0",
            "_model_name": "LayoutModel",
            "_view_count": null,
            "_view_module": "@jupyter-widgets/base",
            "_view_module_version": "1.2.0",
            "_view_name": "LayoutView",
            "align_content": null,
            "align_items": null,
            "align_self": null,
            "border": null,
            "bottom": null,
            "display": null,
            "flex": null,
            "flex_flow": null,
            "grid_area": null,
            "grid_auto_columns": null,
            "grid_auto_flow": null,
            "grid_auto_rows": null,
            "grid_column": null,
            "grid_gap": null,
            "grid_row": null,
            "grid_template_areas": null,
            "grid_template_columns": null,
            "grid_template_rows": null,
            "height": null,
            "justify_content": null,
            "justify_items": null,
            "left": null,
            "margin": null,
            "max_height": null,
            "max_width": null,
            "min_height": null,
            "min_width": null,
            "object_fit": null,
            "object_position": null,
            "order": null,
            "overflow": null,
            "overflow_x": null,
            "overflow_y": null,
            "padding": null,
            "right": null,
            "top": null,
            "visibility": null,
            "width": null
          }
        },
        "d4e5b507084a4ee0a97b5200a24c1483": {
          "model_module": "@jupyter-widgets/base",
          "model_module_version": "1.2.0",
          "model_name": "LayoutModel",
          "state": {
            "_model_module": "@jupyter-widgets/base",
            "_model_module_version": "1.2.0",
            "_model_name": "LayoutModel",
            "_view_count": null,
            "_view_module": "@jupyter-widgets/base",
            "_view_module_version": "1.2.0",
            "_view_name": "LayoutView",
            "align_content": null,
            "align_items": null,
            "align_self": null,
            "border": null,
            "bottom": null,
            "display": null,
            "flex": null,
            "flex_flow": null,
            "grid_area": null,
            "grid_auto_columns": null,
            "grid_auto_flow": null,
            "grid_auto_rows": null,
            "grid_column": null,
            "grid_gap": null,
            "grid_row": null,
            "grid_template_areas": null,
            "grid_template_columns": null,
            "grid_template_rows": null,
            "height": null,
            "justify_content": null,
            "justify_items": null,
            "left": null,
            "margin": null,
            "max_height": null,
            "max_width": null,
            "min_height": null,
            "min_width": null,
            "object_fit": null,
            "object_position": null,
            "order": null,
            "overflow": null,
            "overflow_x": null,
            "overflow_y": null,
            "padding": null,
            "right": null,
            "top": null,
            "visibility": null,
            "width": null
          }
        },
        "da14bdb0056343de9ce099e255050cbc": {
          "model_module": "@jupyter-widgets/base",
          "model_module_version": "1.2.0",
          "model_name": "LayoutModel",
          "state": {
            "_model_module": "@jupyter-widgets/base",
            "_model_module_version": "1.2.0",
            "_model_name": "LayoutModel",
            "_view_count": null,
            "_view_module": "@jupyter-widgets/base",
            "_view_module_version": "1.2.0",
            "_view_name": "LayoutView",
            "align_content": null,
            "align_items": null,
            "align_self": null,
            "border": null,
            "bottom": null,
            "display": null,
            "flex": null,
            "flex_flow": null,
            "grid_area": null,
            "grid_auto_columns": null,
            "grid_auto_flow": null,
            "grid_auto_rows": null,
            "grid_column": null,
            "grid_gap": null,
            "grid_row": null,
            "grid_template_areas": null,
            "grid_template_columns": null,
            "grid_template_rows": null,
            "height": null,
            "justify_content": null,
            "justify_items": null,
            "left": null,
            "margin": null,
            "max_height": null,
            "max_width": null,
            "min_height": null,
            "min_width": null,
            "object_fit": null,
            "object_position": null,
            "order": null,
            "overflow": null,
            "overflow_x": null,
            "overflow_y": null,
            "padding": null,
            "right": null,
            "top": null,
            "visibility": null,
            "width": null
          }
        },
        "dc14e14614a94f56aeea334a38eaf74d": {
          "model_module": "@jupyter-widgets/controls",
          "model_module_version": "1.5.0",
          "model_name": "HTMLModel",
          "state": {
            "_dom_classes": [],
            "_model_module": "@jupyter-widgets/controls",
            "_model_module_version": "1.5.0",
            "_model_name": "HTMLModel",
            "_view_count": null,
            "_view_module": "@jupyter-widgets/controls",
            "_view_module_version": "1.5.0",
            "_view_name": "HTMLView",
            "description": "",
            "description_tooltip": null,
            "layout": "IPY_MODEL_03cd5b8bbc4741ada07049b686aecdea",
            "placeholder": "​",
            "style": "IPY_MODEL_94b81501bd1b46a49e8ce98854c016b5",
            "value": " 122/122 [00:00&lt;00:00, 1.65kB/s]"
          }
        },
        "dcda5471e71c4b6bba011f0b5e43ecea": {
          "model_module": "@jupyter-widgets/controls",
          "model_module_version": "1.5.0",
          "model_name": "DescriptionStyleModel",
          "state": {
            "_model_module": "@jupyter-widgets/controls",
            "_model_module_version": "1.5.0",
            "_model_name": "DescriptionStyleModel",
            "_view_count": null,
            "_view_module": "@jupyter-widgets/base",
            "_view_module_version": "1.2.0",
            "_view_name": "StyleView",
            "description_width": ""
          }
        },
        "de7a3dab32bc4a0680f1b4a546eb6856": {
          "model_module": "@jupyter-widgets/base",
          "model_module_version": "1.2.0",
          "model_name": "LayoutModel",
          "state": {
            "_model_module": "@jupyter-widgets/base",
            "_model_module_version": "1.2.0",
            "_model_name": "LayoutModel",
            "_view_count": null,
            "_view_module": "@jupyter-widgets/base",
            "_view_module_version": "1.2.0",
            "_view_name": "LayoutView",
            "align_content": null,
            "align_items": null,
            "align_self": null,
            "border": null,
            "bottom": null,
            "display": null,
            "flex": null,
            "flex_flow": null,
            "grid_area": null,
            "grid_auto_columns": null,
            "grid_auto_flow": null,
            "grid_auto_rows": null,
            "grid_column": null,
            "grid_gap": null,
            "grid_row": null,
            "grid_template_areas": null,
            "grid_template_columns": null,
            "grid_template_rows": null,
            "height": null,
            "justify_content": null,
            "justify_items": null,
            "left": null,
            "margin": null,
            "max_height": null,
            "max_width": null,
            "min_height": null,
            "min_width": null,
            "object_fit": null,
            "object_position": null,
            "order": null,
            "overflow": null,
            "overflow_x": null,
            "overflow_y": null,
            "padding": null,
            "right": null,
            "top": null,
            "visibility": null,
            "width": null
          }
        },
        "dea57cffc5894c3c94f47f240cbb8f90": {
          "model_module": "@jupyter-widgets/controls",
          "model_module_version": "1.5.0",
          "model_name": "DescriptionStyleModel",
          "state": {
            "_model_module": "@jupyter-widgets/controls",
            "_model_module_version": "1.5.0",
            "_model_name": "DescriptionStyleModel",
            "_view_count": null,
            "_view_module": "@jupyter-widgets/base",
            "_view_module_version": "1.2.0",
            "_view_name": "StyleView",
            "description_width": ""
          }
        },
        "e1274feeea164600b7dfe02a371048d9": {
          "model_module": "@jupyter-widgets/controls",
          "model_module_version": "1.5.0",
          "model_name": "DescriptionStyleModel",
          "state": {
            "_model_module": "@jupyter-widgets/controls",
            "_model_module_version": "1.5.0",
            "_model_name": "DescriptionStyleModel",
            "_view_count": null,
            "_view_module": "@jupyter-widgets/base",
            "_view_module_version": "1.2.0",
            "_view_name": "StyleView",
            "description_width": ""
          }
        },
        "e51bc7c5e6204488bd8e4ad7c3f6f0a0": {
          "model_module": "@jupyter-widgets/base",
          "model_module_version": "1.2.0",
          "model_name": "LayoutModel",
          "state": {
            "_model_module": "@jupyter-widgets/base",
            "_model_module_version": "1.2.0",
            "_model_name": "LayoutModel",
            "_view_count": null,
            "_view_module": "@jupyter-widgets/base",
            "_view_module_version": "1.2.0",
            "_view_name": "LayoutView",
            "align_content": null,
            "align_items": null,
            "align_self": null,
            "border": null,
            "bottom": null,
            "display": null,
            "flex": null,
            "flex_flow": null,
            "grid_area": null,
            "grid_auto_columns": null,
            "grid_auto_flow": null,
            "grid_auto_rows": null,
            "grid_column": null,
            "grid_gap": null,
            "grid_row": null,
            "grid_template_areas": null,
            "grid_template_columns": null,
            "grid_template_rows": null,
            "height": null,
            "justify_content": null,
            "justify_items": null,
            "left": null,
            "margin": null,
            "max_height": null,
            "max_width": null,
            "min_height": null,
            "min_width": null,
            "object_fit": null,
            "object_position": null,
            "order": null,
            "overflow": null,
            "overflow_x": null,
            "overflow_y": null,
            "padding": null,
            "right": null,
            "top": null,
            "visibility": null,
            "width": null
          }
        },
        "ea3222867b3c4c71b298063fd2322c82": {
          "model_module": "@jupyter-widgets/controls",
          "model_module_version": "1.5.0",
          "model_name": "HBoxModel",
          "state": {
            "_dom_classes": [],
            "_model_module": "@jupyter-widgets/controls",
            "_model_module_version": "1.5.0",
            "_model_name": "HBoxModel",
            "_view_count": null,
            "_view_module": "@jupyter-widgets/controls",
            "_view_module_version": "1.5.0",
            "_view_name": "HBoxView",
            "box_style": "",
            "children": [
              "IPY_MODEL_3818ead166164087aae90d0160bf2e81",
              "IPY_MODEL_36ba74a66c864d458758980cf739cc93",
              "IPY_MODEL_ec8e379f1beb4dd1b09afdea91e34b69"
            ],
            "layout": "IPY_MODEL_69cb992e32f14b80af565e9cf7c5c630"
          }
        },
        "ec4f119e71884e91a42d774a21e91bcc": {
          "model_module": "@jupyter-widgets/controls",
          "model_module_version": "1.5.0",
          "model_name": "ProgressStyleModel",
          "state": {
            "_model_module": "@jupyter-widgets/controls",
            "_model_module_version": "1.5.0",
            "_model_name": "ProgressStyleModel",
            "_view_count": null,
            "_view_module": "@jupyter-widgets/base",
            "_view_module_version": "1.2.0",
            "_view_name": "StyleView",
            "bar_color": null,
            "description_width": ""
          }
        },
        "ec8e379f1beb4dd1b09afdea91e34b69": {
          "model_module": "@jupyter-widgets/controls",
          "model_module_version": "1.5.0",
          "model_name": "HTMLModel",
          "state": {
            "_dom_classes": [],
            "_model_module": "@jupyter-widgets/controls",
            "_model_module_version": "1.5.0",
            "_model_name": "HTMLModel",
            "_view_count": null,
            "_view_module": "@jupyter-widgets/controls",
            "_view_module_version": "1.5.0",
            "_view_name": "HTMLView",
            "description": "",
            "description_tooltip": null,
            "layout": "IPY_MODEL_0b5b4671188346379d4d14ef03693763",
            "placeholder": "​",
            "style": "IPY_MODEL_622d7ac45f604a958bd8e88673c395b7",
            "value": " 439k/439k [00:00&lt;00:00, 4.35MB/s]"
          }
        },
        "ef81e97290f24e3e8f80d4e55c935565": {
          "model_module": "@jupyter-widgets/controls",
          "model_module_version": "1.5.0",
          "model_name": "DescriptionStyleModel",
          "state": {
            "_model_module": "@jupyter-widgets/controls",
            "_model_module_version": "1.5.0",
            "_model_name": "DescriptionStyleModel",
            "_view_count": null,
            "_view_module": "@jupyter-widgets/base",
            "_view_module_version": "1.2.0",
            "_view_name": "StyleView",
            "description_width": ""
          }
        },
        "f0047d90ec144dd2ae9faf358fc6e374": {
          "model_module": "@jupyter-widgets/base",
          "model_module_version": "1.2.0",
          "model_name": "LayoutModel",
          "state": {
            "_model_module": "@jupyter-widgets/base",
            "_model_module_version": "1.2.0",
            "_model_name": "LayoutModel",
            "_view_count": null,
            "_view_module": "@jupyter-widgets/base",
            "_view_module_version": "1.2.0",
            "_view_name": "LayoutView",
            "align_content": null,
            "align_items": null,
            "align_self": null,
            "border": null,
            "bottom": null,
            "display": null,
            "flex": null,
            "flex_flow": null,
            "grid_area": null,
            "grid_auto_columns": null,
            "grid_auto_flow": null,
            "grid_auto_rows": null,
            "grid_column": null,
            "grid_gap": null,
            "grid_row": null,
            "grid_template_areas": null,
            "grid_template_columns": null,
            "grid_template_rows": null,
            "height": null,
            "justify_content": null,
            "justify_items": null,
            "left": null,
            "margin": null,
            "max_height": null,
            "max_width": null,
            "min_height": null,
            "min_width": null,
            "object_fit": null,
            "object_position": null,
            "order": null,
            "overflow": null,
            "overflow_x": null,
            "overflow_y": null,
            "padding": null,
            "right": null,
            "top": null,
            "visibility": null,
            "width": null
          }
        },
        "f2260e65f0a34baa8873371a314c6c81": {
          "model_module": "@jupyter-widgets/controls",
          "model_module_version": "1.5.0",
          "model_name": "DescriptionStyleModel",
          "state": {
            "_model_module": "@jupyter-widgets/controls",
            "_model_module_version": "1.5.0",
            "_model_name": "DescriptionStyleModel",
            "_view_count": null,
            "_view_module": "@jupyter-widgets/base",
            "_view_module_version": "1.2.0",
            "_view_name": "StyleView",
            "description_width": ""
          }
        },
        "f231610cd6a94a9991f0bb342e1c2038": {
          "model_module": "@jupyter-widgets/controls",
          "model_module_version": "1.5.0",
          "model_name": "FloatProgressModel",
          "state": {
            "_dom_classes": [],
            "_model_module": "@jupyter-widgets/controls",
            "_model_module_version": "1.5.0",
            "_model_name": "FloatProgressModel",
            "_view_count": null,
            "_view_module": "@jupyter-widgets/controls",
            "_view_module_version": "1.5.0",
            "_view_name": "ProgressView",
            "bar_style": "success",
            "description": "",
            "description_tooltip": null,
            "layout": "IPY_MODEL_8757785f765049a5bbc69e55515d65b0",
            "max": 204,
            "min": 0,
            "orientation": "horizontal",
            "style": "IPY_MODEL_b04ea51f1ef24397a8ad74b253354ddc",
            "value": 204
          }
        },
        "f2c8f3e8c4fc42d0a91d6cf70b464152": {
          "model_module": "@jupyter-widgets/controls",
          "model_module_version": "1.5.0",
          "model_name": "DescriptionStyleModel",
          "state": {
            "_model_module": "@jupyter-widgets/controls",
            "_model_module_version": "1.5.0",
            "_model_name": "DescriptionStyleModel",
            "_view_count": null,
            "_view_module": "@jupyter-widgets/base",
            "_view_module_version": "1.2.0",
            "_view_name": "StyleView",
            "description_width": ""
          }
        },
        "f4c2726489614fdebea3ba1ca7121952": {
          "model_module": "@jupyter-widgets/controls",
          "model_module_version": "1.5.0",
          "model_name": "FloatProgressModel",
          "state": {
            "_dom_classes": [],
            "_model_module": "@jupyter-widgets/controls",
            "_model_module_version": "1.5.0",
            "_model_name": "FloatProgressModel",
            "_view_count": null,
            "_view_module": "@jupyter-widgets/controls",
            "_view_module_version": "1.5.0",
            "_view_name": "ProgressView",
            "bar_style": "success",
            "description": "",
            "description_tooltip": null,
            "layout": "IPY_MODEL_f892bd155d0a480494e223a5137dee2e",
            "max": 109540,
            "min": 0,
            "orientation": "horizontal",
            "style": "IPY_MODEL_ec4f119e71884e91a42d774a21e91bcc",
            "value": 109540
          }
        },
        "f4e9e664f4ab4366a531088c8512b0ea": {
          "model_module": "@jupyter-widgets/controls",
          "model_module_version": "1.5.0",
          "model_name": "FloatProgressModel",
          "state": {
            "_dom_classes": [],
            "_model_module": "@jupyter-widgets/controls",
            "_model_module_version": "1.5.0",
            "_model_name": "FloatProgressModel",
            "_view_count": null,
            "_view_module": "@jupyter-widgets/controls",
            "_view_module_version": "1.5.0",
            "_view_name": "ProgressView",
            "bar_style": "success",
            "description": "",
            "description_tooltip": null,
            "layout": "IPY_MODEL_aee1ff9f701b4e12a4590e121098bf93",
            "max": 652146704,
            "min": 0,
            "orientation": "horizontal",
            "style": "IPY_MODEL_38d1f49c72254eb4a214c04a01783f94",
            "value": 652146704
          }
        },
        "f52b7c5b70fa4f3c90188eb3acf19fd9": {
          "model_module": "@jupyter-widgets/base",
          "model_module_version": "1.2.0",
          "model_name": "LayoutModel",
          "state": {
            "_model_module": "@jupyter-widgets/base",
            "_model_module_version": "1.2.0",
            "_model_name": "LayoutModel",
            "_view_count": null,
            "_view_module": "@jupyter-widgets/base",
            "_view_module_version": "1.2.0",
            "_view_name": "LayoutView",
            "align_content": null,
            "align_items": null,
            "align_self": null,
            "border": null,
            "bottom": null,
            "display": null,
            "flex": null,
            "flex_flow": null,
            "grid_area": null,
            "grid_auto_columns": null,
            "grid_auto_flow": null,
            "grid_auto_rows": null,
            "grid_column": null,
            "grid_gap": null,
            "grid_row": null,
            "grid_template_areas": null,
            "grid_template_columns": null,
            "grid_template_rows": null,
            "height": null,
            "justify_content": null,
            "justify_items": null,
            "left": null,
            "margin": null,
            "max_height": null,
            "max_width": null,
            "min_height": null,
            "min_width": null,
            "object_fit": null,
            "object_position": null,
            "order": null,
            "overflow": null,
            "overflow_x": null,
            "overflow_y": null,
            "padding": null,
            "right": null,
            "top": null,
            "visibility": null,
            "width": null
          }
        },
        "f689cc29e76f4ef680bc48779c64f97b": {
          "model_module": "@jupyter-widgets/controls",
          "model_module_version": "1.5.0",
          "model_name": "DescriptionStyleModel",
          "state": {
            "_model_module": "@jupyter-widgets/controls",
            "_model_module_version": "1.5.0",
            "_model_name": "DescriptionStyleModel",
            "_view_count": null,
            "_view_module": "@jupyter-widgets/base",
            "_view_module_version": "1.2.0",
            "_view_name": "StyleView",
            "description_width": ""
          }
        },
        "f892bd155d0a480494e223a5137dee2e": {
          "model_module": "@jupyter-widgets/base",
          "model_module_version": "1.2.0",
          "model_name": "LayoutModel",
          "state": {
            "_model_module": "@jupyter-widgets/base",
            "_model_module_version": "1.2.0",
            "_model_name": "LayoutModel",
            "_view_count": null,
            "_view_module": "@jupyter-widgets/base",
            "_view_module_version": "1.2.0",
            "_view_name": "LayoutView",
            "align_content": null,
            "align_items": null,
            "align_self": null,
            "border": null,
            "bottom": null,
            "display": null,
            "flex": null,
            "flex_flow": null,
            "grid_area": null,
            "grid_auto_columns": null,
            "grid_auto_flow": null,
            "grid_auto_rows": null,
            "grid_column": null,
            "grid_gap": null,
            "grid_row": null,
            "grid_template_areas": null,
            "grid_template_columns": null,
            "grid_template_rows": null,
            "height": null,
            "justify_content": null,
            "justify_items": null,
            "left": null,
            "margin": null,
            "max_height": null,
            "max_width": null,
            "min_height": null,
            "min_width": null,
            "object_fit": null,
            "object_position": null,
            "order": null,
            "overflow": null,
            "overflow_x": null,
            "overflow_y": null,
            "padding": null,
            "right": null,
            "top": null,
            "visibility": null,
            "width": null
          }
        },
        "f898982b53734c70b33ba679e6410cf0": {
          "model_module": "@jupyter-widgets/controls",
          "model_module_version": "1.5.0",
          "model_name": "HBoxModel",
          "state": {
            "_dom_classes": [],
            "_model_module": "@jupyter-widgets/controls",
            "_model_module_version": "1.5.0",
            "_model_name": "HBoxModel",
            "_view_count": null,
            "_view_module": "@jupyter-widgets/controls",
            "_view_module_version": "1.5.0",
            "_view_name": "HBoxView",
            "box_style": "",
            "children": [
              "IPY_MODEL_45196eb27fd044888c5fa2654f577478",
              "IPY_MODEL_2f98605e554141a8848bab6d23d20a57",
              "IPY_MODEL_c28620d5953f41f9b9b7db4496c8aec9"
            ],
            "layout": "IPY_MODEL_6560507bf0f54417ac6bf8cb63791373"
          }
        },
        "f9949fb372734d2792a9f533484e6273": {
          "model_module": "@jupyter-widgets/controls",
          "model_module_version": "1.5.0",
          "model_name": "DescriptionStyleModel",
          "state": {
            "_model_module": "@jupyter-widgets/controls",
            "_model_module_version": "1.5.0",
            "_model_name": "DescriptionStyleModel",
            "_view_count": null,
            "_view_module": "@jupyter-widgets/base",
            "_view_module_version": "1.2.0",
            "_view_name": "StyleView",
            "description_width": ""
          }
        },
        "fa30557f3c114a108950576056c2b85e": {
          "model_module": "@jupyter-widgets/controls",
          "model_module_version": "1.5.0",
          "model_name": "HTMLModel",
          "state": {
            "_dom_classes": [],
            "_model_module": "@jupyter-widgets/controls",
            "_model_module_version": "1.5.0",
            "_model_name": "HTMLModel",
            "_view_count": null,
            "_view_module": "@jupyter-widgets/controls",
            "_view_module_version": "1.5.0",
            "_view_name": "HTMLView",
            "description": "",
            "description_tooltip": null,
            "layout": "IPY_MODEL_6a5d78711a5f4e48b385db8d55385e4b",
            "placeholder": "​",
            "style": "IPY_MODEL_24afbf7775ff4aba834bc78741424414",
            "value": " 125/125 [00:00&lt;00:00, 4.06kB/s]"
          }
        },
        "fa683d6910284952a7212efd403c4fde": {
          "model_module": "@jupyter-widgets/controls",
          "model_module_version": "1.5.0",
          "model_name": "HBoxModel",
          "state": {
            "_dom_classes": [],
            "_model_module": "@jupyter-widgets/controls",
            "_model_module_version": "1.5.0",
            "_model_name": "HBoxModel",
            "_view_count": null,
            "_view_module": "@jupyter-widgets/controls",
            "_view_module_version": "1.5.0",
            "_view_name": "HBoxView",
            "box_style": "",
            "children": [
              "IPY_MODEL_4cd5b7178ca24efb925b143358a7db6f",
              "IPY_MODEL_b3be17a49ea04e4fb3c2a84407fa9956",
              "IPY_MODEL_85629af201d643d78b527476b7906eaa"
            ],
            "layout": "IPY_MODEL_943c61cc81d5477e9dff9a62f563ceb3"
          }
        },
        "fd2fe0d40c434b99a1865f4031d7b633": {
          "model_module": "@jupyter-widgets/base",
          "model_module_version": "1.2.0",
          "model_name": "LayoutModel",
          "state": {
            "_model_module": "@jupyter-widgets/base",
            "_model_module_version": "1.2.0",
            "_model_name": "LayoutModel",
            "_view_count": null,
            "_view_module": "@jupyter-widgets/base",
            "_view_module_version": "1.2.0",
            "_view_name": "LayoutView",
            "align_content": null,
            "align_items": null,
            "align_self": null,
            "border": null,
            "bottom": null,
            "display": null,
            "flex": null,
            "flex_flow": null,
            "grid_area": null,
            "grid_auto_columns": null,
            "grid_auto_flow": null,
            "grid_auto_rows": null,
            "grid_column": null,
            "grid_gap": null,
            "grid_row": null,
            "grid_template_areas": null,
            "grid_template_columns": null,
            "grid_template_rows": null,
            "height": null,
            "justify_content": null,
            "justify_items": null,
            "left": null,
            "margin": null,
            "max_height": null,
            "max_width": null,
            "min_height": null,
            "min_width": null,
            "object_fit": null,
            "object_position": null,
            "order": null,
            "overflow": null,
            "overflow_x": null,
            "overflow_y": null,
            "padding": null,
            "right": null,
            "top": null,
            "visibility": null,
            "width": null
          }
        }
      }
    }
  },
  "nbformat": 4,
  "nbformat_minor": 0
}
